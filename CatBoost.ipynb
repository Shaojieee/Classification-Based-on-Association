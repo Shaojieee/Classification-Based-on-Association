{
 "cells": [
  {
   "cell_type": "code",
   "execution_count": 3,
   "id": "c1e384eb",
   "metadata": {},
   "outputs": [],
   "source": [
    "import pandas as pd\n",
    "import numpy as np\n",
    "import time\n",
    "from catboost import CatBoostClassifier\n",
    "from sklearn.model_selection import train_test_split\n",
    "from sklearn.metrics import accuracy_score, recall_score, precision_score, f1_score\n",
    "pd.options.display.max_rows = 100\n",
    "pd.options.display.max_columns = 100"
   ]
  },
  {
   "cell_type": "markdown",
   "id": "568cb479",
   "metadata": {},
   "source": [
    "# breast_w"
   ]
  },
  {
   "cell_type": "code",
   "execution_count": 5,
   "id": "2296cebc",
   "metadata": {},
   "outputs": [
    {
     "name": "stdout",
     "output_type": "stream",
     "text": [
      "-------------Train-------------\n",
      "Fit Time: 0.9127762317657471\n",
      "-------------Test-------------\n",
      "Test Accuracy:0.9855072463768116\n"
     ]
    }
   ],
   "source": [
    "data = pd.read_csv('./data/breast_w/clean_breast_w.csv', index_col=0)\n",
    "\n",
    "data = data.replace('?', None)\n",
    "data = data.dropna()\n",
    "\n",
    "# Train Test Split\n",
    "train_df, test_df = train_test_split(data, test_size=0.1, random_state=42)\n",
    "x_train = train_df.drop(columns=['class'])\n",
    "y_train = train_df['class']\n",
    "x_test = test_df.drop(columns=['class'])\n",
    "y_test = test_df['class']\n",
    "\n",
    "cat_boost = CatBoostClassifier(verbose=False)\n",
    "# Calculating Fit Time\n",
    "start = time.time()\n",
    "cat_boost = cat_boost.fit(x_train, y_train)\n",
    "end = time.time()\n",
    "\n",
    "# Test Accuracy\n",
    "y_pred = cat_boost.predict(x_test)\n",
    "test_accuracy = accuracy_score(y_test, y_pred)\n",
    "\n",
    "\n",
    "print('-------------Train-------------')\n",
    "print(f'Fit Time: {end-start}')\n",
    "\n",
    "print('-------------Test-------------')\n",
    "print(f'Test Accuracy:{test_accuracy}')"
   ]
  },
  {
   "cell_type": "markdown",
   "id": "7a62518b",
   "metadata": {},
   "source": [
    "# gender"
   ]
  },
  {
   "cell_type": "code",
   "execution_count": 9,
   "id": "bd26d586",
   "metadata": {},
   "outputs": [
    {
     "name": "stdout",
     "output_type": "stream",
     "text": [
      "-------------Train-------------\n",
      "Fit Time: 1.9523448944091797\n",
      "-------------Test-------------\n",
      "Test Accuracy:0.42857142857142855\n"
     ]
    }
   ],
   "source": [
    "data = pd.read_csv('./data/gender/gender.csv', index_col=0)\n",
    "\n",
    "#Train Test Split\n",
    "train_df, test_df = train_test_split(data, test_size=0.1, random_state=42)\n",
    "\n",
    "cat_indexes = [0,1,2,3]\n",
    "x_train = train_df.drop(columns=['Gender'])\n",
    "y_train = train_df['Gender']\n",
    "x_test = test_df.drop(columns=['Gender'])\n",
    "y_test = test_df['Gender']\n",
    "\n",
    "cat_boost = CatBoostClassifier(verbose=False)\n",
    "# Calculating Fit Time\n",
    "start = time.time()\n",
    "cat_boost = cat_boost.fit(x_train, y_train,cat_indexes)\n",
    "end = time.time()\n",
    "\n",
    "# Test Accucracy\n",
    "y_pred = cat_boost.predict(x_test)\n",
    "test_accuracy = accuracy_score(y_test, y_pred)\n",
    "\n",
    "print('-------------Train-------------')\n",
    "print(f'Fit Time: {end-start}')\n",
    "\n",
    "print('-------------Test-------------')\n",
    "print(f'Test Accuracy:{test_accuracy}')"
   ]
  },
  {
   "cell_type": "markdown",
   "id": "c2729b97",
   "metadata": {},
   "source": [
    "# german"
   ]
  },
  {
   "cell_type": "code",
   "execution_count": 10,
   "id": "e60b8bde",
   "metadata": {},
   "outputs": [
    {
     "name": "stdout",
     "output_type": "stream",
     "text": [
      "-------------Train-------------\n",
      "Fit Time: 4.8281309604644775\n",
      "-------------Test-------------\n",
      "Test Accuracy:0.78\n"
     ]
    }
   ],
   "source": [
    "data=pd.read_csv('./data/german/german.data',header=None)\n",
    "\n",
    "# Data Cleaning\n",
    "data.columns=['status_of_existing_checking_account duration_(months) credit_history purpose credit_amount savings_account/bonds present_employment_since installment_rate personal_status_sex other_debtors present_residence property age other_installment_plans housing number_of_existing_credits job no._of_people_being_liable_to_provide_maintenance telephone foreign_worker class']\n",
    "data[data.columns[0].split(' ')] = data.iloc[:,0].str.split(' ', expand=True)\n",
    "data.drop(data.columns[0], axis=1, inplace=True)\n",
    "int_columns = ['duration_(months)','credit_amount', 'age']\n",
    "data[int_columns] = data[int_columns].astype('float')\n",
    "\n",
    "# Train Test Split\n",
    "train_df, test_df = train_test_split(data, test_size=0.1, random_state=42)\n",
    "x_train = train_df.drop(columns=['class'])\n",
    "y_train = train_df['class']\n",
    "x_test = test_df.drop(columns=['class'])\n",
    "y_test = test_df['class']\n",
    "\n",
    "cat_columns = [0,2,3,5,6,7,8,9,10,11,13,14,15,16,17,18,19]\n",
    "cat_boost = CatBoostClassifier(verbose=False)\n",
    "start = time.time()\n",
    "cat_boost = cat_boost.fit(x_train, y_train, cat_columns)\n",
    "end = time.time()\n",
    "\n",
    "# Test Accucracy\n",
    "y_pred = cat_boost.predict(x_test)\n",
    "test_accuracy = accuracy_score(y_test, y_pred)\n",
    "\n",
    "print('-------------Train-------------')\n",
    "print(f'Fit Time: {end-start}')\n",
    "\n",
    "print('-------------Test-------------')\n",
    "print(f'Test Accuracy:{test_accuracy}')\n"
   ]
  },
  {
   "cell_type": "markdown",
   "id": "dd5d2a0f",
   "metadata": {},
   "source": [
    "# Hepatitis"
   ]
  },
  {
   "cell_type": "code",
   "execution_count": 11,
   "id": "1d013ebe",
   "metadata": {},
   "outputs": [
    {
     "name": "stdout",
     "output_type": "stream",
     "text": [
      "-------------Train-------------\n",
      "Fit Time: 4.8281309604644775\n",
      "-------------Test-------------\n",
      "Test Accuracy:0.875\n"
     ]
    }
   ],
   "source": [
    "df_hepatitis=pd.read_csv('./data/hepatitis/hepatitis.csv',header=None)\n",
    "\n",
    "# Data Cleaning\n",
    "df_hepatitis.columns=['class,age,sex,steroid,antivirals,fatigue,malaise,anorexia,big liver,firm liver,palpable spleen,spiders,ascites,varices,bilirubin,phosphate,sgot,albumin,protime,histology']\n",
    "df_hepatitis[df_hepatitis.columns[0].split(',')] = df_hepatitis.iloc[:,0].str.split(',', expand=True)\n",
    "df_hepatitis.drop(df_hepatitis.columns[0],axis=1,inplace=True)\n",
    "df_hepatitis=df_hepatitis.replace('?',np.nan).dropna().reset_index(drop=True)\n",
    "data = df_hepatitis.copy()\n",
    "df_hepatitis=None\n",
    "int_columns = ['age', 'bilirubin', 'phosphate', 'sgot', 'albumin', 'protime']\n",
    "data[int_columns] = data[int_columns].astype('float')\n",
    "\n",
    "# Train Test Split\n",
    "train_df, test_df = train_test_split(data, test_size=0.1, random_state=42)\n",
    "x_train = train_df.drop(columns=['class'])\n",
    "y_train = train_df['class']\n",
    "x_test = test_df.drop(columns=['class'])\n",
    "y_test = test_df['class']\n",
    "\n",
    "#Calculating Fit Time\n",
    "cat_columns = [1,2,3,4,5,6,7,8,9,10,11,12,18]\n",
    "cat_boost = CatBoostClassifier(verbose=False)\n",
    "cat_boost = cat_boost.fit(x_train, y_train, cat_columns)\n",
    "\n",
    "# Test Accucracy\n",
    "y_pred = cat_boost.predict(x_test)\n",
    "test_accuracy = accuracy_score(y_test, y_pred)\n",
    "\n",
    "print('-------------Train-------------')\n",
    "print(f'Fit Time: {end-start}')\n",
    "\n",
    "print('-------------Test-------------')\n",
    "print(f'Test Accuracy:{test_accuracy}')"
   ]
  },
  {
   "cell_type": "markdown",
   "id": "1189d324",
   "metadata": {},
   "source": [
    "# mobile"
   ]
  },
  {
   "cell_type": "code",
   "execution_count": 15,
   "id": "ded67454",
   "metadata": {},
   "outputs": [
    {
     "name": "stdout",
     "output_type": "stream",
     "text": [
      "-------------Train-------------\n",
      "Fit Time: 4.802430868148804\n",
      "-------------Test-------------\n",
      "Test Accuracy:0.93\n"
     ]
    }
   ],
   "source": [
    "data = pd.read_csv('./data/mobile/train.csv')\n",
    "\n",
    "#Train Test Split\n",
    "train_df, test_df = train_test_split(data, test_size=0.1, random_state=42)\n",
    "x_train = train_df.drop(columns=['price_range'])\n",
    "y_train = train_df['price_range']\n",
    "x_test = test_df.drop(columns=['price_range'])\n",
    "y_test = test_df['price_range']\n",
    "\n",
    "#Calculating Fit Time\n",
    "cat_columns = [1,3,5,9,17,18,19]\n",
    "cat_boost = CatBoostClassifier(verbose=False)\n",
    "start = time.time()\n",
    "cat_boost = cat_boost.fit(x_train, y_train, cat_columns)\n",
    "end = time.time()\n",
    "\n",
    "# Test Accucracy\n",
    "y_pred = cat_boost.predict(x_test)\n",
    "test_accuracy = accuracy_score(y_test, y_pred)\n",
    "\n",
    "print('-------------Train-------------')\n",
    "print(f'Fit Time: {end-start}')\n",
    "\n",
    "print('-------------Test-------------')\n",
    "print(f'Test Accuracy:{test_accuracy}')"
   ]
  },
  {
   "cell_type": "markdown",
   "id": "165d9fa2",
   "metadata": {},
   "source": [
    "# stroke"
   ]
  },
  {
   "cell_type": "code",
   "execution_count": 16,
   "id": "c1f08985",
   "metadata": {},
   "outputs": [
    {
     "name": "stdout",
     "output_type": "stream",
     "text": [
      "-------------Train-------------\n",
      "Fit Time: 2.8142902851104736\n",
      "-------------Test-------------\n",
      "Test Accuracy:0.8623853211009175\n"
     ]
    }
   ],
   "source": [
    "df_train=pd.read_csv('./data/stroke/train.csv')\n",
    "df_test=pd.read_csv('./data/stroke/test.csv')\n",
    "df_merged=pd.concat([df_train,df_test])\n",
    "\n",
    "#Data Cleaning\n",
    "df_merged=df_merged.replace('*82','82')\n",
    "data=df_merged.drop(columns=['id']).dropna()\n",
    "\n",
    "int_columns = ['age', 'avg_glucose_level', 'bmi']\n",
    "data[int_columns] = data[int_columns].astype('float')\n",
    "\n",
    "#Train Test Split\n",
    "train_df, test_df = train_test_split(data, test_size=0.1, random_state=42)\n",
    "x_train = train_df.drop(columns=['stroke'])\n",
    "y_train = train_df['stroke']\n",
    "x_test = test_df.drop(columns=['stroke'])\n",
    "y_test = test_df['stroke']\n",
    "\n",
    "#Calculating Fit Time\n",
    "cat_columns = [0,2,3,4,5,6,9]\n",
    "cat_boost = CatBoostClassifier(verbose=False)\n",
    "start = time.time()\n",
    "cat_boost = cat_boost.fit(x_train, y_train, cat_columns)\n",
    "end = time.time()\n",
    "\n",
    "# Test Accucracy\n",
    "y_pred = cat_boost.predict(x_test)\n",
    "test_accuracy = accuracy_score(y_test, y_pred)\n",
    "\n",
    "print('-------------Train-------------')\n",
    "print(f'Fit Time: {end-start}')\n",
    "\n",
    "print('-------------Test-------------')\n",
    "print(f'Test Accuracy:{test_accuracy}')"
   ]
  },
  {
   "cell_type": "markdown",
   "id": "69fbf87a",
   "metadata": {},
   "source": [
    "# tic tac toe"
   ]
  },
  {
   "cell_type": "code",
   "execution_count": 17,
   "id": "4da11d21",
   "metadata": {},
   "outputs": [
    {
     "name": "stdout",
     "output_type": "stream",
     "text": [
      "-------------Train-------------\n",
      "Fit Time: 4.050205945968628\n",
      "-------------Test-------------\n",
      "Test Accuracy:1.0\n"
     ]
    }
   ],
   "source": [
    "data = pd.read_csv('./data/tic_tac_toe/clean_tic-tac-toe.csv', index_col=0)\n",
    "\n",
    "# Train Test Split\n",
    "train_df, test_df = train_test_split(data, test_size=0.1, random_state=42)\n",
    "x_train = train_df.drop(columns=['class'])\n",
    "y_train = train_df['class']\n",
    "x_test = test_df.drop(columns=['class'])\n",
    "y_test = test_df['class']\n",
    "\n",
    "#Calculating Fit Time\n",
    "cat_columns = [0,1,2,3,4,5,6,7,8]\n",
    "cat_boost = CatBoostClassifier(verbose=False)\n",
    "start =time.time()\n",
    "cat_boost = cat_boost.fit(x_train, y_train, cat_columns)\n",
    "end = time.time()\n",
    "\n",
    "# Test Accucracy\n",
    "y_pred = cat_boost.predict(x_test)\n",
    "test_accuracy = accuracy_score(y_test, y_pred)\n",
    "\n",
    "print('-------------Train-------------')\n",
    "print(f'Fit Time: {end-start}')\n",
    "\n",
    "print('-------------Test-------------')\n",
    "print(f'Test Accuracy:{test_accuracy}')"
   ]
  },
  {
   "cell_type": "markdown",
   "id": "c9be10a2",
   "metadata": {},
   "source": [
    "# zoo"
   ]
  },
  {
   "cell_type": "code",
   "execution_count": 18,
   "id": "7ccd1b69",
   "metadata": {},
   "outputs": [
    {
     "name": "stdout",
     "output_type": "stream",
     "text": [
      "-------------Train-------------\n",
      "Fit Time: 4.8560779094696045\n",
      "-------------Test-------------\n",
      "Test Accuracy:1.0\n"
     ]
    }
   ],
   "source": [
    "data = pd.read_csv('./data/zoo/clean_zoo.csv', index_col=0)\n",
    "\n",
    "#Train Test Split\n",
    "train_df, test_df = train_test_split(data, test_size=0.1, random_state=42)\n",
    "x_train = train_df.drop(columns=['type'])\n",
    "y_train = train_df['type']\n",
    "x_test = test_df.drop(columns=['type'])\n",
    "y_test = test_df['type']\n",
    "\n",
    "#Calculating Fit Time\n",
    "cat_columns = [0,1,2,3,4,5,6,7,8,9,10,11,12,13,14,15]\n",
    "cat_boost = CatBoostClassifier(verbose=False)\n",
    "start = time.time()\n",
    "cat_boost = cat_boost.fit(x_train, y_train, cat_columns)\n",
    "end = time.time()\n",
    "\n",
    "# Test Accucracy\n",
    "y_pred = cat_boost.predict(x_test)\n",
    "test_accuracy = accuracy_score(y_test, y_pred)\n",
    "\n",
    "print('-------------Train-------------')\n",
    "print(f'Fit Time: {end-start}')\n",
    "\n",
    "print('-------------Test-------------')\n",
    "print(f'Test Accuracy:{test_accuracy}')"
   ]
  },
  {
   "cell_type": "code",
   "execution_count": null,
   "id": "7c20ad20",
   "metadata": {},
   "outputs": [],
   "source": []
  }
 ],
 "metadata": {
  "kernelspec": {
   "display_name": "Python 3.9.13 ('CZ4032')",
   "language": "python",
   "name": "python3"
  },
  "language_info": {
   "codemirror_mode": {
    "name": "ipython",
    "version": 3
   },
   "file_extension": ".py",
   "mimetype": "text/x-python",
   "name": "python",
   "nbconvert_exporter": "python",
   "pygments_lexer": "ipython3",
   "version": "3.9.13"
  },
  "vscode": {
   "interpreter": {
    "hash": "b9b27be08e48c29322755f0251eb5614d5a17160f46797c7e1b02e0b37e09a34"
   }
  }
 },
 "nbformat": 4,
 "nbformat_minor": 5
}
