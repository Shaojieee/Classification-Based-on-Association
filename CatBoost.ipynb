{
 "cells": [
  {
   "cell_type": "code",
   "execution_count": 169,
   "id": "c1e384eb",
   "metadata": {},
   "outputs": [],
   "source": [
    "import pandas as pd\n",
    "import numpy as np\n",
    "from catboost import CatBoostClassifier\n",
    "from sklearn.model_selection import train_test_split\n",
    "from sklearn.metrics import accuracy_score, recall_score, precision_score, f1_score\n",
    "pd.options.display.max_rows = 100\n",
    "pd.options.display.max_columns = 100"
   ]
  },
  {
   "cell_type": "markdown",
   "id": "568cb479",
   "metadata": {},
   "source": [
    "# breast_w"
   ]
  },
  {
   "cell_type": "code",
   "execution_count": 71,
   "id": "2296cebc",
   "metadata": {},
   "outputs": [],
   "source": [
    "data = pd.read_csv('./data/breast_w/clean_breast_w.csv', index_col=0)"
   ]
  },
  {
   "cell_type": "code",
   "execution_count": 72,
   "id": "7b21356a",
   "metadata": {
    "scrolled": true
   },
   "outputs": [
    {
     "data": {
      "text/html": [
       "<div>\n",
       "<style scoped>\n",
       "    .dataframe tbody tr th:only-of-type {\n",
       "        vertical-align: middle;\n",
       "    }\n",
       "\n",
       "    .dataframe tbody tr th {\n",
       "        vertical-align: top;\n",
       "    }\n",
       "\n",
       "    .dataframe thead th {\n",
       "        text-align: right;\n",
       "    }\n",
       "</style>\n",
       "<table border=\"1\" class=\"dataframe\">\n",
       "  <thead>\n",
       "    <tr style=\"text-align: right;\">\n",
       "      <th></th>\n",
       "      <th>clump_thickness</th>\n",
       "      <th>uniformity_of_cell_size</th>\n",
       "      <th>uniformity_of_cell_shape</th>\n",
       "      <th>marginal_adhension</th>\n",
       "      <th>single_epithelial_cell_size</th>\n",
       "      <th>bare_nuclei</th>\n",
       "      <th>bland_chromatin</th>\n",
       "      <th>normal_nucleoli</th>\n",
       "      <th>mitoses</th>\n",
       "      <th>class</th>\n",
       "    </tr>\n",
       "  </thead>\n",
       "  <tbody>\n",
       "    <tr>\n",
       "      <th>0</th>\n",
       "      <td>5</td>\n",
       "      <td>1</td>\n",
       "      <td>1</td>\n",
       "      <td>1</td>\n",
       "      <td>2</td>\n",
       "      <td>1</td>\n",
       "      <td>3</td>\n",
       "      <td>1</td>\n",
       "      <td>1</td>\n",
       "      <td>2</td>\n",
       "    </tr>\n",
       "    <tr>\n",
       "      <th>1</th>\n",
       "      <td>5</td>\n",
       "      <td>4</td>\n",
       "      <td>4</td>\n",
       "      <td>5</td>\n",
       "      <td>7</td>\n",
       "      <td>10</td>\n",
       "      <td>3</td>\n",
       "      <td>2</td>\n",
       "      <td>1</td>\n",
       "      <td>2</td>\n",
       "    </tr>\n",
       "    <tr>\n",
       "      <th>2</th>\n",
       "      <td>3</td>\n",
       "      <td>1</td>\n",
       "      <td>1</td>\n",
       "      <td>1</td>\n",
       "      <td>2</td>\n",
       "      <td>2</td>\n",
       "      <td>3</td>\n",
       "      <td>1</td>\n",
       "      <td>1</td>\n",
       "      <td>2</td>\n",
       "    </tr>\n",
       "    <tr>\n",
       "      <th>3</th>\n",
       "      <td>6</td>\n",
       "      <td>8</td>\n",
       "      <td>8</td>\n",
       "      <td>1</td>\n",
       "      <td>3</td>\n",
       "      <td>4</td>\n",
       "      <td>3</td>\n",
       "      <td>7</td>\n",
       "      <td>1</td>\n",
       "      <td>2</td>\n",
       "    </tr>\n",
       "    <tr>\n",
       "      <th>4</th>\n",
       "      <td>4</td>\n",
       "      <td>1</td>\n",
       "      <td>1</td>\n",
       "      <td>3</td>\n",
       "      <td>2</td>\n",
       "      <td>1</td>\n",
       "      <td>3</td>\n",
       "      <td>1</td>\n",
       "      <td>1</td>\n",
       "      <td>2</td>\n",
       "    </tr>\n",
       "  </tbody>\n",
       "</table>\n",
       "</div>"
      ],
      "text/plain": [
       "   clump_thickness  uniformity_of_cell_size  uniformity_of_cell_shape  \\\n",
       "0                5                        1                         1   \n",
       "1                5                        4                         4   \n",
       "2                3                        1                         1   \n",
       "3                6                        8                         8   \n",
       "4                4                        1                         1   \n",
       "\n",
       "   marginal_adhension  single_epithelial_cell_size bare_nuclei  \\\n",
       "0                   1                            2           1   \n",
       "1                   5                            7          10   \n",
       "2                   1                            2           2   \n",
       "3                   1                            3           4   \n",
       "4                   3                            2           1   \n",
       "\n",
       "   bland_chromatin  normal_nucleoli  mitoses  class  \n",
       "0                3                1        1      2  \n",
       "1                3                2        1      2  \n",
       "2                3                1        1      2  \n",
       "3                3                7        1      2  \n",
       "4                3                1        1      2  "
      ]
     },
     "execution_count": 72,
     "metadata": {},
     "output_type": "execute_result"
    }
   ],
   "source": [
    "data.head()"
   ]
  },
  {
   "cell_type": "code",
   "execution_count": 73,
   "id": "e2d0487b",
   "metadata": {},
   "outputs": [],
   "source": [
    "data = data.replace('?', None)\n",
    "data = data.dropna()"
   ]
  },
  {
   "cell_type": "code",
   "execution_count": 74,
   "id": "0837bbcc",
   "metadata": {},
   "outputs": [],
   "source": [
    "train_df, test_df = train_test_split(data, test_size=0.1, random_state=42)"
   ]
  },
  {
   "cell_type": "code",
   "execution_count": 75,
   "id": "4eb4239b",
   "metadata": {},
   "outputs": [],
   "source": [
    "x_train = train_df.drop(columns=['class'])\n",
    "y_train = train_df['class']\n",
    "x_test = test_df.drop(columns=['class'])\n",
    "y_test = test_df['class']"
   ]
  },
  {
   "cell_type": "code",
   "execution_count": 76,
   "id": "df2df656",
   "metadata": {},
   "outputs": [
    {
     "name": "stdout",
     "output_type": "stream",
     "text": [
      "CPU times: total: 13.6 s\n",
      "Wall time: 1.17 s\n"
     ]
    }
   ],
   "source": [
    "%%time\n",
    "cat_boost = CatBoostClassifier(verbose=False)\n",
    "cat_boost = cat_boost.fit(x_train, y_train)"
   ]
  },
  {
   "cell_type": "code",
   "execution_count": 77,
   "id": "bb614c70",
   "metadata": {},
   "outputs": [],
   "source": [
    "y_pred = cat_boost.predict(x_test)"
   ]
  },
  {
   "cell_type": "code",
   "execution_count": 78,
   "id": "d0c6eb0e",
   "metadata": {},
   "outputs": [
    {
     "data": {
      "text/plain": [
       "0.9855072463768116"
      ]
     },
     "execution_count": 78,
     "metadata": {},
     "output_type": "execute_result"
    }
   ],
   "source": [
    "accuracy_score(y_test, y_pred)"
   ]
  },
  {
   "cell_type": "code",
   "execution_count": 93,
   "id": "b69054d0",
   "metadata": {
    "scrolled": true
   },
   "outputs": [
    {
     "data": {
      "text/plain": [
       "0.9666666666666667"
      ]
     },
     "execution_count": 93,
     "metadata": {},
     "output_type": "execute_result"
    }
   ],
   "source": [
    "recall_score(y_test, y_pred, pos_label=4)"
   ]
  },
  {
   "cell_type": "code",
   "execution_count": 95,
   "id": "7740ef70",
   "metadata": {},
   "outputs": [
    {
     "data": {
      "text/plain": [
       "1.0"
      ]
     },
     "execution_count": 95,
     "metadata": {},
     "output_type": "execute_result"
    }
   ],
   "source": [
    "precision_score(y_test, y_pred, pos_label=4)"
   ]
  },
  {
   "cell_type": "code",
   "execution_count": 118,
   "id": "b508d1e0",
   "metadata": {},
   "outputs": [
    {
     "data": {
      "text/plain": [
       "0.983050847457627"
      ]
     },
     "execution_count": 118,
     "metadata": {},
     "output_type": "execute_result"
    }
   ],
   "source": [
    "f1_score(y_test, y_pred, pos_label=4)"
   ]
  },
  {
   "cell_type": "markdown",
   "id": "7a62518b",
   "metadata": {},
   "source": [
    "# gender"
   ]
  },
  {
   "cell_type": "code",
   "execution_count": 139,
   "id": "bd26d586",
   "metadata": {},
   "outputs": [],
   "source": [
    "data = pd.read_csv('./data/gender/gender.csv', index_col=0)"
   ]
  },
  {
   "cell_type": "code",
   "execution_count": 140,
   "id": "84b33f06",
   "metadata": {},
   "outputs": [
    {
     "data": {
      "text/html": [
       "<div>\n",
       "<style scoped>\n",
       "    .dataframe tbody tr th:only-of-type {\n",
       "        vertical-align: middle;\n",
       "    }\n",
       "\n",
       "    .dataframe tbody tr th {\n",
       "        vertical-align: top;\n",
       "    }\n",
       "\n",
       "    .dataframe thead th {\n",
       "        text-align: right;\n",
       "    }\n",
       "</style>\n",
       "<table border=\"1\" class=\"dataframe\">\n",
       "  <thead>\n",
       "    <tr style=\"text-align: right;\">\n",
       "      <th></th>\n",
       "      <th>Favorite Color</th>\n",
       "      <th>Favorite Music Genre</th>\n",
       "      <th>Favorite Beverage</th>\n",
       "      <th>Favorite Soft Drink</th>\n",
       "      <th>Gender</th>\n",
       "    </tr>\n",
       "  </thead>\n",
       "  <tbody>\n",
       "    <tr>\n",
       "      <th>0</th>\n",
       "      <td>Cool</td>\n",
       "      <td>Rock</td>\n",
       "      <td>Vodka</td>\n",
       "      <td>7UP/Sprite</td>\n",
       "      <td>F</td>\n",
       "    </tr>\n",
       "    <tr>\n",
       "      <th>1</th>\n",
       "      <td>Neutral</td>\n",
       "      <td>Hip hop</td>\n",
       "      <td>Vodka</td>\n",
       "      <td>Coca Cola/Pepsi</td>\n",
       "      <td>F</td>\n",
       "    </tr>\n",
       "    <tr>\n",
       "      <th>2</th>\n",
       "      <td>Warm</td>\n",
       "      <td>Rock</td>\n",
       "      <td>Wine</td>\n",
       "      <td>Coca Cola/Pepsi</td>\n",
       "      <td>F</td>\n",
       "    </tr>\n",
       "    <tr>\n",
       "      <th>3</th>\n",
       "      <td>Warm</td>\n",
       "      <td>Folk/Traditional</td>\n",
       "      <td>Whiskey</td>\n",
       "      <td>Fanta</td>\n",
       "      <td>F</td>\n",
       "    </tr>\n",
       "    <tr>\n",
       "      <th>4</th>\n",
       "      <td>Cool</td>\n",
       "      <td>Rock</td>\n",
       "      <td>Vodka</td>\n",
       "      <td>Coca Cola/Pepsi</td>\n",
       "      <td>F</td>\n",
       "    </tr>\n",
       "  </tbody>\n",
       "</table>\n",
       "</div>"
      ],
      "text/plain": [
       "  Favorite Color Favorite Music Genre Favorite Beverage Favorite Soft Drink  \\\n",
       "0           Cool                 Rock             Vodka          7UP/Sprite   \n",
       "1        Neutral              Hip hop             Vodka     Coca Cola/Pepsi   \n",
       "2           Warm                 Rock              Wine     Coca Cola/Pepsi   \n",
       "3           Warm     Folk/Traditional           Whiskey               Fanta   \n",
       "4           Cool                 Rock             Vodka     Coca Cola/Pepsi   \n",
       "\n",
       "  Gender  \n",
       "0      F  \n",
       "1      F  \n",
       "2      F  \n",
       "3      F  \n",
       "4      F  "
      ]
     },
     "execution_count": 140,
     "metadata": {},
     "output_type": "execute_result"
    }
   ],
   "source": [
    "data.head()"
   ]
  },
  {
   "cell_type": "code",
   "execution_count": 141,
   "id": "9728d2bf",
   "metadata": {},
   "outputs": [
    {
     "name": "stdout",
     "output_type": "stream",
     "text": [
      "<class 'pandas.core.frame.DataFrame'>\n",
      "Int64Index: 66 entries, 0 to 65\n",
      "Data columns (total 5 columns):\n",
      " #   Column                Non-Null Count  Dtype \n",
      "---  ------                --------------  ----- \n",
      " 0   Favorite Color        66 non-null     object\n",
      " 1   Favorite Music Genre  66 non-null     object\n",
      " 2   Favorite Beverage     66 non-null     object\n",
      " 3   Favorite Soft Drink   66 non-null     object\n",
      " 4   Gender                66 non-null     object\n",
      "dtypes: object(5)\n",
      "memory usage: 3.1+ KB\n"
     ]
    }
   ],
   "source": [
    "data.info()"
   ]
  },
  {
   "cell_type": "code",
   "execution_count": 142,
   "id": "69e660f8",
   "metadata": {
    "scrolled": true
   },
   "outputs": [
    {
     "data": {
      "text/plain": [
       "array(['Cool', 'Neutral', 'Warm'], dtype=object)"
      ]
     },
     "execution_count": 142,
     "metadata": {},
     "output_type": "execute_result"
    }
   ],
   "source": [
    "data['Favorite Color'].unique()"
   ]
  },
  {
   "cell_type": "code",
   "execution_count": 143,
   "id": "a7ca312b",
   "metadata": {},
   "outputs": [
    {
     "data": {
      "text/plain": [
       "array(['Rock', 'Hip hop', 'Folk/Traditional', 'Jazz/Blues', 'Pop',\n",
       "       'Electronic', 'R&B and soul'], dtype=object)"
      ]
     },
     "execution_count": 143,
     "metadata": {},
     "output_type": "execute_result"
    }
   ],
   "source": [
    "data['Favorite Music Genre'].unique()"
   ]
  },
  {
   "cell_type": "code",
   "execution_count": 144,
   "id": "a4f5dfd6",
   "metadata": {},
   "outputs": [
    {
     "data": {
      "text/plain": [
       "array(['Vodka', 'Wine', 'Whiskey', \"Doesn't drink\", 'Beer', 'Other'],\n",
       "      dtype=object)"
      ]
     },
     "execution_count": 144,
     "metadata": {},
     "output_type": "execute_result"
    }
   ],
   "source": [
    "data['Favorite Beverage'].unique()"
   ]
  },
  {
   "cell_type": "code",
   "execution_count": 145,
   "id": "2d04bd03",
   "metadata": {},
   "outputs": [
    {
     "data": {
      "text/plain": [
       "array(['7UP/Sprite', 'Coca Cola/Pepsi', 'Fanta', 'Other'], dtype=object)"
      ]
     },
     "execution_count": 145,
     "metadata": {},
     "output_type": "execute_result"
    }
   ],
   "source": [
    "data['Favorite Soft Drink'].unique()"
   ]
  },
  {
   "cell_type": "code",
   "execution_count": 146,
   "id": "8e2ee2dc",
   "metadata": {},
   "outputs": [
    {
     "data": {
      "text/plain": [
       "array(['F', 'M'], dtype=object)"
      ]
     },
     "execution_count": 146,
     "metadata": {},
     "output_type": "execute_result"
    }
   ],
   "source": [
    "data['Gender'].unique()"
   ]
  },
  {
   "cell_type": "code",
   "execution_count": 147,
   "id": "726a9062",
   "metadata": {},
   "outputs": [
    {
     "data": {
      "text/html": [
       "<div>\n",
       "<style scoped>\n",
       "    .dataframe tbody tr th:only-of-type {\n",
       "        vertical-align: middle;\n",
       "    }\n",
       "\n",
       "    .dataframe tbody tr th {\n",
       "        vertical-align: top;\n",
       "    }\n",
       "\n",
       "    .dataframe thead th {\n",
       "        text-align: right;\n",
       "    }\n",
       "</style>\n",
       "<table border=\"1\" class=\"dataframe\">\n",
       "  <thead>\n",
       "    <tr style=\"text-align: right;\">\n",
       "      <th></th>\n",
       "      <th>Favorite Color</th>\n",
       "      <th>Favorite Music Genre</th>\n",
       "      <th>Favorite Beverage</th>\n",
       "      <th>Favorite Soft Drink</th>\n",
       "      <th>Gender</th>\n",
       "    </tr>\n",
       "  </thead>\n",
       "  <tbody>\n",
       "    <tr>\n",
       "      <th>0</th>\n",
       "      <td>Cool</td>\n",
       "      <td>Rock</td>\n",
       "      <td>Vodka</td>\n",
       "      <td>7UP/Sprite</td>\n",
       "      <td>F</td>\n",
       "    </tr>\n",
       "    <tr>\n",
       "      <th>1</th>\n",
       "      <td>Neutral</td>\n",
       "      <td>Hip hop</td>\n",
       "      <td>Vodka</td>\n",
       "      <td>Coca Cola/Pepsi</td>\n",
       "      <td>F</td>\n",
       "    </tr>\n",
       "    <tr>\n",
       "      <th>2</th>\n",
       "      <td>Warm</td>\n",
       "      <td>Rock</td>\n",
       "      <td>Wine</td>\n",
       "      <td>Coca Cola/Pepsi</td>\n",
       "      <td>F</td>\n",
       "    </tr>\n",
       "    <tr>\n",
       "      <th>3</th>\n",
       "      <td>Warm</td>\n",
       "      <td>Folk/Traditional</td>\n",
       "      <td>Whiskey</td>\n",
       "      <td>Fanta</td>\n",
       "      <td>F</td>\n",
       "    </tr>\n",
       "    <tr>\n",
       "      <th>4</th>\n",
       "      <td>Cool</td>\n",
       "      <td>Rock</td>\n",
       "      <td>Vodka</td>\n",
       "      <td>Coca Cola/Pepsi</td>\n",
       "      <td>F</td>\n",
       "    </tr>\n",
       "  </tbody>\n",
       "</table>\n",
       "</div>"
      ],
      "text/plain": [
       "  Favorite Color Favorite Music Genre Favorite Beverage Favorite Soft Drink  \\\n",
       "0           Cool                 Rock             Vodka          7UP/Sprite   \n",
       "1        Neutral              Hip hop             Vodka     Coca Cola/Pepsi   \n",
       "2           Warm                 Rock              Wine     Coca Cola/Pepsi   \n",
       "3           Warm     Folk/Traditional           Whiskey               Fanta   \n",
       "4           Cool                 Rock             Vodka     Coca Cola/Pepsi   \n",
       "\n",
       "  Gender  \n",
       "0      F  \n",
       "1      F  \n",
       "2      F  \n",
       "3      F  \n",
       "4      F  "
      ]
     },
     "execution_count": 147,
     "metadata": {},
     "output_type": "execute_result"
    }
   ],
   "source": [
    "data.head()"
   ]
  },
  {
   "cell_type": "code",
   "execution_count": 150,
   "id": "7c0966bc",
   "metadata": {},
   "outputs": [],
   "source": [
    "train_df, test_df = train_test_split(data, test_size=0.1, random_state=42)"
   ]
  },
  {
   "cell_type": "code",
   "execution_count": 151,
   "id": "7fbd95fb",
   "metadata": {},
   "outputs": [],
   "source": [
    "cat_indexes = [0,1,2,3]\n",
    "x_train = train_df.drop(columns=['Gender'])\n",
    "y_train = train_df['Gender']\n",
    "x_test = test_df.drop(columns=['Gender'])\n",
    "y_test = test_df['Gender']"
   ]
  },
  {
   "cell_type": "code",
   "execution_count": 153,
   "id": "357f07e0",
   "metadata": {},
   "outputs": [
    {
     "name": "stdout",
     "output_type": "stream",
     "text": [
      "Learning rate set to 0.003077\n",
      "0:\tlearn: 0.6921041\ttotal: 29.1ms\tremaining: 29.1s\n",
      "1:\tlearn: 0.6914313\ttotal: 62.1ms\tremaining: 31s\n",
      "2:\tlearn: 0.6908038\ttotal: 89.9ms\tremaining: 29.9s\n",
      "3:\tlearn: 0.6900359\ttotal: 118ms\tremaining: 29.4s\n",
      "4:\tlearn: 0.6890999\ttotal: 152ms\tremaining: 30.2s\n",
      "5:\tlearn: 0.6885395\ttotal: 198ms\tremaining: 32.8s\n",
      "6:\tlearn: 0.6874025\ttotal: 231ms\tremaining: 32.7s\n",
      "7:\tlearn: 0.6866383\ttotal: 264ms\tremaining: 32.8s\n",
      "8:\tlearn: 0.6861279\ttotal: 281ms\tremaining: 30.9s\n",
      "9:\tlearn: 0.6848619\ttotal: 314ms\tremaining: 31.1s\n",
      "10:\tlearn: 0.6846566\ttotal: 331ms\tremaining: 29.8s\n",
      "11:\tlearn: 0.6837002\ttotal: 365ms\tremaining: 30s\n",
      "12:\tlearn: 0.6829816\ttotal: 399ms\tremaining: 30.3s\n",
      "13:\tlearn: 0.6822836\ttotal: 433ms\tremaining: 30.5s\n",
      "14:\tlearn: 0.6813561\ttotal: 483ms\tremaining: 31.7s\n",
      "15:\tlearn: 0.6807401\ttotal: 517ms\tremaining: 31.8s\n",
      "16:\tlearn: 0.6798607\ttotal: 550ms\tremaining: 31.8s\n",
      "17:\tlearn: 0.6794767\ttotal: 573ms\tremaining: 31.3s\n",
      "18:\tlearn: 0.6794150\ttotal: 592ms\tremaining: 30.6s\n",
      "19:\tlearn: 0.6788759\ttotal: 626ms\tremaining: 30.7s\n",
      "20:\tlearn: 0.6771940\ttotal: 660ms\tremaining: 30.8s\n",
      "21:\tlearn: 0.6765678\ttotal: 694ms\tremaining: 30.9s\n",
      "22:\tlearn: 0.6756609\ttotal: 728ms\tremaining: 30.9s\n",
      "23:\tlearn: 0.6756365\ttotal: 746ms\tremaining: 30.4s\n",
      "24:\tlearn: 0.6749341\ttotal: 781ms\tremaining: 30.5s\n",
      "25:\tlearn: 0.6745380\ttotal: 804ms\tremaining: 30.1s\n",
      "26:\tlearn: 0.6736987\ttotal: 838ms\tremaining: 30.2s\n",
      "27:\tlearn: 0.6730786\ttotal: 872ms\tremaining: 30.3s\n",
      "28:\tlearn: 0.6720152\ttotal: 915ms\tremaining: 30.6s\n",
      "29:\tlearn: 0.6714254\ttotal: 950ms\tremaining: 30.7s\n",
      "30:\tlearn: 0.6706971\ttotal: 980ms\tremaining: 30.6s\n",
      "31:\tlearn: 0.6697249\ttotal: 1.01s\tremaining: 30.7s\n",
      "32:\tlearn: 0.6687541\ttotal: 1.05s\tremaining: 30.7s\n",
      "33:\tlearn: 0.6676537\ttotal: 1.09s\tremaining: 31.1s\n",
      "34:\tlearn: 0.6664847\ttotal: 1.16s\tremaining: 31.9s\n",
      "35:\tlearn: 0.6656298\ttotal: 1.19s\tremaining: 31.9s\n",
      "36:\tlearn: 0.6654411\ttotal: 1.22s\tremaining: 31.6s\n",
      "37:\tlearn: 0.6641667\ttotal: 1.25s\tremaining: 31.6s\n",
      "38:\tlearn: 0.6635679\ttotal: 1.28s\tremaining: 31.6s\n",
      "39:\tlearn: 0.6631111\ttotal: 1.32s\tremaining: 31.6s\n",
      "40:\tlearn: 0.6627225\ttotal: 1.34s\tremaining: 31.4s\n",
      "41:\tlearn: 0.6625473\ttotal: 1.35s\tremaining: 30.9s\n",
      "42:\tlearn: 0.6618736\ttotal: 1.39s\tremaining: 30.9s\n",
      "43:\tlearn: 0.6615669\ttotal: 1.4s\tremaining: 30.5s\n",
      "44:\tlearn: 0.6607480\ttotal: 1.44s\tremaining: 30.5s\n",
      "45:\tlearn: 0.6598463\ttotal: 1.46s\tremaining: 30.3s\n",
      "46:\tlearn: 0.6592545\ttotal: 1.49s\tremaining: 30.3s\n",
      "47:\tlearn: 0.6583967\ttotal: 1.52s\tremaining: 30.3s\n",
      "48:\tlearn: 0.6581638\ttotal: 1.54s\tremaining: 29.8s\n",
      "49:\tlearn: 0.6579662\ttotal: 1.57s\tremaining: 29.8s\n",
      "50:\tlearn: 0.6577131\ttotal: 1.6s\tremaining: 29.9s\n",
      "51:\tlearn: 0.6573280\ttotal: 1.63s\tremaining: 29.7s\n",
      "52:\tlearn: 0.6567478\ttotal: 1.66s\tremaining: 29.7s\n",
      "53:\tlearn: 0.6561955\ttotal: 1.69s\tremaining: 29.7s\n",
      "54:\tlearn: 0.6560894\ttotal: 1.71s\tremaining: 29.4s\n",
      "55:\tlearn: 0.6553058\ttotal: 1.75s\tremaining: 29.4s\n",
      "56:\tlearn: 0.6544523\ttotal: 1.78s\tremaining: 29.4s\n",
      "57:\tlearn: 0.6534628\ttotal: 1.81s\tremaining: 29.4s\n",
      "58:\tlearn: 0.6528512\ttotal: 1.86s\tremaining: 29.7s\n",
      "59:\tlearn: 0.6513283\ttotal: 1.9s\tremaining: 29.7s\n",
      "60:\tlearn: 0.6506657\ttotal: 1.95s\tremaining: 30s\n",
      "61:\tlearn: 0.6497356\ttotal: 1.98s\tremaining: 30s\n",
      "62:\tlearn: 0.6488830\ttotal: 2.01s\tremaining: 29.9s\n",
      "63:\tlearn: 0.6476738\ttotal: 2.05s\tremaining: 29.9s\n",
      "64:\tlearn: 0.6475131\ttotal: 2.06s\tremaining: 29.7s\n",
      "65:\tlearn: 0.6468948\ttotal: 2.1s\tremaining: 29.7s\n",
      "66:\tlearn: 0.6464879\ttotal: 2.12s\tremaining: 29.5s\n",
      "67:\tlearn: 0.6456659\ttotal: 2.15s\tremaining: 29.5s\n",
      "68:\tlearn: 0.6450492\ttotal: 2.18s\tremaining: 29.5s\n",
      "69:\tlearn: 0.6441630\ttotal: 2.22s\tremaining: 29.5s\n",
      "70:\tlearn: 0.6435419\ttotal: 2.25s\tremaining: 29.5s\n",
      "71:\tlearn: 0.6431198\ttotal: 2.29s\tremaining: 29.5s\n",
      "72:\tlearn: 0.6427036\ttotal: 2.31s\tremaining: 29.4s\n",
      "73:\tlearn: 0.6419202\ttotal: 2.35s\tremaining: 29.4s\n",
      "74:\tlearn: 0.6417672\ttotal: 2.37s\tremaining: 29.2s\n",
      "75:\tlearn: 0.6414145\ttotal: 2.4s\tremaining: 29.2s\n",
      "76:\tlearn: 0.6405232\ttotal: 2.44s\tremaining: 29.2s\n",
      "77:\tlearn: 0.6394930\ttotal: 2.47s\tremaining: 29.2s\n",
      "78:\tlearn: 0.6390124\ttotal: 2.51s\tremaining: 29.3s\n",
      "79:\tlearn: 0.6386158\ttotal: 2.54s\tremaining: 29.2s\n",
      "80:\tlearn: 0.6379615\ttotal: 2.58s\tremaining: 29.2s\n",
      "81:\tlearn: 0.6372641\ttotal: 2.62s\tremaining: 29.3s\n",
      "82:\tlearn: 0.6368938\ttotal: 2.65s\tremaining: 29.3s\n",
      "83:\tlearn: 0.6357710\ttotal: 2.69s\tremaining: 29.3s\n",
      "84:\tlearn: 0.6354144\ttotal: 2.72s\tremaining: 29.3s\n",
      "85:\tlearn: 0.6345596\ttotal: 2.75s\tremaining: 29.3s\n",
      "86:\tlearn: 0.6344034\ttotal: 2.77s\tremaining: 29s\n",
      "87:\tlearn: 0.6331836\ttotal: 2.8s\tremaining: 29s\n",
      "88:\tlearn: 0.6325713\ttotal: 2.85s\tremaining: 29.2s\n",
      "89:\tlearn: 0.6318373\ttotal: 2.88s\tremaining: 29.2s\n",
      "90:\tlearn: 0.6313387\ttotal: 2.92s\tremaining: 29.1s\n",
      "91:\tlearn: 0.6313332\ttotal: 2.93s\tremaining: 29s\n",
      "92:\tlearn: 0.6300080\ttotal: 2.97s\tremaining: 28.9s\n",
      "93:\tlearn: 0.6296329\ttotal: 2.99s\tremaining: 28.8s\n",
      "94:\tlearn: 0.6285331\ttotal: 3.02s\tremaining: 28.8s\n",
      "95:\tlearn: 0.6273042\ttotal: 3.06s\tremaining: 28.8s\n",
      "96:\tlearn: 0.6266215\ttotal: 3.09s\tremaining: 28.8s\n",
      "97:\tlearn: 0.6257497\ttotal: 3.13s\tremaining: 28.8s\n",
      "98:\tlearn: 0.6257444\ttotal: 3.14s\tremaining: 28.6s\n",
      "99:\tlearn: 0.6252820\ttotal: 3.17s\tremaining: 28.6s\n",
      "100:\tlearn: 0.6244067\ttotal: 3.21s\tremaining: 28.5s\n",
      "101:\tlearn: 0.6235127\ttotal: 3.24s\tremaining: 28.5s\n",
      "102:\tlearn: 0.6224994\ttotal: 3.27s\tremaining: 28.5s\n",
      "103:\tlearn: 0.6224882\ttotal: 3.29s\tremaining: 28.3s\n",
      "104:\tlearn: 0.6217266\ttotal: 3.32s\tremaining: 28.3s\n",
      "105:\tlearn: 0.6208945\ttotal: 3.36s\tremaining: 28.4s\n",
      "106:\tlearn: 0.6208833\ttotal: 3.38s\tremaining: 28.2s\n",
      "107:\tlearn: 0.6200890\ttotal: 3.41s\tremaining: 28.2s\n",
      "108:\tlearn: 0.6196150\ttotal: 3.44s\tremaining: 28.1s\n",
      "109:\tlearn: 0.6187937\ttotal: 3.47s\tremaining: 28.1s\n",
      "110:\tlearn: 0.6184093\ttotal: 3.5s\tremaining: 28s\n",
      "111:\tlearn: 0.6176227\ttotal: 3.53s\tremaining: 28s\n",
      "112:\tlearn: 0.6170314\ttotal: 3.57s\tremaining: 28s\n",
      "113:\tlearn: 0.6164326\ttotal: 3.6s\tremaining: 28s\n",
      "114:\tlearn: 0.6157698\ttotal: 3.63s\tremaining: 28s\n",
      "115:\tlearn: 0.6150474\ttotal: 3.67s\tremaining: 28s\n",
      "116:\tlearn: 0.6145015\ttotal: 3.7s\tremaining: 27.9s\n",
      "117:\tlearn: 0.6142109\ttotal: 3.73s\tremaining: 27.9s\n",
      "118:\tlearn: 0.6135421\ttotal: 3.76s\tremaining: 27.9s\n",
      "119:\tlearn: 0.6132367\ttotal: 3.79s\tremaining: 27.8s\n",
      "120:\tlearn: 0.6127548\ttotal: 3.84s\tremaining: 27.9s\n",
      "121:\tlearn: 0.6123289\ttotal: 3.86s\tremaining: 27.8s\n",
      "122:\tlearn: 0.6120280\ttotal: 3.89s\tremaining: 27.8s\n",
      "123:\tlearn: 0.6118394\ttotal: 3.91s\tremaining: 27.6s\n",
      "124:\tlearn: 0.6110813\ttotal: 3.94s\tremaining: 27.6s\n",
      "125:\tlearn: 0.6104352\ttotal: 3.97s\tremaining: 27.6s\n",
      "126:\tlearn: 0.6096321\ttotal: 4.01s\tremaining: 27.6s\n",
      "127:\tlearn: 0.6090444\ttotal: 4.04s\tremaining: 27.6s\n",
      "128:\tlearn: 0.6082946\ttotal: 4.08s\tremaining: 27.6s\n",
      "129:\tlearn: 0.6075408\ttotal: 4.12s\tremaining: 27.6s\n",
      "130:\tlearn: 0.6063167\ttotal: 4.15s\tremaining: 27.6s\n",
      "131:\tlearn: 0.6053894\ttotal: 4.19s\tremaining: 27.5s\n",
      "132:\tlearn: 0.6045696\ttotal: 4.24s\tremaining: 27.6s\n",
      "133:\tlearn: 0.6039916\ttotal: 4.27s\tremaining: 27.6s\n",
      "134:\tlearn: 0.6030549\ttotal: 4.31s\tremaining: 27.6s\n",
      "135:\tlearn: 0.6024616\ttotal: 4.34s\tremaining: 27.6s\n",
      "136:\tlearn: 0.6018444\ttotal: 4.37s\tremaining: 27.5s\n",
      "137:\tlearn: 0.6011115\ttotal: 4.41s\tremaining: 27.5s\n",
      "138:\tlearn: 0.6007706\ttotal: 4.42s\tremaining: 27.4s\n",
      "139:\tlearn: 0.6001115\ttotal: 4.45s\tremaining: 27.3s\n",
      "140:\tlearn: 0.5991993\ttotal: 4.49s\tremaining: 27.3s\n",
      "141:\tlearn: 0.5984390\ttotal: 4.52s\tremaining: 27.3s\n",
      "142:\tlearn: 0.5977430\ttotal: 4.56s\tremaining: 27.3s\n",
      "143:\tlearn: 0.5968461\ttotal: 4.59s\tremaining: 27.3s\n",
      "144:\tlearn: 0.5963233\ttotal: 4.62s\tremaining: 27.3s\n",
      "145:\tlearn: 0.5956666\ttotal: 4.66s\tremaining: 27.2s\n",
      "146:\tlearn: 0.5951870\ttotal: 4.69s\tremaining: 27.2s\n",
      "147:\tlearn: 0.5944251\ttotal: 4.76s\tremaining: 27.4s\n",
      "148:\tlearn: 0.5938333\ttotal: 4.79s\tremaining: 27.3s\n",
      "149:\tlearn: 0.5932422\ttotal: 4.82s\tremaining: 27.3s\n",
      "150:\tlearn: 0.5931042\ttotal: 4.84s\tremaining: 27.2s\n",
      "151:\tlearn: 0.5924621\ttotal: 4.89s\tremaining: 27.3s\n",
      "152:\tlearn: 0.5916372\ttotal: 4.92s\tremaining: 27.2s\n",
      "153:\tlearn: 0.5911474\ttotal: 4.94s\tremaining: 27.2s\n",
      "154:\tlearn: 0.5901616\ttotal: 4.98s\tremaining: 27.1s\n",
      "155:\tlearn: 0.5892913\ttotal: 5.01s\tremaining: 27.1s\n",
      "156:\tlearn: 0.5889477\ttotal: 5.04s\tremaining: 27.1s\n",
      "157:\tlearn: 0.5883379\ttotal: 5.08s\tremaining: 27.1s\n",
      "158:\tlearn: 0.5874916\ttotal: 5.11s\tremaining: 27s\n",
      "159:\tlearn: 0.5871463\ttotal: 5.13s\tremaining: 26.9s\n",
      "160:\tlearn: 0.5864378\ttotal: 5.16s\tremaining: 26.9s\n",
      "161:\tlearn: 0.5861744\ttotal: 5.18s\tremaining: 26.8s\n",
      "162:\tlearn: 0.5861742\ttotal: 5.19s\tremaining: 26.6s\n",
      "163:\tlearn: 0.5855374\ttotal: 5.22s\tremaining: 26.6s\n",
      "164:\tlearn: 0.5848687\ttotal: 5.25s\tremaining: 26.6s\n",
      "165:\tlearn: 0.5843807\ttotal: 5.3s\tremaining: 26.6s\n",
      "166:\tlearn: 0.5837638\ttotal: 5.33s\tremaining: 26.6s\n"
     ]
    },
    {
     "name": "stdout",
     "output_type": "stream",
     "text": [
      "167:\tlearn: 0.5830989\ttotal: 5.37s\tremaining: 26.6s\n",
      "168:\tlearn: 0.5826496\ttotal: 5.39s\tremaining: 26.5s\n",
      "169:\tlearn: 0.5820775\ttotal: 5.42s\tremaining: 26.5s\n",
      "170:\tlearn: 0.5814762\ttotal: 5.47s\tremaining: 26.5s\n",
      "171:\tlearn: 0.5814760\ttotal: 5.47s\tremaining: 26.3s\n",
      "172:\tlearn: 0.5808568\ttotal: 5.51s\tremaining: 26.3s\n",
      "173:\tlearn: 0.5802708\ttotal: 5.54s\tremaining: 26.3s\n",
      "174:\tlearn: 0.5797376\ttotal: 5.58s\tremaining: 26.3s\n",
      "175:\tlearn: 0.5796695\ttotal: 5.59s\tremaining: 26.2s\n",
      "176:\tlearn: 0.5790261\ttotal: 5.62s\tremaining: 26.1s\n",
      "177:\tlearn: 0.5784504\ttotal: 5.65s\tremaining: 26.1s\n",
      "178:\tlearn: 0.5783625\ttotal: 5.68s\tremaining: 26.1s\n",
      "179:\tlearn: 0.5777507\ttotal: 5.72s\tremaining: 26s\n",
      "180:\tlearn: 0.5776901\ttotal: 5.73s\tremaining: 25.9s\n",
      "181:\tlearn: 0.5774392\ttotal: 5.75s\tremaining: 25.8s\n",
      "182:\tlearn: 0.5766403\ttotal: 5.78s\tremaining: 25.8s\n",
      "183:\tlearn: 0.5757271\ttotal: 5.81s\tremaining: 25.8s\n",
      "184:\tlearn: 0.5753472\ttotal: 5.85s\tremaining: 25.8s\n",
      "185:\tlearn: 0.5752142\ttotal: 5.87s\tremaining: 25.7s\n",
      "186:\tlearn: 0.5745498\ttotal: 5.9s\tremaining: 25.7s\n",
      "187:\tlearn: 0.5740765\ttotal: 5.95s\tremaining: 25.7s\n",
      "188:\tlearn: 0.5735330\ttotal: 5.99s\tremaining: 25.7s\n",
      "189:\tlearn: 0.5730902\ttotal: 6.01s\tremaining: 25.6s\n",
      "190:\tlearn: 0.5720159\ttotal: 6.04s\tremaining: 25.6s\n",
      "191:\tlearn: 0.5715287\ttotal: 6.08s\tremaining: 25.6s\n",
      "192:\tlearn: 0.5708729\ttotal: 6.13s\tremaining: 25.6s\n",
      "193:\tlearn: 0.5703132\ttotal: 6.16s\tremaining: 25.6s\n",
      "194:\tlearn: 0.5698030\ttotal: 6.19s\tremaining: 25.6s\n",
      "195:\tlearn: 0.5691112\ttotal: 6.23s\tremaining: 25.5s\n",
      "196:\tlearn: 0.5679839\ttotal: 6.26s\tremaining: 25.5s\n",
      "197:\tlearn: 0.5678300\ttotal: 6.28s\tremaining: 25.4s\n",
      "198:\tlearn: 0.5671245\ttotal: 6.31s\tremaining: 25.4s\n",
      "199:\tlearn: 0.5661338\ttotal: 6.35s\tremaining: 25.4s\n",
      "200:\tlearn: 0.5656300\ttotal: 6.38s\tremaining: 25.4s\n",
      "201:\tlearn: 0.5648023\ttotal: 6.43s\tremaining: 25.4s\n",
      "202:\tlearn: 0.5641357\ttotal: 6.46s\tremaining: 25.4s\n",
      "203:\tlearn: 0.5637009\ttotal: 6.51s\tremaining: 25.4s\n",
      "204:\tlearn: 0.5634085\ttotal: 6.55s\tremaining: 25.4s\n",
      "205:\tlearn: 0.5625995\ttotal: 6.58s\tremaining: 25.4s\n",
      "206:\tlearn: 0.5620115\ttotal: 6.61s\tremaining: 25.3s\n",
      "207:\tlearn: 0.5615487\ttotal: 6.65s\tremaining: 25.3s\n",
      "208:\tlearn: 0.5614349\ttotal: 6.67s\tremaining: 25.2s\n",
      "209:\tlearn: 0.5614229\ttotal: 6.68s\tremaining: 25.1s\n",
      "210:\tlearn: 0.5608710\ttotal: 6.71s\tremaining: 25.1s\n",
      "211:\tlearn: 0.5601157\ttotal: 6.75s\tremaining: 25.1s\n",
      "212:\tlearn: 0.5592449\ttotal: 6.79s\tremaining: 25.1s\n",
      "213:\tlearn: 0.5583472\ttotal: 6.82s\tremaining: 25.1s\n",
      "214:\tlearn: 0.5578987\ttotal: 6.86s\tremaining: 25s\n",
      "215:\tlearn: 0.5574412\ttotal: 6.91s\tremaining: 25.1s\n",
      "216:\tlearn: 0.5568862\ttotal: 6.94s\tremaining: 25s\n",
      "217:\tlearn: 0.5562942\ttotal: 6.97s\tremaining: 25s\n",
      "218:\tlearn: 0.5556500\ttotal: 7.01s\tremaining: 25s\n",
      "219:\tlearn: 0.5549540\ttotal: 7.04s\tremaining: 25s\n",
      "220:\tlearn: 0.5545793\ttotal: 7.08s\tremaining: 25s\n",
      "221:\tlearn: 0.5541001\ttotal: 7.11s\tremaining: 24.9s\n",
      "222:\tlearn: 0.5532947\ttotal: 7.14s\tremaining: 24.9s\n",
      "223:\tlearn: 0.5526720\ttotal: 7.18s\tremaining: 24.9s\n",
      "224:\tlearn: 0.5525098\ttotal: 7.2s\tremaining: 24.8s\n",
      "225:\tlearn: 0.5519961\ttotal: 7.23s\tremaining: 24.8s\n",
      "226:\tlearn: 0.5515405\ttotal: 7.26s\tremaining: 24.7s\n",
      "227:\tlearn: 0.5515008\ttotal: 7.28s\tremaining: 24.6s\n",
      "228:\tlearn: 0.5504818\ttotal: 7.31s\tremaining: 24.6s\n",
      "229:\tlearn: 0.5497754\ttotal: 7.34s\tremaining: 24.6s\n",
      "230:\tlearn: 0.5491317\ttotal: 7.38s\tremaining: 24.6s\n",
      "231:\tlearn: 0.5489141\ttotal: 7.41s\tremaining: 24.5s\n",
      "232:\tlearn: 0.5487696\ttotal: 7.43s\tremaining: 24.5s\n",
      "233:\tlearn: 0.5482220\ttotal: 7.47s\tremaining: 24.4s\n",
      "234:\tlearn: 0.5475281\ttotal: 7.51s\tremaining: 24.4s\n",
      "235:\tlearn: 0.5474544\ttotal: 7.53s\tremaining: 24.4s\n",
      "236:\tlearn: 0.5474510\ttotal: 7.54s\tremaining: 24.3s\n",
      "237:\tlearn: 0.5460892\ttotal: 7.57s\tremaining: 24.3s\n",
      "238:\tlearn: 0.5454340\ttotal: 7.61s\tremaining: 24.2s\n",
      "239:\tlearn: 0.5450872\ttotal: 7.65s\tremaining: 24.2s\n",
      "240:\tlearn: 0.5448764\ttotal: 7.67s\tremaining: 24.2s\n",
      "241:\tlearn: 0.5445668\ttotal: 7.71s\tremaining: 24.1s\n",
      "242:\tlearn: 0.5438577\ttotal: 7.74s\tremaining: 24.1s\n",
      "243:\tlearn: 0.5433928\ttotal: 7.77s\tremaining: 24.1s\n",
      "244:\tlearn: 0.5429814\ttotal: 7.81s\tremaining: 24.1s\n",
      "245:\tlearn: 0.5424263\ttotal: 7.84s\tremaining: 24s\n",
      "246:\tlearn: 0.5416786\ttotal: 7.88s\tremaining: 24s\n",
      "247:\tlearn: 0.5409637\ttotal: 7.91s\tremaining: 24s\n",
      "248:\tlearn: 0.5400078\ttotal: 7.95s\tremaining: 24s\n",
      "249:\tlearn: 0.5390677\ttotal: 7.98s\tremaining: 23.9s\n",
      "250:\tlearn: 0.5384547\ttotal: 8.01s\tremaining: 23.9s\n",
      "251:\tlearn: 0.5380156\ttotal: 8.05s\tremaining: 23.9s\n",
      "252:\tlearn: 0.5378528\ttotal: 8.07s\tremaining: 23.8s\n",
      "253:\tlearn: 0.5374682\ttotal: 8.11s\tremaining: 23.8s\n",
      "254:\tlearn: 0.5374031\ttotal: 8.13s\tremaining: 23.8s\n",
      "255:\tlearn: 0.5370928\ttotal: 8.16s\tremaining: 23.7s\n",
      "256:\tlearn: 0.5368141\ttotal: 8.18s\tremaining: 23.6s\n",
      "257:\tlearn: 0.5365737\ttotal: 8.2s\tremaining: 23.6s\n",
      "258:\tlearn: 0.5360856\ttotal: 8.24s\tremaining: 23.6s\n",
      "259:\tlearn: 0.5356170\ttotal: 8.29s\tremaining: 23.6s\n",
      "260:\tlearn: 0.5353155\ttotal: 8.32s\tremaining: 23.6s\n",
      "261:\tlearn: 0.5348129\ttotal: 8.36s\tremaining: 23.5s\n",
      "262:\tlearn: 0.5339786\ttotal: 8.39s\tremaining: 23.5s\n",
      "263:\tlearn: 0.5338423\ttotal: 8.41s\tremaining: 23.4s\n",
      "264:\tlearn: 0.5326976\ttotal: 8.45s\tremaining: 23.4s\n",
      "265:\tlearn: 0.5322408\ttotal: 8.48s\tremaining: 23.4s\n",
      "266:\tlearn: 0.5321958\ttotal: 8.51s\tremaining: 23.4s\n",
      "267:\tlearn: 0.5316342\ttotal: 8.54s\tremaining: 23.3s\n",
      "268:\tlearn: 0.5312889\ttotal: 8.56s\tremaining: 23.3s\n",
      "269:\tlearn: 0.5311945\ttotal: 8.58s\tremaining: 23.2s\n",
      "270:\tlearn: 0.5309621\ttotal: 8.6s\tremaining: 23.1s\n",
      "271:\tlearn: 0.5303459\ttotal: 8.63s\tremaining: 23.1s\n",
      "272:\tlearn: 0.5294350\ttotal: 8.67s\tremaining: 23.1s\n",
      "273:\tlearn: 0.5287181\ttotal: 8.7s\tremaining: 23.1s\n",
      "274:\tlearn: 0.5280920\ttotal: 8.74s\tremaining: 23s\n",
      "275:\tlearn: 0.5273438\ttotal: 8.77s\tremaining: 23s\n",
      "276:\tlearn: 0.5272521\ttotal: 8.78s\tremaining: 22.9s\n",
      "277:\tlearn: 0.5264890\ttotal: 8.81s\tremaining: 22.9s\n",
      "278:\tlearn: 0.5259056\ttotal: 8.85s\tremaining: 22.9s\n",
      "279:\tlearn: 0.5256484\ttotal: 8.88s\tremaining: 22.8s\n",
      "280:\tlearn: 0.5254878\ttotal: 8.91s\tremaining: 22.8s\n",
      "281:\tlearn: 0.5252652\ttotal: 8.94s\tremaining: 22.8s\n",
      "282:\tlearn: 0.5252635\ttotal: 8.95s\tremaining: 22.7s\n",
      "283:\tlearn: 0.5250055\ttotal: 8.97s\tremaining: 22.6s\n",
      "284:\tlearn: 0.5242100\ttotal: 9s\tremaining: 22.6s\n",
      "285:\tlearn: 0.5237378\ttotal: 9.03s\tremaining: 22.6s\n",
      "286:\tlearn: 0.5234980\ttotal: 9.05s\tremaining: 22.5s\n",
      "287:\tlearn: 0.5227810\ttotal: 9.09s\tremaining: 22.5s\n",
      "288:\tlearn: 0.5220529\ttotal: 9.13s\tremaining: 22.5s\n",
      "289:\tlearn: 0.5218045\ttotal: 9.16s\tremaining: 22.4s\n",
      "290:\tlearn: 0.5215756\ttotal: 9.18s\tremaining: 22.4s\n",
      "291:\tlearn: 0.5213168\ttotal: 9.2s\tremaining: 22.3s\n",
      "292:\tlearn: 0.5208064\ttotal: 9.23s\tremaining: 22.3s\n",
      "293:\tlearn: 0.5202061\ttotal: 9.27s\tremaining: 22.3s\n",
      "294:\tlearn: 0.5196666\ttotal: 9.3s\tremaining: 22.2s\n",
      "295:\tlearn: 0.5188582\ttotal: 9.34s\tremaining: 22.2s\n",
      "296:\tlearn: 0.5178826\ttotal: 9.37s\tremaining: 22.2s\n",
      "297:\tlearn: 0.5177312\ttotal: 9.41s\tremaining: 22.2s\n",
      "298:\tlearn: 0.5170990\ttotal: 9.45s\tremaining: 22.1s\n",
      "299:\tlearn: 0.5169732\ttotal: 9.47s\tremaining: 22.1s\n",
      "300:\tlearn: 0.5165560\ttotal: 9.5s\tremaining: 22.1s\n",
      "301:\tlearn: 0.5158710\ttotal: 9.54s\tremaining: 22s\n",
      "302:\tlearn: 0.5153333\ttotal: 9.57s\tremaining: 22s\n",
      "303:\tlearn: 0.5152041\ttotal: 9.6s\tremaining: 22s\n",
      "304:\tlearn: 0.5145951\ttotal: 9.63s\tremaining: 21.9s\n",
      "305:\tlearn: 0.5140820\ttotal: 9.67s\tremaining: 21.9s\n",
      "306:\tlearn: 0.5137570\ttotal: 9.71s\tremaining: 21.9s\n",
      "307:\tlearn: 0.5131695\ttotal: 9.74s\tremaining: 21.9s\n",
      "308:\tlearn: 0.5130165\ttotal: 9.75s\tremaining: 21.8s\n",
      "309:\tlearn: 0.5123638\ttotal: 9.79s\tremaining: 21.8s\n",
      "310:\tlearn: 0.5119078\ttotal: 9.82s\tremaining: 21.8s\n",
      "311:\tlearn: 0.5115976\ttotal: 9.85s\tremaining: 21.7s\n",
      "312:\tlearn: 0.5110061\ttotal: 9.89s\tremaining: 21.7s\n",
      "313:\tlearn: 0.5105835\ttotal: 9.92s\tremaining: 21.7s\n",
      "314:\tlearn: 0.5104051\ttotal: 9.95s\tremaining: 21.6s\n",
      "315:\tlearn: 0.5097728\ttotal: 9.98s\tremaining: 21.6s\n",
      "316:\tlearn: 0.5091093\ttotal: 10s\tremaining: 21.6s\n",
      "317:\tlearn: 0.5083604\ttotal: 10s\tremaining: 21.6s\n",
      "318:\tlearn: 0.5081130\ttotal: 10.1s\tremaining: 21.5s\n",
      "319:\tlearn: 0.5076042\ttotal: 10.1s\tremaining: 21.5s\n",
      "320:\tlearn: 0.5074674\ttotal: 10.1s\tremaining: 21.4s\n",
      "321:\tlearn: 0.5071935\ttotal: 10.2s\tremaining: 21.4s\n",
      "322:\tlearn: 0.5065999\ttotal: 10.2s\tremaining: 21.4s\n",
      "323:\tlearn: 0.5060721\ttotal: 10.2s\tremaining: 21.4s\n",
      "324:\tlearn: 0.5055473\ttotal: 10.3s\tremaining: 21.3s\n",
      "325:\tlearn: 0.5053463\ttotal: 10.3s\tremaining: 21.3s\n",
      "326:\tlearn: 0.5047679\ttotal: 10.4s\tremaining: 21.3s\n",
      "327:\tlearn: 0.5044648\ttotal: 10.4s\tremaining: 21.3s\n",
      "328:\tlearn: 0.5041749\ttotal: 10.4s\tremaining: 21.3s\n",
      "329:\tlearn: 0.5037587\ttotal: 10.5s\tremaining: 21.2s\n"
     ]
    },
    {
     "name": "stdout",
     "output_type": "stream",
     "text": [
      "330:\tlearn: 0.5035209\ttotal: 10.5s\tremaining: 21.2s\n",
      "331:\tlearn: 0.5030253\ttotal: 10.5s\tremaining: 21.1s\n",
      "332:\tlearn: 0.5026365\ttotal: 10.5s\tremaining: 21.1s\n",
      "333:\tlearn: 0.5022752\ttotal: 10.6s\tremaining: 21.1s\n",
      "334:\tlearn: 0.5018842\ttotal: 10.6s\tremaining: 21.1s\n",
      "335:\tlearn: 0.5013478\ttotal: 10.7s\tremaining: 21.1s\n",
      "336:\tlearn: 0.5008182\ttotal: 10.7s\tremaining: 21s\n",
      "337:\tlearn: 0.5005456\ttotal: 10.7s\tremaining: 21s\n",
      "338:\tlearn: 0.5001532\ttotal: 10.7s\tremaining: 21s\n",
      "339:\tlearn: 0.4999368\ttotal: 10.8s\tremaining: 20.9s\n",
      "340:\tlearn: 0.4995364\ttotal: 10.8s\tremaining: 20.9s\n",
      "341:\tlearn: 0.4989614\ttotal: 10.8s\tremaining: 20.9s\n",
      "342:\tlearn: 0.4984093\ttotal: 10.9s\tremaining: 20.9s\n",
      "343:\tlearn: 0.4980832\ttotal: 10.9s\tremaining: 20.8s\n",
      "344:\tlearn: 0.4977050\ttotal: 10.9s\tremaining: 20.8s\n",
      "345:\tlearn: 0.4969355\ttotal: 11s\tremaining: 20.8s\n",
      "346:\tlearn: 0.4965545\ttotal: 11s\tremaining: 20.7s\n",
      "347:\tlearn: 0.4960757\ttotal: 11.1s\tremaining: 20.7s\n",
      "348:\tlearn: 0.4956612\ttotal: 11.1s\tremaining: 20.7s\n",
      "349:\tlearn: 0.4956337\ttotal: 11.1s\tremaining: 20.6s\n",
      "350:\tlearn: 0.4951886\ttotal: 11.1s\tremaining: 20.6s\n",
      "351:\tlearn: 0.4945963\ttotal: 11.2s\tremaining: 20.6s\n",
      "352:\tlearn: 0.4945035\ttotal: 11.2s\tremaining: 20.5s\n",
      "353:\tlearn: 0.4939245\ttotal: 11.2s\tremaining: 20.5s\n",
      "354:\tlearn: 0.4933884\ttotal: 11.3s\tremaining: 20.5s\n",
      "355:\tlearn: 0.4929877\ttotal: 11.3s\tremaining: 20.5s\n",
      "356:\tlearn: 0.4928669\ttotal: 11.4s\tremaining: 20.5s\n",
      "357:\tlearn: 0.4926351\ttotal: 11.4s\tremaining: 20.4s\n",
      "358:\tlearn: 0.4925582\ttotal: 11.4s\tremaining: 20.4s\n",
      "359:\tlearn: 0.4917016\ttotal: 11.5s\tremaining: 20.4s\n",
      "360:\tlearn: 0.4912833\ttotal: 11.5s\tremaining: 20.3s\n",
      "361:\tlearn: 0.4906121\ttotal: 11.5s\tremaining: 20.3s\n",
      "362:\tlearn: 0.4899726\ttotal: 11.6s\tremaining: 20.3s\n",
      "363:\tlearn: 0.4892846\ttotal: 11.6s\tremaining: 20.3s\n",
      "364:\tlearn: 0.4886333\ttotal: 11.6s\tremaining: 20.2s\n",
      "365:\tlearn: 0.4880940\ttotal: 11.7s\tremaining: 20.2s\n",
      "366:\tlearn: 0.4874684\ttotal: 11.7s\tremaining: 20.2s\n",
      "367:\tlearn: 0.4869875\ttotal: 11.7s\tremaining: 20.2s\n",
      "368:\tlearn: 0.4865590\ttotal: 11.8s\tremaining: 20.1s\n",
      "369:\tlearn: 0.4859908\ttotal: 11.8s\tremaining: 20.1s\n",
      "370:\tlearn: 0.4854174\ttotal: 11.9s\tremaining: 20.1s\n",
      "371:\tlearn: 0.4852074\ttotal: 11.9s\tremaining: 20.1s\n",
      "372:\tlearn: 0.4851816\ttotal: 11.9s\tremaining: 20.1s\n",
      "373:\tlearn: 0.4843561\ttotal: 12s\tremaining: 20s\n",
      "374:\tlearn: 0.4838315\ttotal: 12s\tremaining: 20s\n",
      "375:\tlearn: 0.4837169\ttotal: 12.1s\tremaining: 20s\n",
      "376:\tlearn: 0.4829029\ttotal: 12.1s\tremaining: 20s\n",
      "377:\tlearn: 0.4828759\ttotal: 12.1s\tremaining: 19.9s\n",
      "378:\tlearn: 0.4821884\ttotal: 12.1s\tremaining: 19.9s\n",
      "379:\tlearn: 0.4820114\ttotal: 12.2s\tremaining: 19.9s\n",
      "380:\tlearn: 0.4819489\ttotal: 12.2s\tremaining: 19.8s\n",
      "381:\tlearn: 0.4812497\ttotal: 12.2s\tremaining: 19.8s\n",
      "382:\tlearn: 0.4811589\ttotal: 12.3s\tremaining: 19.8s\n",
      "383:\tlearn: 0.4810891\ttotal: 12.3s\tremaining: 19.7s\n",
      "384:\tlearn: 0.4808139\ttotal: 12.3s\tremaining: 19.7s\n",
      "385:\tlearn: 0.4800927\ttotal: 12.4s\tremaining: 19.7s\n",
      "386:\tlearn: 0.4795482\ttotal: 12.4s\tremaining: 19.6s\n",
      "387:\tlearn: 0.4791196\ttotal: 12.4s\tremaining: 19.6s\n",
      "388:\tlearn: 0.4789573\ttotal: 12.5s\tremaining: 19.6s\n",
      "389:\tlearn: 0.4786606\ttotal: 12.5s\tremaining: 19.6s\n",
      "390:\tlearn: 0.4783138\ttotal: 12.5s\tremaining: 19.5s\n",
      "391:\tlearn: 0.4780252\ttotal: 12.6s\tremaining: 19.5s\n",
      "392:\tlearn: 0.4775489\ttotal: 12.6s\tremaining: 19.5s\n",
      "393:\tlearn: 0.4771903\ttotal: 12.7s\tremaining: 19.5s\n",
      "394:\tlearn: 0.4767177\ttotal: 12.7s\tremaining: 19.5s\n",
      "395:\tlearn: 0.4763556\ttotal: 12.7s\tremaining: 19.4s\n",
      "396:\tlearn: 0.4757752\ttotal: 12.8s\tremaining: 19.4s\n",
      "397:\tlearn: 0.4748226\ttotal: 12.8s\tremaining: 19.4s\n",
      "398:\tlearn: 0.4745400\ttotal: 12.9s\tremaining: 19.4s\n",
      "399:\tlearn: 0.4743725\ttotal: 12.9s\tremaining: 19.3s\n",
      "400:\tlearn: 0.4738538\ttotal: 12.9s\tremaining: 19.3s\n",
      "401:\tlearn: 0.4736305\ttotal: 13s\tremaining: 19.3s\n",
      "402:\tlearn: 0.4730262\ttotal: 13s\tremaining: 19.3s\n",
      "403:\tlearn: 0.4723530\ttotal: 13s\tremaining: 19.2s\n",
      "404:\tlearn: 0.4721400\ttotal: 13.1s\tremaining: 19.2s\n",
      "405:\tlearn: 0.4721363\ttotal: 13.1s\tremaining: 19.1s\n",
      "406:\tlearn: 0.4715525\ttotal: 13.1s\tremaining: 19.1s\n",
      "407:\tlearn: 0.4712567\ttotal: 13.1s\tremaining: 19.1s\n",
      "408:\tlearn: 0.4710522\ttotal: 13.2s\tremaining: 19s\n",
      "409:\tlearn: 0.4710499\ttotal: 13.2s\tremaining: 18.9s\n",
      "410:\tlearn: 0.4710463\ttotal: 13.2s\tremaining: 18.9s\n",
      "411:\tlearn: 0.4707236\ttotal: 13.2s\tremaining: 18.9s\n",
      "412:\tlearn: 0.4705085\ttotal: 13.2s\tremaining: 18.8s\n",
      "413:\tlearn: 0.4699853\ttotal: 13.3s\tremaining: 18.8s\n",
      "414:\tlearn: 0.4695564\ttotal: 13.3s\tremaining: 18.8s\n",
      "415:\tlearn: 0.4691343\ttotal: 13.3s\tremaining: 18.7s\n",
      "416:\tlearn: 0.4688402\ttotal: 13.4s\tremaining: 18.7s\n",
      "417:\tlearn: 0.4686402\ttotal: 13.4s\tremaining: 18.6s\n",
      "418:\tlearn: 0.4684071\ttotal: 13.4s\tremaining: 18.6s\n",
      "419:\tlearn: 0.4683114\ttotal: 13.4s\tremaining: 18.6s\n",
      "420:\tlearn: 0.4677618\ttotal: 13.5s\tremaining: 18.5s\n",
      "421:\tlearn: 0.4672818\ttotal: 13.5s\tremaining: 18.5s\n",
      "422:\tlearn: 0.4666589\ttotal: 13.6s\tremaining: 18.5s\n",
      "423:\tlearn: 0.4658164\ttotal: 13.6s\tremaining: 18.5s\n",
      "424:\tlearn: 0.4655825\ttotal: 13.6s\tremaining: 18.4s\n",
      "425:\tlearn: 0.4650967\ttotal: 13.7s\tremaining: 18.4s\n",
      "426:\tlearn: 0.4645497\ttotal: 13.7s\tremaining: 18.4s\n",
      "427:\tlearn: 0.4638894\ttotal: 13.7s\tremaining: 18.3s\n",
      "428:\tlearn: 0.4636388\ttotal: 13.8s\tremaining: 18.3s\n",
      "429:\tlearn: 0.4627247\ttotal: 13.8s\tremaining: 18.3s\n",
      "430:\tlearn: 0.4624467\ttotal: 13.8s\tremaining: 18.3s\n",
      "431:\tlearn: 0.4621459\ttotal: 13.9s\tremaining: 18.2s\n",
      "432:\tlearn: 0.4617460\ttotal: 13.9s\tremaining: 18.2s\n",
      "433:\tlearn: 0.4616098\ttotal: 13.9s\tremaining: 18.2s\n",
      "434:\tlearn: 0.4612031\ttotal: 14s\tremaining: 18.1s\n",
      "435:\tlearn: 0.4606793\ttotal: 14s\tremaining: 18.1s\n",
      "436:\tlearn: 0.4604900\ttotal: 14s\tremaining: 18s\n",
      "437:\tlearn: 0.4601275\ttotal: 14s\tremaining: 18s\n",
      "438:\tlearn: 0.4598331\ttotal: 14.1s\tremaining: 18s\n",
      "439:\tlearn: 0.4598320\ttotal: 14.1s\tremaining: 17.9s\n",
      "440:\tlearn: 0.4594996\ttotal: 14.1s\tremaining: 17.9s\n",
      "441:\tlearn: 0.4594764\ttotal: 14.1s\tremaining: 17.8s\n",
      "442:\tlearn: 0.4593635\ttotal: 14.1s\tremaining: 17.8s\n",
      "443:\tlearn: 0.4588479\ttotal: 14.2s\tremaining: 17.8s\n",
      "444:\tlearn: 0.4580386\ttotal: 14.2s\tremaining: 17.7s\n",
      "445:\tlearn: 0.4580386\ttotal: 14.2s\tremaining: 17.7s\n",
      "446:\tlearn: 0.4573769\ttotal: 14.3s\tremaining: 17.6s\n",
      "447:\tlearn: 0.4570457\ttotal: 14.3s\tremaining: 17.6s\n",
      "448:\tlearn: 0.4565823\ttotal: 14.3s\tremaining: 17.6s\n",
      "449:\tlearn: 0.4563745\ttotal: 14.4s\tremaining: 17.6s\n",
      "450:\tlearn: 0.4563745\ttotal: 14.4s\tremaining: 17.5s\n",
      "451:\tlearn: 0.4559636\ttotal: 14.4s\tremaining: 17.5s\n",
      "452:\tlearn: 0.4554905\ttotal: 14.4s\tremaining: 17.4s\n",
      "453:\tlearn: 0.4553055\ttotal: 14.5s\tremaining: 17.4s\n",
      "454:\tlearn: 0.4553019\ttotal: 14.5s\tremaining: 17.4s\n",
      "455:\tlearn: 0.4547245\ttotal: 14.5s\tremaining: 17.3s\n",
      "456:\tlearn: 0.4542334\ttotal: 14.6s\tremaining: 17.3s\n",
      "457:\tlearn: 0.4535360\ttotal: 14.6s\tremaining: 17.3s\n",
      "458:\tlearn: 0.4533396\ttotal: 14.6s\tremaining: 17.3s\n",
      "459:\tlearn: 0.4528381\ttotal: 14.7s\tremaining: 17.2s\n",
      "460:\tlearn: 0.4522422\ttotal: 14.7s\tremaining: 17.2s\n",
      "461:\tlearn: 0.4517173\ttotal: 14.7s\tremaining: 17.2s\n",
      "462:\tlearn: 0.4515798\ttotal: 14.8s\tremaining: 17.1s\n",
      "463:\tlearn: 0.4511137\ttotal: 14.8s\tremaining: 17.1s\n",
      "464:\tlearn: 0.4506369\ttotal: 14.9s\tremaining: 17.1s\n",
      "465:\tlearn: 0.4501441\ttotal: 14.9s\tremaining: 17.1s\n",
      "466:\tlearn: 0.4498565\ttotal: 14.9s\tremaining: 17s\n",
      "467:\tlearn: 0.4491758\ttotal: 15s\tremaining: 17s\n",
      "468:\tlearn: 0.4484606\ttotal: 15s\tremaining: 17s\n",
      "469:\tlearn: 0.4480399\ttotal: 15s\tremaining: 16.9s\n",
      "470:\tlearn: 0.4475843\ttotal: 15.1s\tremaining: 16.9s\n",
      "471:\tlearn: 0.4475344\ttotal: 15.1s\tremaining: 16.9s\n",
      "472:\tlearn: 0.4470306\ttotal: 15.1s\tremaining: 16.8s\n",
      "473:\tlearn: 0.4465609\ttotal: 15.2s\tremaining: 16.8s\n",
      "474:\tlearn: 0.4456127\ttotal: 15.2s\tremaining: 16.8s\n",
      "475:\tlearn: 0.4450980\ttotal: 15.2s\tremaining: 16.8s\n",
      "476:\tlearn: 0.4449767\ttotal: 15.2s\tremaining: 16.7s\n",
      "477:\tlearn: 0.4444324\ttotal: 15.3s\tremaining: 16.7s\n",
      "478:\tlearn: 0.4438994\ttotal: 15.3s\tremaining: 16.7s\n",
      "479:\tlearn: 0.4435676\ttotal: 15.3s\tremaining: 16.6s\n",
      "480:\tlearn: 0.4431264\ttotal: 15.4s\tremaining: 16.6s\n",
      "481:\tlearn: 0.4425101\ttotal: 15.4s\tremaining: 16.6s\n",
      "482:\tlearn: 0.4421021\ttotal: 15.5s\tremaining: 16.6s\n",
      "483:\tlearn: 0.4419255\ttotal: 15.5s\tremaining: 16.5s\n",
      "484:\tlearn: 0.4414149\ttotal: 15.5s\tremaining: 16.5s\n",
      "485:\tlearn: 0.4407272\ttotal: 15.6s\tremaining: 16.5s\n",
      "486:\tlearn: 0.4403087\ttotal: 15.6s\tremaining: 16.4s\n",
      "487:\tlearn: 0.4397898\ttotal: 15.6s\tremaining: 16.4s\n",
      "488:\tlearn: 0.4393230\ttotal: 15.7s\tremaining: 16.4s\n",
      "489:\tlearn: 0.4388460\ttotal: 15.7s\tremaining: 16.4s\n",
      "490:\tlearn: 0.4384537\ttotal: 15.8s\tremaining: 16.3s\n"
     ]
    },
    {
     "name": "stdout",
     "output_type": "stream",
     "text": [
      "491:\tlearn: 0.4379561\ttotal: 15.8s\tremaining: 16.3s\n",
      "492:\tlearn: 0.4373647\ttotal: 15.8s\tremaining: 16.3s\n",
      "493:\tlearn: 0.4371346\ttotal: 15.9s\tremaining: 16.3s\n",
      "494:\tlearn: 0.4366843\ttotal: 15.9s\tremaining: 16.2s\n",
      "495:\tlearn: 0.4363934\ttotal: 15.9s\tremaining: 16.2s\n",
      "496:\tlearn: 0.4363359\ttotal: 16s\tremaining: 16.1s\n",
      "497:\tlearn: 0.4359897\ttotal: 16s\tremaining: 16.1s\n",
      "498:\tlearn: 0.4354721\ttotal: 16s\tremaining: 16.1s\n",
      "499:\tlearn: 0.4349756\ttotal: 16.1s\tremaining: 16.1s\n",
      "500:\tlearn: 0.4349756\ttotal: 16.1s\tremaining: 16s\n",
      "501:\tlearn: 0.4345022\ttotal: 16.1s\tremaining: 16s\n",
      "502:\tlearn: 0.4342632\ttotal: 16.2s\tremaining: 16s\n",
      "503:\tlearn: 0.4338096\ttotal: 16.2s\tremaining: 15.9s\n",
      "504:\tlearn: 0.4336299\ttotal: 16.2s\tremaining: 15.9s\n",
      "505:\tlearn: 0.4332157\ttotal: 16.3s\tremaining: 15.9s\n",
      "506:\tlearn: 0.4327571\ttotal: 16.3s\tremaining: 15.8s\n",
      "507:\tlearn: 0.4319018\ttotal: 16.3s\tremaining: 15.8s\n",
      "508:\tlearn: 0.4311513\ttotal: 16.4s\tremaining: 15.8s\n",
      "509:\tlearn: 0.4306287\ttotal: 16.4s\tremaining: 15.8s\n",
      "510:\tlearn: 0.4299306\ttotal: 16.4s\tremaining: 15.7s\n",
      "511:\tlearn: 0.4295221\ttotal: 16.5s\tremaining: 15.7s\n",
      "512:\tlearn: 0.4289346\ttotal: 16.5s\tremaining: 15.7s\n",
      "513:\tlearn: 0.4283523\ttotal: 16.5s\tremaining: 15.6s\n",
      "514:\tlearn: 0.4278169\ttotal: 16.6s\tremaining: 15.6s\n",
      "515:\tlearn: 0.4277796\ttotal: 16.6s\tremaining: 15.6s\n",
      "516:\tlearn: 0.4272588\ttotal: 16.7s\tremaining: 15.6s\n",
      "517:\tlearn: 0.4270886\ttotal: 16.7s\tremaining: 15.5s\n",
      "518:\tlearn: 0.4269436\ttotal: 16.7s\tremaining: 15.5s\n",
      "519:\tlearn: 0.4264967\ttotal: 16.7s\tremaining: 15.5s\n",
      "520:\tlearn: 0.4258609\ttotal: 16.8s\tremaining: 15.4s\n",
      "521:\tlearn: 0.4256615\ttotal: 16.8s\tremaining: 15.4s\n",
      "522:\tlearn: 0.4251394\ttotal: 16.9s\tremaining: 15.4s\n",
      "523:\tlearn: 0.4246466\ttotal: 16.9s\tremaining: 15.3s\n",
      "524:\tlearn: 0.4241567\ttotal: 16.9s\tremaining: 15.3s\n",
      "525:\tlearn: 0.4234252\ttotal: 17s\tremaining: 15.3s\n",
      "526:\tlearn: 0.4234016\ttotal: 17s\tremaining: 15.2s\n",
      "527:\tlearn: 0.4226325\ttotal: 17s\tremaining: 15.2s\n",
      "528:\tlearn: 0.4221930\ttotal: 17.1s\tremaining: 15.2s\n",
      "529:\tlearn: 0.4219420\ttotal: 17.1s\tremaining: 15.2s\n",
      "530:\tlearn: 0.4219420\ttotal: 17.1s\tremaining: 15.1s\n",
      "531:\tlearn: 0.4216367\ttotal: 17.1s\tremaining: 15.1s\n",
      "532:\tlearn: 0.4214018\ttotal: 17.2s\tremaining: 15s\n",
      "533:\tlearn: 0.4211889\ttotal: 17.2s\tremaining: 15s\n",
      "534:\tlearn: 0.4207944\ttotal: 17.2s\tremaining: 15s\n",
      "535:\tlearn: 0.4203075\ttotal: 17.3s\tremaining: 15s\n",
      "536:\tlearn: 0.4197602\ttotal: 17.3s\tremaining: 15s\n",
      "537:\tlearn: 0.4196759\ttotal: 17.4s\tremaining: 14.9s\n",
      "538:\tlearn: 0.4193079\ttotal: 17.4s\tremaining: 14.9s\n",
      "539:\tlearn: 0.4190591\ttotal: 17.4s\tremaining: 14.9s\n",
      "540:\tlearn: 0.4183182\ttotal: 17.5s\tremaining: 14.8s\n",
      "541:\tlearn: 0.4179509\ttotal: 17.5s\tremaining: 14.8s\n",
      "542:\tlearn: 0.4175395\ttotal: 17.6s\tremaining: 14.8s\n",
      "543:\tlearn: 0.4172067\ttotal: 17.6s\tremaining: 14.8s\n",
      "544:\tlearn: 0.4168135\ttotal: 17.6s\tremaining: 14.7s\n",
      "545:\tlearn: 0.4167750\ttotal: 17.7s\tremaining: 14.7s\n",
      "546:\tlearn: 0.4163654\ttotal: 17.7s\tremaining: 14.6s\n",
      "547:\tlearn: 0.4156965\ttotal: 17.7s\tremaining: 14.6s\n",
      "548:\tlearn: 0.4151509\ttotal: 17.8s\tremaining: 14.6s\n",
      "549:\tlearn: 0.4147040\ttotal: 17.8s\tremaining: 14.6s\n",
      "550:\tlearn: 0.4145574\ttotal: 17.8s\tremaining: 14.5s\n",
      "551:\tlearn: 0.4142921\ttotal: 17.9s\tremaining: 14.5s\n",
      "552:\tlearn: 0.4141521\ttotal: 17.9s\tremaining: 14.5s\n",
      "553:\tlearn: 0.4140194\ttotal: 17.9s\tremaining: 14.4s\n",
      "554:\tlearn: 0.4135880\ttotal: 18s\tremaining: 14.4s\n",
      "555:\tlearn: 0.4133847\ttotal: 18s\tremaining: 14.4s\n",
      "556:\tlearn: 0.4130721\ttotal: 18s\tremaining: 14.3s\n",
      "557:\tlearn: 0.4125773\ttotal: 18.1s\tremaining: 14.3s\n",
      "558:\tlearn: 0.4121091\ttotal: 18.1s\tremaining: 14.3s\n",
      "559:\tlearn: 0.4120016\ttotal: 18.1s\tremaining: 14.2s\n",
      "560:\tlearn: 0.4113940\ttotal: 18.1s\tremaining: 14.2s\n",
      "561:\tlearn: 0.4110991\ttotal: 18.2s\tremaining: 14.2s\n",
      "562:\tlearn: 0.4104108\ttotal: 18.2s\tremaining: 14.1s\n",
      "563:\tlearn: 0.4100341\ttotal: 18.3s\tremaining: 14.1s\n",
      "564:\tlearn: 0.4098584\ttotal: 18.3s\tremaining: 14.1s\n",
      "565:\tlearn: 0.4094961\ttotal: 18.3s\tremaining: 14s\n",
      "566:\tlearn: 0.4092530\ttotal: 18.4s\tremaining: 14s\n",
      "567:\tlearn: 0.4088078\ttotal: 18.4s\tremaining: 14s\n",
      "568:\tlearn: 0.4088078\ttotal: 18.4s\tremaining: 13.9s\n",
      "569:\tlearn: 0.4082460\ttotal: 18.4s\tremaining: 13.9s\n",
      "570:\tlearn: 0.4078650\ttotal: 18.5s\tremaining: 13.9s\n",
      "571:\tlearn: 0.4074682\ttotal: 18.5s\tremaining: 13.9s\n",
      "572:\tlearn: 0.4072080\ttotal: 18.6s\tremaining: 13.8s\n",
      "573:\tlearn: 0.4072045\ttotal: 18.6s\tremaining: 13.8s\n",
      "574:\tlearn: 0.4069163\ttotal: 18.6s\tremaining: 13.7s\n",
      "575:\tlearn: 0.4063845\ttotal: 18.6s\tremaining: 13.7s\n",
      "576:\tlearn: 0.4059271\ttotal: 18.7s\tremaining: 13.7s\n",
      "577:\tlearn: 0.4051522\ttotal: 18.7s\tremaining: 13.7s\n",
      "578:\tlearn: 0.4047514\ttotal: 18.7s\tremaining: 13.6s\n",
      "579:\tlearn: 0.4046155\ttotal: 18.8s\tremaining: 13.6s\n",
      "580:\tlearn: 0.4046095\ttotal: 18.8s\tremaining: 13.6s\n",
      "581:\tlearn: 0.4042468\ttotal: 18.8s\tremaining: 13.5s\n",
      "582:\tlearn: 0.4041853\ttotal: 18.9s\tremaining: 13.5s\n",
      "583:\tlearn: 0.4038501\ttotal: 18.9s\tremaining: 13.5s\n",
      "584:\tlearn: 0.4035101\ttotal: 18.9s\tremaining: 13.4s\n",
      "585:\tlearn: 0.4034999\ttotal: 18.9s\tremaining: 13.4s\n",
      "586:\tlearn: 0.4032198\ttotal: 19s\tremaining: 13.4s\n",
      "587:\tlearn: 0.4029929\ttotal: 19s\tremaining: 13.3s\n",
      "588:\tlearn: 0.4029791\ttotal: 19s\tremaining: 13.3s\n",
      "589:\tlearn: 0.4024305\ttotal: 19.1s\tremaining: 13.2s\n",
      "590:\tlearn: 0.4023064\ttotal: 19.1s\tremaining: 13.2s\n",
      "591:\tlearn: 0.4018795\ttotal: 19.1s\tremaining: 13.2s\n",
      "592:\tlearn: 0.4014506\ttotal: 19.2s\tremaining: 13.1s\n",
      "593:\tlearn: 0.4009743\ttotal: 19.2s\tremaining: 13.1s\n",
      "594:\tlearn: 0.4007764\ttotal: 19.2s\tremaining: 13.1s\n",
      "595:\tlearn: 0.4002924\ttotal: 19.3s\tremaining: 13.1s\n",
      "596:\tlearn: 0.4002074\ttotal: 19.3s\tremaining: 13s\n",
      "597:\tlearn: 0.3999794\ttotal: 19.3s\tremaining: 13s\n",
      "598:\tlearn: 0.3995148\ttotal: 19.3s\tremaining: 12.9s\n",
      "599:\tlearn: 0.3987388\ttotal: 19.4s\tremaining: 12.9s\n",
      "600:\tlearn: 0.3986830\ttotal: 19.4s\tremaining: 12.9s\n",
      "601:\tlearn: 0.3984709\ttotal: 19.4s\tremaining: 12.8s\n",
      "602:\tlearn: 0.3980558\ttotal: 19.5s\tremaining: 12.8s\n",
      "603:\tlearn: 0.3976794\ttotal: 19.5s\tremaining: 12.8s\n",
      "604:\tlearn: 0.3970095\ttotal: 19.5s\tremaining: 12.8s\n",
      "605:\tlearn: 0.3966205\ttotal: 19.6s\tremaining: 12.7s\n",
      "606:\tlearn: 0.3963359\ttotal: 19.6s\tremaining: 12.7s\n",
      "607:\tlearn: 0.3959030\ttotal: 19.6s\tremaining: 12.7s\n",
      "608:\tlearn: 0.3957552\ttotal: 19.7s\tremaining: 12.6s\n",
      "609:\tlearn: 0.3953620\ttotal: 19.7s\tremaining: 12.6s\n",
      "610:\tlearn: 0.3950393\ttotal: 19.7s\tremaining: 12.6s\n",
      "611:\tlearn: 0.3946014\ttotal: 19.8s\tremaining: 12.5s\n",
      "612:\tlearn: 0.3941504\ttotal: 19.8s\tremaining: 12.5s\n",
      "613:\tlearn: 0.3941068\ttotal: 19.8s\tremaining: 12.5s\n",
      "614:\tlearn: 0.3937111\ttotal: 19.9s\tremaining: 12.4s\n",
      "615:\tlearn: 0.3936650\ttotal: 19.9s\tremaining: 12.4s\n",
      "616:\tlearn: 0.3935946\ttotal: 19.9s\tremaining: 12.4s\n",
      "617:\tlearn: 0.3931409\ttotal: 20s\tremaining: 12.3s\n",
      "618:\tlearn: 0.3924613\ttotal: 20s\tremaining: 12.3s\n",
      "619:\tlearn: 0.3924613\ttotal: 20s\tremaining: 12.3s\n",
      "620:\tlearn: 0.3919338\ttotal: 20s\tremaining: 12.2s\n",
      "621:\tlearn: 0.3917611\ttotal: 20.1s\tremaining: 12.2s\n",
      "622:\tlearn: 0.3917579\ttotal: 20.1s\tremaining: 12.1s\n",
      "623:\tlearn: 0.3916137\ttotal: 20.1s\tremaining: 12.1s\n",
      "624:\tlearn: 0.3914093\ttotal: 20.1s\tremaining: 12.1s\n",
      "625:\tlearn: 0.3913888\ttotal: 20.1s\tremaining: 12s\n",
      "626:\tlearn: 0.3906588\ttotal: 20.2s\tremaining: 12s\n",
      "627:\tlearn: 0.3901667\ttotal: 20.2s\tremaining: 12s\n",
      "628:\tlearn: 0.3897331\ttotal: 20.3s\tremaining: 11.9s\n",
      "629:\tlearn: 0.3891558\ttotal: 20.3s\tremaining: 11.9s\n",
      "630:\tlearn: 0.3888397\ttotal: 20.3s\tremaining: 11.9s\n",
      "631:\tlearn: 0.3885487\ttotal: 20.4s\tremaining: 11.9s\n",
      "632:\tlearn: 0.3882177\ttotal: 20.4s\tremaining: 11.8s\n",
      "633:\tlearn: 0.3876974\ttotal: 20.4s\tremaining: 11.8s\n",
      "634:\tlearn: 0.3873967\ttotal: 20.5s\tremaining: 11.8s\n",
      "635:\tlearn: 0.3870566\ttotal: 20.5s\tremaining: 11.7s\n",
      "636:\tlearn: 0.3866481\ttotal: 20.5s\tremaining: 11.7s\n",
      "637:\tlearn: 0.3865693\ttotal: 20.6s\tremaining: 11.7s\n",
      "638:\tlearn: 0.3860188\ttotal: 20.6s\tremaining: 11.6s\n",
      "639:\tlearn: 0.3857570\ttotal: 20.6s\tremaining: 11.6s\n",
      "640:\tlearn: 0.3856974\ttotal: 20.7s\tremaining: 11.6s\n",
      "641:\tlearn: 0.3853042\ttotal: 20.7s\tremaining: 11.6s\n",
      "642:\tlearn: 0.3850498\ttotal: 20.8s\tremaining: 11.5s\n",
      "643:\tlearn: 0.3847816\ttotal: 20.8s\tremaining: 11.5s\n",
      "644:\tlearn: 0.3843254\ttotal: 20.8s\tremaining: 11.5s\n",
      "645:\tlearn: 0.3841910\ttotal: 20.9s\tremaining: 11.4s\n",
      "646:\tlearn: 0.3838171\ttotal: 20.9s\tremaining: 11.4s\n",
      "647:\tlearn: 0.3835748\ttotal: 20.9s\tremaining: 11.4s\n",
      "648:\tlearn: 0.3830021\ttotal: 21s\tremaining: 11.3s\n",
      "649:\tlearn: 0.3827613\ttotal: 21s\tremaining: 11.3s\n",
      "650:\tlearn: 0.3823084\ttotal: 21s\tremaining: 11.3s\n",
      "651:\tlearn: 0.3819278\ttotal: 21.1s\tremaining: 11.2s\n",
      "652:\tlearn: 0.3815168\ttotal: 21.1s\tremaining: 11.2s\n",
      "653:\tlearn: 0.3809724\ttotal: 21.1s\tremaining: 11.2s\n",
      "654:\tlearn: 0.3807320\ttotal: 21.2s\tremaining: 11.1s\n"
     ]
    },
    {
     "name": "stdout",
     "output_type": "stream",
     "text": [
      "655:\tlearn: 0.3802819\ttotal: 21.2s\tremaining: 11.1s\n",
      "656:\tlearn: 0.3800229\ttotal: 21.2s\tremaining: 11.1s\n",
      "657:\tlearn: 0.3796991\ttotal: 21.3s\tremaining: 11.1s\n",
      "658:\tlearn: 0.3795072\ttotal: 21.3s\tremaining: 11s\n",
      "659:\tlearn: 0.3789804\ttotal: 21.3s\tremaining: 11s\n",
      "660:\tlearn: 0.3788366\ttotal: 21.4s\tremaining: 11s\n",
      "661:\tlearn: 0.3787741\ttotal: 21.4s\tremaining: 10.9s\n",
      "662:\tlearn: 0.3784942\ttotal: 21.4s\tremaining: 10.9s\n",
      "663:\tlearn: 0.3782091\ttotal: 21.5s\tremaining: 10.9s\n",
      "664:\tlearn: 0.3780130\ttotal: 21.5s\tremaining: 10.8s\n",
      "665:\tlearn: 0.3778053\ttotal: 21.5s\tremaining: 10.8s\n",
      "666:\tlearn: 0.3774626\ttotal: 21.6s\tremaining: 10.8s\n",
      "667:\tlearn: 0.3769243\ttotal: 21.6s\tremaining: 10.8s\n",
      "668:\tlearn: 0.3768262\ttotal: 21.7s\tremaining: 10.7s\n",
      "669:\tlearn: 0.3761743\ttotal: 21.7s\tremaining: 10.7s\n",
      "670:\tlearn: 0.3759993\ttotal: 21.8s\tremaining: 10.7s\n",
      "671:\tlearn: 0.3758747\ttotal: 21.8s\tremaining: 10.6s\n",
      "672:\tlearn: 0.3753884\ttotal: 21.9s\tremaining: 10.6s\n",
      "673:\tlearn: 0.3750421\ttotal: 21.9s\tremaining: 10.6s\n",
      "674:\tlearn: 0.3747648\ttotal: 21.9s\tremaining: 10.6s\n",
      "675:\tlearn: 0.3745355\ttotal: 22s\tremaining: 10.5s\n",
      "676:\tlearn: 0.3742622\ttotal: 22s\tremaining: 10.5s\n",
      "677:\tlearn: 0.3740310\ttotal: 22s\tremaining: 10.5s\n",
      "678:\tlearn: 0.3735548\ttotal: 22.1s\tremaining: 10.4s\n",
      "679:\tlearn: 0.3733511\ttotal: 22.1s\tremaining: 10.4s\n",
      "680:\tlearn: 0.3731961\ttotal: 22.1s\tremaining: 10.4s\n",
      "681:\tlearn: 0.3726677\ttotal: 22.2s\tremaining: 10.3s\n",
      "682:\tlearn: 0.3725656\ttotal: 22.2s\tremaining: 10.3s\n",
      "683:\tlearn: 0.3722001\ttotal: 22.3s\tremaining: 10.3s\n",
      "684:\tlearn: 0.3715524\ttotal: 22.3s\tremaining: 10.2s\n",
      "685:\tlearn: 0.3710924\ttotal: 22.3s\tremaining: 10.2s\n",
      "686:\tlearn: 0.3708310\ttotal: 22.4s\tremaining: 10.2s\n",
      "687:\tlearn: 0.3707305\ttotal: 22.4s\tremaining: 10.1s\n",
      "688:\tlearn: 0.3705581\ttotal: 22.4s\tremaining: 10.1s\n",
      "689:\tlearn: 0.3705159\ttotal: 22.4s\tremaining: 10.1s\n",
      "690:\tlearn: 0.3705146\ttotal: 22.4s\tremaining: 10s\n",
      "691:\tlearn: 0.3701015\ttotal: 22.5s\tremaining: 10s\n",
      "692:\tlearn: 0.3697772\ttotal: 22.5s\tremaining: 9.97s\n",
      "693:\tlearn: 0.3697571\ttotal: 22.5s\tremaining: 9.93s\n",
      "694:\tlearn: 0.3693240\ttotal: 22.6s\tremaining: 9.9s\n",
      "695:\tlearn: 0.3690095\ttotal: 22.6s\tremaining: 9.87s\n",
      "696:\tlearn: 0.3686290\ttotal: 22.6s\tremaining: 9.84s\n",
      "697:\tlearn: 0.3682173\ttotal: 22.7s\tremaining: 9.8s\n",
      "698:\tlearn: 0.3676932\ttotal: 22.7s\tremaining: 9.77s\n",
      "699:\tlearn: 0.3675631\ttotal: 22.7s\tremaining: 9.74s\n",
      "700:\tlearn: 0.3669637\ttotal: 22.8s\tremaining: 9.71s\n",
      "701:\tlearn: 0.3668875\ttotal: 22.8s\tremaining: 9.68s\n",
      "702:\tlearn: 0.3667446\ttotal: 22.8s\tremaining: 9.64s\n",
      "703:\tlearn: 0.3664665\ttotal: 22.9s\tremaining: 9.61s\n",
      "704:\tlearn: 0.3662315\ttotal: 22.9s\tremaining: 9.58s\n",
      "705:\tlearn: 0.3657480\ttotal: 22.9s\tremaining: 9.55s\n",
      "706:\tlearn: 0.3654563\ttotal: 23s\tremaining: 9.52s\n",
      "707:\tlearn: 0.3650573\ttotal: 23s\tremaining: 9.49s\n",
      "708:\tlearn: 0.3649977\ttotal: 23s\tremaining: 9.45s\n",
      "709:\tlearn: 0.3647504\ttotal: 23.1s\tremaining: 9.41s\n",
      "710:\tlearn: 0.3643798\ttotal: 23.1s\tremaining: 9.38s\n",
      "711:\tlearn: 0.3641380\ttotal: 23.1s\tremaining: 9.35s\n",
      "712:\tlearn: 0.3638476\ttotal: 23.1s\tremaining: 9.32s\n",
      "713:\tlearn: 0.3636239\ttotal: 23.2s\tremaining: 9.29s\n",
      "714:\tlearn: 0.3633134\ttotal: 23.2s\tremaining: 9.26s\n",
      "715:\tlearn: 0.3631456\ttotal: 23.3s\tremaining: 9.23s\n",
      "716:\tlearn: 0.3628562\ttotal: 23.3s\tremaining: 9.2s\n",
      "717:\tlearn: 0.3627510\ttotal: 23.3s\tremaining: 9.16s\n",
      "718:\tlearn: 0.3626207\ttotal: 23.4s\tremaining: 9.13s\n",
      "719:\tlearn: 0.3625371\ttotal: 23.4s\tremaining: 9.09s\n",
      "720:\tlearn: 0.3624285\ttotal: 23.4s\tremaining: 9.06s\n",
      "721:\tlearn: 0.3623291\ttotal: 23.4s\tremaining: 9.02s\n",
      "722:\tlearn: 0.3622053\ttotal: 23.5s\tremaining: 8.99s\n",
      "723:\tlearn: 0.3617788\ttotal: 23.5s\tremaining: 8.96s\n",
      "724:\tlearn: 0.3613414\ttotal: 23.5s\tremaining: 8.93s\n",
      "725:\tlearn: 0.3613403\ttotal: 23.6s\tremaining: 8.89s\n",
      "726:\tlearn: 0.3611171\ttotal: 23.6s\tremaining: 8.86s\n",
      "727:\tlearn: 0.3606692\ttotal: 23.6s\tremaining: 8.83s\n",
      "728:\tlearn: 0.3604576\ttotal: 23.7s\tremaining: 8.79s\n",
      "729:\tlearn: 0.3599209\ttotal: 23.7s\tremaining: 8.76s\n",
      "730:\tlearn: 0.3597264\ttotal: 23.7s\tremaining: 8.73s\n",
      "731:\tlearn: 0.3595240\ttotal: 23.8s\tremaining: 8.7s\n",
      "732:\tlearn: 0.3593423\ttotal: 23.8s\tremaining: 8.67s\n",
      "733:\tlearn: 0.3589975\ttotal: 23.8s\tremaining: 8.63s\n",
      "734:\tlearn: 0.3588373\ttotal: 23.9s\tremaining: 8.61s\n",
      "735:\tlearn: 0.3586834\ttotal: 23.9s\tremaining: 8.57s\n",
      "736:\tlearn: 0.3586823\ttotal: 23.9s\tremaining: 8.53s\n",
      "737:\tlearn: 0.3586377\ttotal: 23.9s\tremaining: 8.5s\n",
      "738:\tlearn: 0.3584835\ttotal: 24s\tremaining: 8.46s\n",
      "739:\tlearn: 0.3581382\ttotal: 24s\tremaining: 8.43s\n",
      "740:\tlearn: 0.3577934\ttotal: 24s\tremaining: 8.4s\n",
      "741:\tlearn: 0.3574708\ttotal: 24.1s\tremaining: 8.37s\n",
      "742:\tlearn: 0.3570610\ttotal: 24.1s\tremaining: 8.34s\n",
      "743:\tlearn: 0.3569602\ttotal: 24.1s\tremaining: 8.3s\n",
      "744:\tlearn: 0.3566706\ttotal: 24.2s\tremaining: 8.27s\n",
      "745:\tlearn: 0.3562460\ttotal: 24.2s\tremaining: 8.24s\n",
      "746:\tlearn: 0.3561527\ttotal: 24.2s\tremaining: 8.21s\n",
      "747:\tlearn: 0.3561060\ttotal: 24.3s\tremaining: 8.17s\n",
      "748:\tlearn: 0.3557239\ttotal: 24.3s\tremaining: 8.15s\n",
      "749:\tlearn: 0.3553580\ttotal: 24.3s\tremaining: 8.12s\n",
      "750:\tlearn: 0.3550744\ttotal: 24.4s\tremaining: 8.08s\n",
      "751:\tlearn: 0.3549673\ttotal: 24.4s\tremaining: 8.05s\n",
      "752:\tlearn: 0.3547198\ttotal: 24.4s\tremaining: 8.02s\n",
      "753:\tlearn: 0.3544536\ttotal: 24.5s\tremaining: 7.98s\n",
      "754:\tlearn: 0.3541478\ttotal: 24.5s\tremaining: 7.95s\n",
      "755:\tlearn: 0.3536948\ttotal: 24.5s\tremaining: 7.92s\n",
      "756:\tlearn: 0.3534786\ttotal: 24.6s\tremaining: 7.89s\n",
      "757:\tlearn: 0.3529171\ttotal: 24.6s\tremaining: 7.86s\n",
      "758:\tlearn: 0.3525426\ttotal: 24.6s\tremaining: 7.83s\n",
      "759:\tlearn: 0.3525138\ttotal: 24.7s\tremaining: 7.79s\n",
      "760:\tlearn: 0.3522746\ttotal: 24.7s\tremaining: 7.75s\n",
      "761:\tlearn: 0.3519303\ttotal: 24.7s\tremaining: 7.72s\n",
      "762:\tlearn: 0.3516164\ttotal: 24.8s\tremaining: 7.69s\n",
      "763:\tlearn: 0.3512990\ttotal: 24.8s\tremaining: 7.66s\n",
      "764:\tlearn: 0.3511697\ttotal: 24.8s\tremaining: 7.63s\n",
      "765:\tlearn: 0.3510809\ttotal: 24.9s\tremaining: 7.59s\n",
      "766:\tlearn: 0.3507192\ttotal: 24.9s\tremaining: 7.56s\n",
      "767:\tlearn: 0.3505262\ttotal: 24.9s\tremaining: 7.53s\n",
      "768:\tlearn: 0.3500527\ttotal: 25s\tremaining: 7.5s\n",
      "769:\tlearn: 0.3500060\ttotal: 25s\tremaining: 7.46s\n",
      "770:\tlearn: 0.3498867\ttotal: 25s\tremaining: 7.42s\n",
      "771:\tlearn: 0.3494975\ttotal: 25s\tremaining: 7.39s\n",
      "772:\tlearn: 0.3492667\ttotal: 25.1s\tremaining: 7.36s\n",
      "773:\tlearn: 0.3489555\ttotal: 25.1s\tremaining: 7.32s\n",
      "774:\tlearn: 0.3488013\ttotal: 25.1s\tremaining: 7.29s\n",
      "775:\tlearn: 0.3487276\ttotal: 25.1s\tremaining: 7.26s\n",
      "776:\tlearn: 0.3485356\ttotal: 25.2s\tremaining: 7.23s\n",
      "777:\tlearn: 0.3485046\ttotal: 25.2s\tremaining: 7.19s\n",
      "778:\tlearn: 0.3482696\ttotal: 25.2s\tremaining: 7.16s\n",
      "779:\tlearn: 0.3479385\ttotal: 25.3s\tremaining: 7.13s\n",
      "780:\tlearn: 0.3474379\ttotal: 25.3s\tremaining: 7.1s\n",
      "781:\tlearn: 0.3470334\ttotal: 25.3s\tremaining: 7.06s\n",
      "782:\tlearn: 0.3467155\ttotal: 25.4s\tremaining: 7.03s\n",
      "783:\tlearn: 0.3464120\ttotal: 25.4s\tremaining: 7s\n",
      "784:\tlearn: 0.3462231\ttotal: 25.4s\tremaining: 6.97s\n",
      "785:\tlearn: 0.3460513\ttotal: 25.5s\tremaining: 6.94s\n",
      "786:\tlearn: 0.3459475\ttotal: 25.5s\tremaining: 6.9s\n",
      "787:\tlearn: 0.3456194\ttotal: 25.5s\tremaining: 6.87s\n",
      "788:\tlearn: 0.3452194\ttotal: 25.6s\tremaining: 6.84s\n",
      "789:\tlearn: 0.3449448\ttotal: 25.6s\tremaining: 6.81s\n",
      "790:\tlearn: 0.3449236\ttotal: 25.6s\tremaining: 6.77s\n",
      "791:\tlearn: 0.3449226\ttotal: 25.6s\tremaining: 6.73s\n",
      "792:\tlearn: 0.3445637\ttotal: 25.7s\tremaining: 6.7s\n",
      "793:\tlearn: 0.3441916\ttotal: 25.7s\tremaining: 6.66s\n",
      "794:\tlearn: 0.3438312\ttotal: 25.7s\tremaining: 6.63s\n",
      "795:\tlearn: 0.3437491\ttotal: 25.8s\tremaining: 6.6s\n",
      "796:\tlearn: 0.3436499\ttotal: 25.8s\tremaining: 6.57s\n",
      "797:\tlearn: 0.3434975\ttotal: 25.8s\tremaining: 6.54s\n",
      "798:\tlearn: 0.3430515\ttotal: 25.9s\tremaining: 6.51s\n",
      "799:\tlearn: 0.3426292\ttotal: 25.9s\tremaining: 6.47s\n",
      "800:\tlearn: 0.3423009\ttotal: 25.9s\tremaining: 6.44s\n",
      "801:\tlearn: 0.3422197\ttotal: 26s\tremaining: 6.41s\n",
      "802:\tlearn: 0.3418323\ttotal: 26s\tremaining: 6.38s\n",
      "803:\tlearn: 0.3416553\ttotal: 26s\tremaining: 6.35s\n",
      "804:\tlearn: 0.3413880\ttotal: 26.1s\tremaining: 6.32s\n",
      "805:\tlearn: 0.3413599\ttotal: 26.1s\tremaining: 6.28s\n",
      "806:\tlearn: 0.3409894\ttotal: 26.1s\tremaining: 6.25s\n",
      "807:\tlearn: 0.3406844\ttotal: 26.2s\tremaining: 6.22s\n",
      "808:\tlearn: 0.3404825\ttotal: 26.2s\tremaining: 6.18s\n",
      "809:\tlearn: 0.3401259\ttotal: 26.2s\tremaining: 6.16s\n",
      "810:\tlearn: 0.3397631\ttotal: 26.3s\tremaining: 6.12s\n",
      "811:\tlearn: 0.3395645\ttotal: 26.3s\tremaining: 6.09s\n",
      "812:\tlearn: 0.3394227\ttotal: 26.3s\tremaining: 6.06s\n",
      "813:\tlearn: 0.3391065\ttotal: 26.4s\tremaining: 6.03s\n",
      "814:\tlearn: 0.3390297\ttotal: 26.4s\tremaining: 5.99s\n",
      "815:\tlearn: 0.3390297\ttotal: 26.4s\tremaining: 5.95s\n",
      "816:\tlearn: 0.3387038\ttotal: 26.4s\tremaining: 5.92s\n",
      "817:\tlearn: 0.3386121\ttotal: 26.4s\tremaining: 5.88s\n"
     ]
    },
    {
     "name": "stdout",
     "output_type": "stream",
     "text": [
      "818:\tlearn: 0.3383500\ttotal: 26.5s\tremaining: 5.85s\n",
      "819:\tlearn: 0.3382549\ttotal: 26.5s\tremaining: 5.82s\n",
      "820:\tlearn: 0.3380711\ttotal: 26.5s\tremaining: 5.78s\n",
      "821:\tlearn: 0.3377581\ttotal: 26.6s\tremaining: 5.75s\n",
      "822:\tlearn: 0.3372346\ttotal: 26.6s\tremaining: 5.72s\n",
      "823:\tlearn: 0.3370700\ttotal: 26.6s\tremaining: 5.69s\n",
      "824:\tlearn: 0.3367319\ttotal: 26.7s\tremaining: 5.66s\n",
      "825:\tlearn: 0.3364005\ttotal: 26.7s\tremaining: 5.62s\n",
      "826:\tlearn: 0.3360898\ttotal: 26.7s\tremaining: 5.59s\n",
      "827:\tlearn: 0.3359631\ttotal: 26.8s\tremaining: 5.56s\n",
      "828:\tlearn: 0.3354611\ttotal: 26.8s\tremaining: 5.53s\n",
      "829:\tlearn: 0.3354611\ttotal: 26.8s\tremaining: 5.49s\n",
      "830:\tlearn: 0.3352501\ttotal: 26.9s\tremaining: 5.46s\n",
      "831:\tlearn: 0.3349967\ttotal: 26.9s\tremaining: 5.43s\n",
      "832:\tlearn: 0.3347622\ttotal: 26.9s\tremaining: 5.4s\n",
      "833:\tlearn: 0.3343527\ttotal: 26.9s\tremaining: 5.36s\n",
      "834:\tlearn: 0.3340606\ttotal: 27s\tremaining: 5.33s\n",
      "835:\tlearn: 0.3337953\ttotal: 27s\tremaining: 5.3s\n",
      "836:\tlearn: 0.3335491\ttotal: 27s\tremaining: 5.27s\n",
      "837:\tlearn: 0.3332597\ttotal: 27.1s\tremaining: 5.24s\n",
      "838:\tlearn: 0.3330999\ttotal: 27.1s\tremaining: 5.2s\n",
      "839:\tlearn: 0.3329060\ttotal: 27.2s\tremaining: 5.17s\n",
      "840:\tlearn: 0.3328206\ttotal: 27.2s\tremaining: 5.14s\n",
      "841:\tlearn: 0.3326855\ttotal: 27.2s\tremaining: 5.1s\n",
      "842:\tlearn: 0.3321937\ttotal: 27.2s\tremaining: 5.07s\n",
      "843:\tlearn: 0.3317344\ttotal: 27.3s\tremaining: 5.04s\n",
      "844:\tlearn: 0.3313700\ttotal: 27.3s\tremaining: 5.01s\n",
      "845:\tlearn: 0.3310521\ttotal: 27.3s\tremaining: 4.97s\n",
      "846:\tlearn: 0.3306207\ttotal: 27.4s\tremaining: 4.94s\n",
      "847:\tlearn: 0.3304268\ttotal: 27.4s\tremaining: 4.91s\n",
      "848:\tlearn: 0.3301760\ttotal: 27.4s\tremaining: 4.88s\n",
      "849:\tlearn: 0.3300399\ttotal: 27.5s\tremaining: 4.85s\n",
      "850:\tlearn: 0.3298947\ttotal: 27.5s\tremaining: 4.81s\n",
      "851:\tlearn: 0.3295323\ttotal: 27.5s\tremaining: 4.78s\n",
      "852:\tlearn: 0.3292102\ttotal: 27.6s\tremaining: 4.75s\n",
      "853:\tlearn: 0.3290507\ttotal: 27.6s\tremaining: 4.72s\n",
      "854:\tlearn: 0.3290507\ttotal: 27.6s\tremaining: 4.68s\n",
      "855:\tlearn: 0.3289131\ttotal: 27.6s\tremaining: 4.65s\n",
      "856:\tlearn: 0.3285909\ttotal: 27.7s\tremaining: 4.62s\n",
      "857:\tlearn: 0.3285511\ttotal: 27.7s\tremaining: 4.58s\n",
      "858:\tlearn: 0.3280915\ttotal: 27.7s\tremaining: 4.55s\n",
      "859:\tlearn: 0.3278382\ttotal: 27.8s\tremaining: 4.52s\n",
      "860:\tlearn: 0.3275389\ttotal: 27.8s\tremaining: 4.49s\n",
      "861:\tlearn: 0.3271833\ttotal: 27.8s\tremaining: 4.46s\n",
      "862:\tlearn: 0.3267825\ttotal: 27.9s\tremaining: 4.42s\n",
      "863:\tlearn: 0.3265634\ttotal: 27.9s\tremaining: 4.39s\n",
      "864:\tlearn: 0.3264223\ttotal: 27.9s\tremaining: 4.36s\n",
      "865:\tlearn: 0.3260875\ttotal: 28s\tremaining: 4.33s\n",
      "866:\tlearn: 0.3259752\ttotal: 28s\tremaining: 4.3s\n",
      "867:\tlearn: 0.3256230\ttotal: 28s\tremaining: 4.26s\n",
      "868:\tlearn: 0.3253387\ttotal: 28.1s\tremaining: 4.23s\n",
      "869:\tlearn: 0.3249981\ttotal: 28.1s\tremaining: 4.2s\n",
      "870:\tlearn: 0.3245799\ttotal: 28.2s\tremaining: 4.17s\n",
      "871:\tlearn: 0.3240287\ttotal: 28.2s\tremaining: 4.14s\n",
      "872:\tlearn: 0.3235042\ttotal: 28.2s\tremaining: 4.11s\n",
      "873:\tlearn: 0.3233411\ttotal: 28.3s\tremaining: 4.07s\n",
      "874:\tlearn: 0.3229992\ttotal: 28.3s\tremaining: 4.04s\n",
      "875:\tlearn: 0.3227581\ttotal: 28.3s\tremaining: 4.01s\n",
      "876:\tlearn: 0.3226126\ttotal: 28.4s\tremaining: 3.98s\n",
      "877:\tlearn: 0.3223307\ttotal: 28.4s\tremaining: 3.95s\n",
      "878:\tlearn: 0.3219618\ttotal: 28.4s\tremaining: 3.91s\n",
      "879:\tlearn: 0.3217937\ttotal: 28.5s\tremaining: 3.88s\n",
      "880:\tlearn: 0.3212602\ttotal: 28.5s\tremaining: 3.85s\n",
      "881:\tlearn: 0.3210144\ttotal: 28.5s\tremaining: 3.82s\n",
      "882:\tlearn: 0.3209329\ttotal: 28.6s\tremaining: 3.79s\n",
      "883:\tlearn: 0.3207822\ttotal: 28.6s\tremaining: 3.75s\n",
      "884:\tlearn: 0.3207806\ttotal: 28.6s\tremaining: 3.72s\n",
      "885:\tlearn: 0.3206188\ttotal: 28.6s\tremaining: 3.69s\n",
      "886:\tlearn: 0.3202724\ttotal: 28.7s\tremaining: 3.65s\n",
      "887:\tlearn: 0.3202724\ttotal: 28.7s\tremaining: 3.62s\n",
      "888:\tlearn: 0.3198039\ttotal: 28.7s\tremaining: 3.58s\n",
      "889:\tlearn: 0.3194671\ttotal: 28.8s\tremaining: 3.55s\n",
      "890:\tlearn: 0.3194070\ttotal: 28.8s\tremaining: 3.52s\n",
      "891:\tlearn: 0.3193800\ttotal: 28.8s\tremaining: 3.49s\n",
      "892:\tlearn: 0.3191766\ttotal: 28.8s\tremaining: 3.46s\n",
      "893:\tlearn: 0.3188080\ttotal: 28.9s\tremaining: 3.42s\n",
      "894:\tlearn: 0.3186251\ttotal: 28.9s\tremaining: 3.39s\n",
      "895:\tlearn: 0.3184223\ttotal: 28.9s\tremaining: 3.36s\n",
      "896:\tlearn: 0.3181230\ttotal: 29s\tremaining: 3.33s\n",
      "897:\tlearn: 0.3175892\ttotal: 29s\tremaining: 3.29s\n",
      "898:\tlearn: 0.3174218\ttotal: 29.1s\tremaining: 3.26s\n",
      "899:\tlearn: 0.3172311\ttotal: 29.1s\tremaining: 3.23s\n",
      "900:\tlearn: 0.3170293\ttotal: 29.1s\tremaining: 3.2s\n",
      "901:\tlearn: 0.3168583\ttotal: 29.2s\tremaining: 3.17s\n",
      "902:\tlearn: 0.3165204\ttotal: 29.2s\tremaining: 3.13s\n",
      "903:\tlearn: 0.3160089\ttotal: 29.2s\tremaining: 3.1s\n",
      "904:\tlearn: 0.3157245\ttotal: 29.3s\tremaining: 3.07s\n",
      "905:\tlearn: 0.3156099\ttotal: 29.3s\tremaining: 3.04s\n",
      "906:\tlearn: 0.3151862\ttotal: 29.3s\tremaining: 3.01s\n",
      "907:\tlearn: 0.3151050\ttotal: 29.3s\tremaining: 2.97s\n",
      "908:\tlearn: 0.3145431\ttotal: 29.4s\tremaining: 2.94s\n",
      "909:\tlearn: 0.3141120\ttotal: 29.4s\tremaining: 2.91s\n",
      "910:\tlearn: 0.3138760\ttotal: 29.4s\tremaining: 2.88s\n",
      "911:\tlearn: 0.3137156\ttotal: 29.5s\tremaining: 2.84s\n",
      "912:\tlearn: 0.3133760\ttotal: 29.5s\tremaining: 2.81s\n",
      "913:\tlearn: 0.3130177\ttotal: 29.6s\tremaining: 2.78s\n",
      "914:\tlearn: 0.3127898\ttotal: 29.6s\tremaining: 2.75s\n",
      "915:\tlearn: 0.3124740\ttotal: 29.6s\tremaining: 2.72s\n",
      "916:\tlearn: 0.3121893\ttotal: 29.7s\tremaining: 2.69s\n",
      "917:\tlearn: 0.3121893\ttotal: 29.7s\tremaining: 2.65s\n",
      "918:\tlearn: 0.3119587\ttotal: 29.7s\tremaining: 2.62s\n",
      "919:\tlearn: 0.3116829\ttotal: 29.7s\tremaining: 2.58s\n",
      "920:\tlearn: 0.3113933\ttotal: 29.8s\tremaining: 2.55s\n",
      "921:\tlearn: 0.3112087\ttotal: 29.8s\tremaining: 2.52s\n",
      "922:\tlearn: 0.3110524\ttotal: 29.8s\tremaining: 2.49s\n",
      "923:\tlearn: 0.3108628\ttotal: 29.9s\tremaining: 2.46s\n",
      "924:\tlearn: 0.3106552\ttotal: 29.9s\tremaining: 2.42s\n",
      "925:\tlearn: 0.3104719\ttotal: 29.9s\tremaining: 2.39s\n",
      "926:\tlearn: 0.3102029\ttotal: 30s\tremaining: 2.36s\n",
      "927:\tlearn: 0.3100717\ttotal: 30s\tremaining: 2.33s\n",
      "928:\tlearn: 0.3100702\ttotal: 30s\tremaining: 2.29s\n",
      "929:\tlearn: 0.3098631\ttotal: 30.1s\tremaining: 2.26s\n",
      "930:\tlearn: 0.3095374\ttotal: 30.1s\tremaining: 2.23s\n",
      "931:\tlearn: 0.3092323\ttotal: 30.1s\tremaining: 2.2s\n",
      "932:\tlearn: 0.3090223\ttotal: 30.2s\tremaining: 2.17s\n",
      "933:\tlearn: 0.3089407\ttotal: 30.2s\tremaining: 2.13s\n",
      "934:\tlearn: 0.3086790\ttotal: 30.2s\tremaining: 2.1s\n",
      "935:\tlearn: 0.3085847\ttotal: 30.3s\tremaining: 2.07s\n",
      "936:\tlearn: 0.3083140\ttotal: 30.3s\tremaining: 2.04s\n",
      "937:\tlearn: 0.3080008\ttotal: 30.3s\tremaining: 2s\n",
      "938:\tlearn: 0.3077685\ttotal: 30.4s\tremaining: 1.97s\n",
      "939:\tlearn: 0.3075136\ttotal: 30.4s\tremaining: 1.94s\n",
      "940:\tlearn: 0.3071167\ttotal: 30.4s\tremaining: 1.91s\n",
      "941:\tlearn: 0.3071114\ttotal: 30.4s\tremaining: 1.87s\n",
      "942:\tlearn: 0.3068810\ttotal: 30.5s\tremaining: 1.84s\n",
      "943:\tlearn: 0.3066972\ttotal: 30.5s\tremaining: 1.81s\n",
      "944:\tlearn: 0.3065756\ttotal: 30.6s\tremaining: 1.78s\n",
      "945:\tlearn: 0.3062595\ttotal: 30.6s\tremaining: 1.75s\n",
      "946:\tlearn: 0.3061584\ttotal: 30.6s\tremaining: 1.71s\n",
      "947:\tlearn: 0.3058617\ttotal: 30.6s\tremaining: 1.68s\n",
      "948:\tlearn: 0.3054448\ttotal: 30.7s\tremaining: 1.65s\n",
      "949:\tlearn: 0.3052194\ttotal: 30.7s\tremaining: 1.62s\n",
      "950:\tlearn: 0.3050535\ttotal: 30.8s\tremaining: 1.58s\n",
      "951:\tlearn: 0.3049963\ttotal: 30.8s\tremaining: 1.55s\n",
      "952:\tlearn: 0.3047244\ttotal: 30.8s\tremaining: 1.52s\n",
      "953:\tlearn: 0.3046508\ttotal: 30.9s\tremaining: 1.49s\n",
      "954:\tlearn: 0.3043845\ttotal: 30.9s\tremaining: 1.46s\n",
      "955:\tlearn: 0.3043692\ttotal: 30.9s\tremaining: 1.42s\n",
      "956:\tlearn: 0.3042347\ttotal: 30.9s\tremaining: 1.39s\n",
      "957:\tlearn: 0.3040221\ttotal: 31s\tremaining: 1.36s\n",
      "958:\tlearn: 0.3038387\ttotal: 31s\tremaining: 1.32s\n",
      "959:\tlearn: 0.3037536\ttotal: 31s\tremaining: 1.29s\n",
      "960:\tlearn: 0.3036478\ttotal: 31.1s\tremaining: 1.26s\n",
      "961:\tlearn: 0.3033222\ttotal: 31.1s\tremaining: 1.23s\n",
      "962:\tlearn: 0.3031345\ttotal: 31.1s\tremaining: 1.2s\n",
      "963:\tlearn: 0.3029955\ttotal: 31.2s\tremaining: 1.16s\n",
      "964:\tlearn: 0.3027084\ttotal: 31.2s\tremaining: 1.13s\n",
      "965:\tlearn: 0.3024234\ttotal: 31.2s\tremaining: 1.1s\n",
      "966:\tlearn: 0.3020769\ttotal: 31.3s\tremaining: 1.07s\n",
      "967:\tlearn: 0.3020767\ttotal: 31.3s\tremaining: 1.03s\n",
      "968:\tlearn: 0.3016593\ttotal: 31.3s\tremaining: 1s\n",
      "969:\tlearn: 0.3014052\ttotal: 31.4s\tremaining: 970ms\n",
      "970:\tlearn: 0.3013246\ttotal: 31.4s\tremaining: 937ms\n",
      "971:\tlearn: 0.3012845\ttotal: 31.4s\tremaining: 905ms\n",
      "972:\tlearn: 0.3011642\ttotal: 31.4s\tremaining: 873ms\n",
      "973:\tlearn: 0.3009278\ttotal: 31.5s\tremaining: 840ms\n",
      "974:\tlearn: 0.3007339\ttotal: 31.5s\tremaining: 808ms\n",
      "975:\tlearn: 0.3005428\ttotal: 31.5s\tremaining: 776ms\n",
      "976:\tlearn: 0.3002630\ttotal: 31.6s\tremaining: 743ms\n",
      "977:\tlearn: 0.3000749\ttotal: 31.6s\tremaining: 711ms\n",
      "978:\tlearn: 0.2998049\ttotal: 31.6s\tremaining: 679ms\n",
      "979:\tlearn: 0.2994343\ttotal: 31.7s\tremaining: 647ms\n",
      "980:\tlearn: 0.2990379\ttotal: 31.7s\tremaining: 614ms\n",
      "981:\tlearn: 0.2988893\ttotal: 31.8s\tremaining: 582ms\n",
      "982:\tlearn: 0.2985153\ttotal: 31.8s\tremaining: 550ms\n"
     ]
    },
    {
     "name": "stdout",
     "output_type": "stream",
     "text": [
      "983:\tlearn: 0.2981757\ttotal: 31.8s\tremaining: 518ms\n",
      "984:\tlearn: 0.2981757\ttotal: 31.8s\tremaining: 485ms\n",
      "985:\tlearn: 0.2979554\ttotal: 31.9s\tremaining: 453ms\n",
      "986:\tlearn: 0.2978944\ttotal: 31.9s\tremaining: 420ms\n",
      "987:\tlearn: 0.2978185\ttotal: 31.9s\tremaining: 388ms\n",
      "988:\tlearn: 0.2976197\ttotal: 32s\tremaining: 356ms\n",
      "989:\tlearn: 0.2972177\ttotal: 32s\tremaining: 323ms\n",
      "990:\tlearn: 0.2968543\ttotal: 32s\tremaining: 291ms\n",
      "991:\tlearn: 0.2965119\ttotal: 32.1s\tremaining: 259ms\n",
      "992:\tlearn: 0.2963405\ttotal: 32.1s\tremaining: 227ms\n",
      "993:\tlearn: 0.2959092\ttotal: 32.2s\tremaining: 194ms\n",
      "994:\tlearn: 0.2957986\ttotal: 32.2s\tremaining: 162ms\n",
      "995:\tlearn: 0.2956002\ttotal: 32.2s\tremaining: 129ms\n",
      "996:\tlearn: 0.2953323\ttotal: 32.3s\tremaining: 97.1ms\n",
      "997:\tlearn: 0.2950865\ttotal: 32.3s\tremaining: 64.7ms\n",
      "998:\tlearn: 0.2950517\ttotal: 32.3s\tremaining: 32.4ms\n",
      "999:\tlearn: 0.2948616\ttotal: 32.4s\tremaining: 0us\n",
      "CPU times: total: 1min 3s\n",
      "Wall time: 32.6 s\n"
     ]
    }
   ],
   "source": [
    "%%time\n",
    "cat_boost = CatBoostClassifier(verbose=False)\n",
    "cat_boost = cat_boost.fit(x_train, y_train, cat_indexes)"
   ]
  },
  {
   "cell_type": "code",
   "execution_count": 154,
   "id": "67cdf29e",
   "metadata": {},
   "outputs": [],
   "source": [
    "y_pred = cat_boost.predict(x_test)"
   ]
  },
  {
   "cell_type": "code",
   "execution_count": 155,
   "id": "9e3841e6",
   "metadata": {},
   "outputs": [
    {
     "data": {
      "text/plain": [
       "0.42857142857142855"
      ]
     },
     "execution_count": 155,
     "metadata": {},
     "output_type": "execute_result"
    }
   ],
   "source": [
    "accuracy_score(y_test, y_pred)"
   ]
  },
  {
   "cell_type": "code",
   "execution_count": 158,
   "id": "2a625ae0",
   "metadata": {
    "scrolled": true
   },
   "outputs": [
    {
     "data": {
      "text/plain": [
       "0.25"
      ]
     },
     "execution_count": 158,
     "metadata": {},
     "output_type": "execute_result"
    }
   ],
   "source": [
    "recall_score(y_test, y_pred, pos_label='M')"
   ]
  },
  {
   "cell_type": "code",
   "execution_count": 159,
   "id": "d0b2dd50",
   "metadata": {},
   "outputs": [
    {
     "data": {
      "text/plain": [
       "0.5"
      ]
     },
     "execution_count": 159,
     "metadata": {},
     "output_type": "execute_result"
    }
   ],
   "source": [
    "precision_score(y_test, y_pred, pos_label='M')"
   ]
  },
  {
   "cell_type": "code",
   "execution_count": 160,
   "id": "83ba461d",
   "metadata": {},
   "outputs": [
    {
     "data": {
      "text/plain": [
       "0.3333333333333333"
      ]
     },
     "execution_count": 160,
     "metadata": {},
     "output_type": "execute_result"
    }
   ],
   "source": [
    "f1_score(y_test, y_pred, pos_label='M')"
   ]
  },
  {
   "cell_type": "markdown",
   "id": "c2729b97",
   "metadata": {},
   "source": [
    "# german"
   ]
  },
  {
   "cell_type": "code",
   "execution_count": 161,
   "id": "e60b8bde",
   "metadata": {},
   "outputs": [],
   "source": [
    "data=pd.read_csv('./data/german/german.data',header=None)\n",
    "data.columns=['status_of_existing_checking_account duration_(months) credit_history purpose credit_amount savings_account/bonds present_employment_since installment_rate personal_status_sex other_debtors present_residence property age other_installment_plans housing number_of_existing_credits job no._of_people_being_liable_to_provide_maintenance telephone foreign_worker class']\n",
    "data[data.columns[0].split(' ')] = data.iloc[:,0].str.split(' ', expand=True)\n",
    "data.drop(data.columns[0], axis=1, inplace=True)"
   ]
  },
  {
   "cell_type": "code",
   "execution_count": 162,
   "id": "8fd35fc2",
   "metadata": {
    "scrolled": true
   },
   "outputs": [
    {
     "name": "stdout",
     "output_type": "stream",
     "text": [
      "<class 'pandas.core.frame.DataFrame'>\n",
      "RangeIndex: 1000 entries, 0 to 999\n",
      "Data columns (total 21 columns):\n",
      " #   Column                                             Non-Null Count  Dtype \n",
      "---  ------                                             --------------  ----- \n",
      " 0   status_of_existing_checking_account                1000 non-null   object\n",
      " 1   duration_(months)                                  1000 non-null   object\n",
      " 2   credit_history                                     1000 non-null   object\n",
      " 3   purpose                                            1000 non-null   object\n",
      " 4   credit_amount                                      1000 non-null   object\n",
      " 5   savings_account/bonds                              1000 non-null   object\n",
      " 6   present_employment_since                           1000 non-null   object\n",
      " 7   installment_rate                                   1000 non-null   object\n",
      " 8   personal_status_sex                                1000 non-null   object\n",
      " 9   other_debtors                                      1000 non-null   object\n",
      " 10  present_residence                                  1000 non-null   object\n",
      " 11  property                                           1000 non-null   object\n",
      " 12  age                                                1000 non-null   object\n",
      " 13  other_installment_plans                            1000 non-null   object\n",
      " 14  housing                                            1000 non-null   object\n",
      " 15  number_of_existing_credits                         1000 non-null   object\n",
      " 16  job                                                1000 non-null   object\n",
      " 17  no._of_people_being_liable_to_provide_maintenance  1000 non-null   object\n",
      " 18  telephone                                          1000 non-null   object\n",
      " 19  foreign_worker                                     1000 non-null   object\n",
      " 20  class                                              1000 non-null   object\n",
      "dtypes: object(21)\n",
      "memory usage: 164.2+ KB\n"
     ]
    }
   ],
   "source": [
    "data.info()"
   ]
  },
  {
   "cell_type": "code",
   "execution_count": 170,
   "id": "3d7ce840",
   "metadata": {
    "scrolled": true
   },
   "outputs": [
    {
     "data": {
      "text/html": [
       "<div>\n",
       "<style scoped>\n",
       "    .dataframe tbody tr th:only-of-type {\n",
       "        vertical-align: middle;\n",
       "    }\n",
       "\n",
       "    .dataframe tbody tr th {\n",
       "        vertical-align: top;\n",
       "    }\n",
       "\n",
       "    .dataframe thead th {\n",
       "        text-align: right;\n",
       "    }\n",
       "</style>\n",
       "<table border=\"1\" class=\"dataframe\">\n",
       "  <thead>\n",
       "    <tr style=\"text-align: right;\">\n",
       "      <th></th>\n",
       "      <th>status_of_existing_checking_account</th>\n",
       "      <th>duration_(months)</th>\n",
       "      <th>credit_history</th>\n",
       "      <th>purpose</th>\n",
       "      <th>credit_amount</th>\n",
       "      <th>savings_account/bonds</th>\n",
       "      <th>present_employment_since</th>\n",
       "      <th>installment_rate</th>\n",
       "      <th>personal_status_sex</th>\n",
       "      <th>other_debtors</th>\n",
       "      <th>present_residence</th>\n",
       "      <th>property</th>\n",
       "      <th>age</th>\n",
       "      <th>other_installment_plans</th>\n",
       "      <th>housing</th>\n",
       "      <th>number_of_existing_credits</th>\n",
       "      <th>job</th>\n",
       "      <th>no._of_people_being_liable_to_provide_maintenance</th>\n",
       "      <th>telephone</th>\n",
       "      <th>foreign_worker</th>\n",
       "      <th>class</th>\n",
       "    </tr>\n",
       "  </thead>\n",
       "  <tbody>\n",
       "    <tr>\n",
       "      <th>count</th>\n",
       "      <td>1000</td>\n",
       "      <td>1000</td>\n",
       "      <td>1000</td>\n",
       "      <td>1000</td>\n",
       "      <td>1000</td>\n",
       "      <td>1000</td>\n",
       "      <td>1000</td>\n",
       "      <td>1000</td>\n",
       "      <td>1000</td>\n",
       "      <td>1000</td>\n",
       "      <td>1000</td>\n",
       "      <td>1000</td>\n",
       "      <td>1000</td>\n",
       "      <td>1000</td>\n",
       "      <td>1000</td>\n",
       "      <td>1000</td>\n",
       "      <td>1000</td>\n",
       "      <td>1000</td>\n",
       "      <td>1000</td>\n",
       "      <td>1000</td>\n",
       "      <td>1000</td>\n",
       "    </tr>\n",
       "    <tr>\n",
       "      <th>unique</th>\n",
       "      <td>4</td>\n",
       "      <td>33</td>\n",
       "      <td>5</td>\n",
       "      <td>10</td>\n",
       "      <td>921</td>\n",
       "      <td>5</td>\n",
       "      <td>5</td>\n",
       "      <td>4</td>\n",
       "      <td>4</td>\n",
       "      <td>3</td>\n",
       "      <td>4</td>\n",
       "      <td>4</td>\n",
       "      <td>53</td>\n",
       "      <td>3</td>\n",
       "      <td>3</td>\n",
       "      <td>4</td>\n",
       "      <td>4</td>\n",
       "      <td>2</td>\n",
       "      <td>2</td>\n",
       "      <td>2</td>\n",
       "      <td>2</td>\n",
       "    </tr>\n",
       "    <tr>\n",
       "      <th>top</th>\n",
       "      <td>A14</td>\n",
       "      <td>24</td>\n",
       "      <td>A32</td>\n",
       "      <td>A43</td>\n",
       "      <td>1478</td>\n",
       "      <td>A61</td>\n",
       "      <td>A73</td>\n",
       "      <td>4</td>\n",
       "      <td>A93</td>\n",
       "      <td>A101</td>\n",
       "      <td>4</td>\n",
       "      <td>A123</td>\n",
       "      <td>27</td>\n",
       "      <td>A143</td>\n",
       "      <td>A152</td>\n",
       "      <td>1</td>\n",
       "      <td>A173</td>\n",
       "      <td>1</td>\n",
       "      <td>A191</td>\n",
       "      <td>A201</td>\n",
       "      <td>1</td>\n",
       "    </tr>\n",
       "    <tr>\n",
       "      <th>freq</th>\n",
       "      <td>394</td>\n",
       "      <td>184</td>\n",
       "      <td>530</td>\n",
       "      <td>280</td>\n",
       "      <td>3</td>\n",
       "      <td>603</td>\n",
       "      <td>339</td>\n",
       "      <td>476</td>\n",
       "      <td>548</td>\n",
       "      <td>907</td>\n",
       "      <td>413</td>\n",
       "      <td>332</td>\n",
       "      <td>51</td>\n",
       "      <td>814</td>\n",
       "      <td>713</td>\n",
       "      <td>633</td>\n",
       "      <td>630</td>\n",
       "      <td>845</td>\n",
       "      <td>596</td>\n",
       "      <td>963</td>\n",
       "      <td>700</td>\n",
       "    </tr>\n",
       "  </tbody>\n",
       "</table>\n",
       "</div>"
      ],
      "text/plain": [
       "       status_of_existing_checking_account duration_(months) credit_history  \\\n",
       "count                                 1000              1000           1000   \n",
       "unique                                   4                33              5   \n",
       "top                                    A14                24            A32   \n",
       "freq                                   394               184            530   \n",
       "\n",
       "       purpose credit_amount savings_account/bonds present_employment_since  \\\n",
       "count     1000          1000                  1000                     1000   \n",
       "unique      10           921                     5                        5   \n",
       "top        A43          1478                   A61                      A73   \n",
       "freq       280             3                   603                      339   \n",
       "\n",
       "       installment_rate personal_status_sex other_debtors present_residence  \\\n",
       "count              1000                1000          1000              1000   \n",
       "unique                4                   4             3                 4   \n",
       "top                   4                 A93          A101                 4   \n",
       "freq                476                 548           907               413   \n",
       "\n",
       "       property   age other_installment_plans housing  \\\n",
       "count      1000  1000                    1000    1000   \n",
       "unique        4    53                       3       3   \n",
       "top        A123    27                    A143    A152   \n",
       "freq        332    51                     814     713   \n",
       "\n",
       "       number_of_existing_credits   job  \\\n",
       "count                        1000  1000   \n",
       "unique                          4     4   \n",
       "top                             1  A173   \n",
       "freq                          633   630   \n",
       "\n",
       "       no._of_people_being_liable_to_provide_maintenance telephone  \\\n",
       "count                                               1000      1000   \n",
       "unique                                                 2         2   \n",
       "top                                                    1      A191   \n",
       "freq                                                 845       596   \n",
       "\n",
       "       foreign_worker class  \n",
       "count            1000  1000  \n",
       "unique              2     2  \n",
       "top              A201     1  \n",
       "freq              963   700  "
      ]
     },
     "execution_count": 170,
     "metadata": {},
     "output_type": "execute_result"
    }
   ],
   "source": [
    "data.describe()"
   ]
  },
  {
   "cell_type": "code",
   "execution_count": 112,
   "id": "3674e7bc",
   "metadata": {},
   "outputs": [
    {
     "data": {
      "text/plain": [
       "array(['6', '48', '12', '42', '24', '36', '30', '15', '9', '10', '7',\n",
       "       '60', '18', '45', '11', '27', '8', '54', '20', '14', '33', '21',\n",
       "       '16', '4', '47', '13', '22', '39', '28', '5', '26', '72', '40'],\n",
       "      dtype=object)"
      ]
     },
     "execution_count": 112,
     "metadata": {},
     "output_type": "execute_result"
    }
   ],
   "source": [
    "data['duration_(months)'].unique()"
   ]
  },
  {
   "cell_type": "code",
   "execution_count": 172,
   "id": "79d117de",
   "metadata": {},
   "outputs": [],
   "source": [
    "int_columns = ['duration_(months)','credit_amount', 'age']\n",
    "data[int_columns] = data[int_columns].astype('float')"
   ]
  },
  {
   "cell_type": "code",
   "execution_count": 174,
   "id": "411dbf26",
   "metadata": {},
   "outputs": [
    {
     "name": "stdout",
     "output_type": "stream",
     "text": [
      "<class 'pandas.core.frame.DataFrame'>\n",
      "RangeIndex: 1000 entries, 0 to 999\n",
      "Data columns (total 21 columns):\n",
      " #   Column                                             Non-Null Count  Dtype  \n",
      "---  ------                                             --------------  -----  \n",
      " 0   status_of_existing_checking_account                1000 non-null   object \n",
      " 1   duration_(months)                                  1000 non-null   float64\n",
      " 2   credit_history                                     1000 non-null   object \n",
      " 3   purpose                                            1000 non-null   object \n",
      " 4   credit_amount                                      1000 non-null   float64\n",
      " 5   savings_account/bonds                              1000 non-null   object \n",
      " 6   present_employment_since                           1000 non-null   object \n",
      " 7   installment_rate                                   1000 non-null   object \n",
      " 8   personal_status_sex                                1000 non-null   object \n",
      " 9   other_debtors                                      1000 non-null   object \n",
      " 10  present_residence                                  1000 non-null   object \n",
      " 11  property                                           1000 non-null   object \n",
      " 12  age                                                1000 non-null   float64\n",
      " 13  other_installment_plans                            1000 non-null   object \n",
      " 14  housing                                            1000 non-null   object \n",
      " 15  number_of_existing_credits                         1000 non-null   object \n",
      " 16  job                                                1000 non-null   object \n",
      " 17  no._of_people_being_liable_to_provide_maintenance  1000 non-null   object \n",
      " 18  telephone                                          1000 non-null   object \n",
      " 19  foreign_worker                                     1000 non-null   object \n",
      " 20  class                                              1000 non-null   object \n",
      "dtypes: float64(3), object(18)\n",
      "memory usage: 164.2+ KB\n"
     ]
    }
   ],
   "source": [
    "data.info()"
   ]
  },
  {
   "cell_type": "code",
   "execution_count": 175,
   "id": "d9595e3b",
   "metadata": {},
   "outputs": [],
   "source": [
    "train_df, test_df = train_test_split(data, test_size=0.1, random_state=42)"
   ]
  },
  {
   "cell_type": "code",
   "execution_count": 176,
   "id": "6768b1f4",
   "metadata": {},
   "outputs": [],
   "source": [
    "x_train = train_df.drop(columns=['class'])\n",
    "y_train = train_df['class']\n",
    "x_test = test_df.drop(columns=['class'])\n",
    "y_test = test_df['class']"
   ]
  },
  {
   "cell_type": "code",
   "execution_count": 178,
   "id": "b977baef",
   "metadata": {},
   "outputs": [
    {
     "name": "stdout",
     "output_type": "stream",
     "text": [
      "CPU times: total: 1min 50s\n",
      "Wall time: 39.1 s\n"
     ]
    }
   ],
   "source": [
    "%%time\n",
    "cat_columns = [0,2,3,5,6,7,8,9,10,11,13,14,15,16,17,18,19]\n",
    "cat_boost = CatBoostClassifier(verbose=False)\n",
    "cat_boost = cat_boost.fit(x_train, y_train, cat_columns)"
   ]
  },
  {
   "cell_type": "code",
   "execution_count": 179,
   "id": "88b4c273",
   "metadata": {},
   "outputs": [],
   "source": [
    "y_pred = cat_boost.predict(x_test)"
   ]
  },
  {
   "cell_type": "code",
   "execution_count": 180,
   "id": "2a9a7bac",
   "metadata": {
    "scrolled": true
   },
   "outputs": [
    {
     "data": {
      "text/plain": [
       "0.78"
      ]
     },
     "execution_count": 180,
     "metadata": {},
     "output_type": "execute_result"
    }
   ],
   "source": [
    "accuracy_score(y_test, y_pred)"
   ]
  },
  {
   "cell_type": "code",
   "execution_count": 183,
   "id": "86740dbe",
   "metadata": {
    "scrolled": true
   },
   "outputs": [
    {
     "data": {
      "text/plain": [
       "0.8732394366197183"
      ]
     },
     "execution_count": 183,
     "metadata": {},
     "output_type": "execute_result"
    }
   ],
   "source": [
    "recall_score(y_test, y_pred, pos_label='1')"
   ]
  },
  {
   "cell_type": "code",
   "execution_count": 184,
   "id": "71e4a802",
   "metadata": {},
   "outputs": [
    {
     "data": {
      "text/plain": [
       "0.8266666666666667"
      ]
     },
     "execution_count": 184,
     "metadata": {},
     "output_type": "execute_result"
    }
   ],
   "source": [
    "precision_score(y_test, y_pred, pos_label='1')"
   ]
  },
  {
   "cell_type": "code",
   "execution_count": 185,
   "id": "e1f992c2",
   "metadata": {
    "scrolled": true
   },
   "outputs": [
    {
     "data": {
      "text/plain": [
       "0.8493150684931506"
      ]
     },
     "execution_count": 185,
     "metadata": {},
     "output_type": "execute_result"
    }
   ],
   "source": [
    "f1_score(y_test, y_pred, pos_label='1')"
   ]
  },
  {
   "cell_type": "markdown",
   "id": "dd5d2a0f",
   "metadata": {},
   "source": [
    "# Hepatitis"
   ]
  },
  {
   "cell_type": "code",
   "execution_count": 190,
   "id": "1d013ebe",
   "metadata": {},
   "outputs": [],
   "source": [
    "df_hepatitis=pd.read_csv('./data/hepatitis/hepatitis.csv',header=None)\n",
    "df_hepatitis.columns=['class,age,sex,steroid,antivirals,fatigue,malaise,anorexia,big liver,firm liver,palpable spleen,spiders,ascites,varices,bilirubin,phosphate,sgot,albumin,protime,histology']\n",
    "df_hepatitis[df_hepatitis.columns[0].split(',')] = df_hepatitis.iloc[:,0].str.split(',', expand=True)\n",
    "df_hepatitis.drop(df_hepatitis.columns[0],axis=1,inplace=True)\n",
    "df_hepatitis=df_hepatitis.replace('?',np.nan).dropna().reset_index(drop=True)\n",
    "df_hepatitis['age']=df_hepatitis['age'].astype('int')\n",
    "df_hepatitis['phosphate']=df_hepatitis['phosphate'].astype('int')\n",
    "df_hepatitis['sgot']=df_hepatitis['sgot'].astype('int')\n",
    "df_hepatitis['albumin']=df_hepatitis['albumin'].astype('float')\n",
    "df_hepatitis['protime']=df_hepatitis['protime'].astype('float')\n",
    "df_hepatitis['bilirubin']=df_hepatitis['bilirubin'].astype('float')\n",
    "data = df_hepatitis.copy()\n",
    "df_hepatitis=None"
   ]
  },
  {
   "cell_type": "code",
   "execution_count": 191,
   "id": "21185c31",
   "metadata": {
    "scrolled": true
   },
   "outputs": [
    {
     "data": {
      "text/html": [
       "<div>\n",
       "<style scoped>\n",
       "    .dataframe tbody tr th:only-of-type {\n",
       "        vertical-align: middle;\n",
       "    }\n",
       "\n",
       "    .dataframe tbody tr th {\n",
       "        vertical-align: top;\n",
       "    }\n",
       "\n",
       "    .dataframe thead th {\n",
       "        text-align: right;\n",
       "    }\n",
       "</style>\n",
       "<table border=\"1\" class=\"dataframe\">\n",
       "  <thead>\n",
       "    <tr style=\"text-align: right;\">\n",
       "      <th></th>\n",
       "      <th>class</th>\n",
       "      <th>age</th>\n",
       "      <th>sex</th>\n",
       "      <th>steroid</th>\n",
       "      <th>antivirals</th>\n",
       "      <th>fatigue</th>\n",
       "      <th>malaise</th>\n",
       "      <th>anorexia</th>\n",
       "      <th>big liver</th>\n",
       "      <th>firm liver</th>\n",
       "      <th>palpable spleen</th>\n",
       "      <th>spiders</th>\n",
       "      <th>ascites</th>\n",
       "      <th>varices</th>\n",
       "      <th>bilirubin</th>\n",
       "      <th>phosphate</th>\n",
       "      <th>sgot</th>\n",
       "      <th>albumin</th>\n",
       "      <th>protime</th>\n",
       "      <th>histology</th>\n",
       "    </tr>\n",
       "  </thead>\n",
       "  <tbody>\n",
       "    <tr>\n",
       "      <th>0</th>\n",
       "      <td>2</td>\n",
       "      <td>34</td>\n",
       "      <td>1</td>\n",
       "      <td>2</td>\n",
       "      <td>2</td>\n",
       "      <td>2</td>\n",
       "      <td>2</td>\n",
       "      <td>2</td>\n",
       "      <td>2</td>\n",
       "      <td>2</td>\n",
       "      <td>2</td>\n",
       "      <td>2</td>\n",
       "      <td>2</td>\n",
       "      <td>2</td>\n",
       "      <td>0.9</td>\n",
       "      <td>95</td>\n",
       "      <td>28</td>\n",
       "      <td>4.0</td>\n",
       "      <td>75.0</td>\n",
       "      <td>1</td>\n",
       "    </tr>\n",
       "    <tr>\n",
       "      <th>1</th>\n",
       "      <td>2</td>\n",
       "      <td>39</td>\n",
       "      <td>1</td>\n",
       "      <td>1</td>\n",
       "      <td>1</td>\n",
       "      <td>2</td>\n",
       "      <td>2</td>\n",
       "      <td>2</td>\n",
       "      <td>1</td>\n",
       "      <td>1</td>\n",
       "      <td>2</td>\n",
       "      <td>2</td>\n",
       "      <td>2</td>\n",
       "      <td>2</td>\n",
       "      <td>1.3</td>\n",
       "      <td>78</td>\n",
       "      <td>30</td>\n",
       "      <td>4.4</td>\n",
       "      <td>85.0</td>\n",
       "      <td>1</td>\n",
       "    </tr>\n",
       "    <tr>\n",
       "      <th>2</th>\n",
       "      <td>2</td>\n",
       "      <td>32</td>\n",
       "      <td>1</td>\n",
       "      <td>2</td>\n",
       "      <td>1</td>\n",
       "      <td>1</td>\n",
       "      <td>2</td>\n",
       "      <td>2</td>\n",
       "      <td>2</td>\n",
       "      <td>1</td>\n",
       "      <td>2</td>\n",
       "      <td>1</td>\n",
       "      <td>2</td>\n",
       "      <td>2</td>\n",
       "      <td>1.0</td>\n",
       "      <td>59</td>\n",
       "      <td>249</td>\n",
       "      <td>3.7</td>\n",
       "      <td>54.0</td>\n",
       "      <td>1</td>\n",
       "    </tr>\n",
       "    <tr>\n",
       "      <th>3</th>\n",
       "      <td>2</td>\n",
       "      <td>41</td>\n",
       "      <td>1</td>\n",
       "      <td>2</td>\n",
       "      <td>1</td>\n",
       "      <td>1</td>\n",
       "      <td>2</td>\n",
       "      <td>2</td>\n",
       "      <td>2</td>\n",
       "      <td>1</td>\n",
       "      <td>2</td>\n",
       "      <td>2</td>\n",
       "      <td>2</td>\n",
       "      <td>2</td>\n",
       "      <td>0.9</td>\n",
       "      <td>81</td>\n",
       "      <td>60</td>\n",
       "      <td>3.9</td>\n",
       "      <td>52.0</td>\n",
       "      <td>1</td>\n",
       "    </tr>\n",
       "    <tr>\n",
       "      <th>4</th>\n",
       "      <td>2</td>\n",
       "      <td>30</td>\n",
       "      <td>1</td>\n",
       "      <td>2</td>\n",
       "      <td>2</td>\n",
       "      <td>1</td>\n",
       "      <td>2</td>\n",
       "      <td>2</td>\n",
       "      <td>2</td>\n",
       "      <td>1</td>\n",
       "      <td>2</td>\n",
       "      <td>2</td>\n",
       "      <td>2</td>\n",
       "      <td>2</td>\n",
       "      <td>2.2</td>\n",
       "      <td>57</td>\n",
       "      <td>144</td>\n",
       "      <td>4.9</td>\n",
       "      <td>78.0</td>\n",
       "      <td>1</td>\n",
       "    </tr>\n",
       "  </tbody>\n",
       "</table>\n",
       "</div>"
      ],
      "text/plain": [
       "  class  age sex steroid antivirals fatigue malaise anorexia big liver  \\\n",
       "0     2   34   1       2          2       2       2        2         2   \n",
       "1     2   39   1       1          1       2       2        2         1   \n",
       "2     2   32   1       2          1       1       2        2         2   \n",
       "3     2   41   1       2          1       1       2        2         2   \n",
       "4     2   30   1       2          2       1       2        2         2   \n",
       "\n",
       "  firm liver palpable spleen spiders ascites varices  bilirubin  phosphate  \\\n",
       "0          2               2       2       2       2        0.9         95   \n",
       "1          1               2       2       2       2        1.3         78   \n",
       "2          1               2       1       2       2        1.0         59   \n",
       "3          1               2       2       2       2        0.9         81   \n",
       "4          1               2       2       2       2        2.2         57   \n",
       "\n",
       "   sgot  albumin  protime histology  \n",
       "0    28      4.0     75.0         1  \n",
       "1    30      4.4     85.0         1  \n",
       "2   249      3.7     54.0         1  \n",
       "3    60      3.9     52.0         1  \n",
       "4   144      4.9     78.0         1  "
      ]
     },
     "execution_count": 191,
     "metadata": {},
     "output_type": "execute_result"
    }
   ],
   "source": [
    "data.head()"
   ]
  },
  {
   "cell_type": "code",
   "execution_count": 193,
   "id": "48213db1",
   "metadata": {
    "scrolled": true
   },
   "outputs": [
    {
     "name": "stdout",
     "output_type": "stream",
     "text": [
      "<class 'pandas.core.frame.DataFrame'>\n",
      "RangeIndex: 80 entries, 0 to 79\n",
      "Data columns (total 20 columns):\n",
      " #   Column           Non-Null Count  Dtype  \n",
      "---  ------           --------------  -----  \n",
      " 0   class            80 non-null     object \n",
      " 1   age              80 non-null     int32  \n",
      " 2   sex              80 non-null     object \n",
      " 3   steroid          80 non-null     object \n",
      " 4   antivirals       80 non-null     object \n",
      " 5   fatigue          80 non-null     object \n",
      " 6   malaise          80 non-null     object \n",
      " 7   anorexia         80 non-null     object \n",
      " 8   big liver        80 non-null     object \n",
      " 9   firm liver       80 non-null     object \n",
      " 10  palpable spleen  80 non-null     object \n",
      " 11  spiders          80 non-null     object \n",
      " 12  ascites          80 non-null     object \n",
      " 13  varices          80 non-null     object \n",
      " 14  bilirubin        80 non-null     float64\n",
      " 15  phosphate        80 non-null     int32  \n",
      " 16  sgot             80 non-null     int32  \n",
      " 17  albumin          80 non-null     float64\n",
      " 18  protime          80 non-null     float64\n",
      " 19  histology        80 non-null     object \n",
      "dtypes: float64(3), int32(3), object(14)\n",
      "memory usage: 11.7+ KB\n"
     ]
    }
   ],
   "source": [
    "data.info()"
   ]
  },
  {
   "cell_type": "code",
   "execution_count": 192,
   "id": "e86939c8",
   "metadata": {},
   "outputs": [
    {
     "data": {
      "text/html": [
       "<div>\n",
       "<style scoped>\n",
       "    .dataframe tbody tr th:only-of-type {\n",
       "        vertical-align: middle;\n",
       "    }\n",
       "\n",
       "    .dataframe tbody tr th {\n",
       "        vertical-align: top;\n",
       "    }\n",
       "\n",
       "    .dataframe thead th {\n",
       "        text-align: right;\n",
       "    }\n",
       "</style>\n",
       "<table border=\"1\" class=\"dataframe\">\n",
       "  <thead>\n",
       "    <tr style=\"text-align: right;\">\n",
       "      <th></th>\n",
       "      <th>age</th>\n",
       "      <th>bilirubin</th>\n",
       "      <th>phosphate</th>\n",
       "      <th>sgot</th>\n",
       "      <th>albumin</th>\n",
       "      <th>protime</th>\n",
       "    </tr>\n",
       "  </thead>\n",
       "  <tbody>\n",
       "    <tr>\n",
       "      <th>count</th>\n",
       "      <td>80.00000</td>\n",
       "      <td>80.000000</td>\n",
       "      <td>80.000000</td>\n",
       "      <td>80.000000</td>\n",
       "      <td>80.000000</td>\n",
       "      <td>80.000000</td>\n",
       "    </tr>\n",
       "    <tr>\n",
       "      <th>mean</th>\n",
       "      <td>40.66250</td>\n",
       "      <td>1.221250</td>\n",
       "      <td>102.912500</td>\n",
       "      <td>82.025000</td>\n",
       "      <td>3.843750</td>\n",
       "      <td>62.512500</td>\n",
       "    </tr>\n",
       "    <tr>\n",
       "      <th>std</th>\n",
       "      <td>11.28003</td>\n",
       "      <td>0.875213</td>\n",
       "      <td>53.684779</td>\n",
       "      <td>71.599974</td>\n",
       "      <td>0.576292</td>\n",
       "      <td>23.427774</td>\n",
       "    </tr>\n",
       "    <tr>\n",
       "      <th>min</th>\n",
       "      <td>20.00000</td>\n",
       "      <td>0.300000</td>\n",
       "      <td>26.000000</td>\n",
       "      <td>14.000000</td>\n",
       "      <td>2.100000</td>\n",
       "      <td>0.000000</td>\n",
       "    </tr>\n",
       "    <tr>\n",
       "      <th>25%</th>\n",
       "      <td>32.00000</td>\n",
       "      <td>0.700000</td>\n",
       "      <td>68.250000</td>\n",
       "      <td>30.750000</td>\n",
       "      <td>3.500000</td>\n",
       "      <td>46.000000</td>\n",
       "    </tr>\n",
       "    <tr>\n",
       "      <th>50%</th>\n",
       "      <td>38.50000</td>\n",
       "      <td>1.000000</td>\n",
       "      <td>85.000000</td>\n",
       "      <td>56.500000</td>\n",
       "      <td>4.000000</td>\n",
       "      <td>62.000000</td>\n",
       "    </tr>\n",
       "    <tr>\n",
       "      <th>75%</th>\n",
       "      <td>49.25000</td>\n",
       "      <td>1.300000</td>\n",
       "      <td>133.500000</td>\n",
       "      <td>102.750000</td>\n",
       "      <td>4.200000</td>\n",
       "      <td>77.250000</td>\n",
       "    </tr>\n",
       "    <tr>\n",
       "      <th>max</th>\n",
       "      <td>72.00000</td>\n",
       "      <td>4.800000</td>\n",
       "      <td>280.000000</td>\n",
       "      <td>420.000000</td>\n",
       "      <td>5.000000</td>\n",
       "      <td>100.000000</td>\n",
       "    </tr>\n",
       "  </tbody>\n",
       "</table>\n",
       "</div>"
      ],
      "text/plain": [
       "            age  bilirubin   phosphate        sgot    albumin     protime\n",
       "count  80.00000  80.000000   80.000000   80.000000  80.000000   80.000000\n",
       "mean   40.66250   1.221250  102.912500   82.025000   3.843750   62.512500\n",
       "std    11.28003   0.875213   53.684779   71.599974   0.576292   23.427774\n",
       "min    20.00000   0.300000   26.000000   14.000000   2.100000    0.000000\n",
       "25%    32.00000   0.700000   68.250000   30.750000   3.500000   46.000000\n",
       "50%    38.50000   1.000000   85.000000   56.500000   4.000000   62.000000\n",
       "75%    49.25000   1.300000  133.500000  102.750000   4.200000   77.250000\n",
       "max    72.00000   4.800000  280.000000  420.000000   5.000000  100.000000"
      ]
     },
     "execution_count": 192,
     "metadata": {},
     "output_type": "execute_result"
    }
   ],
   "source": [
    "data.describe()"
   ]
  },
  {
   "cell_type": "code",
   "execution_count": 194,
   "id": "f2acd6fc",
   "metadata": {},
   "outputs": [],
   "source": [
    "int_columns = ['age', 'bilirubin', 'phosphate', 'sgot', 'albumin', 'protime']\n",
    "data[int_columns] = data[int_columns].astype('float')"
   ]
  },
  {
   "cell_type": "code",
   "execution_count": 200,
   "id": "891d397e",
   "metadata": {},
   "outputs": [],
   "source": [
    "train_df, test_df = train_test_split(data, test_size=0.1, random_state=42)"
   ]
  },
  {
   "cell_type": "code",
   "execution_count": 201,
   "id": "aec9a94e",
   "metadata": {},
   "outputs": [],
   "source": [
    "x_train = train_df.drop(columns=['class'])\n",
    "y_train = train_df['class']\n",
    "x_test = test_df.drop(columns=['class'])\n",
    "y_test = test_df['class']"
   ]
  },
  {
   "cell_type": "code",
   "execution_count": 203,
   "id": "83fa55d9",
   "metadata": {
    "scrolled": true
   },
   "outputs": [
    {
     "name": "stdout",
     "output_type": "stream",
     "text": [
      "<class 'pandas.core.frame.DataFrame'>\n",
      "Int64Index: 72 entries, 4 to 51\n",
      "Data columns (total 19 columns):\n",
      " #   Column           Non-Null Count  Dtype  \n",
      "---  ------           --------------  -----  \n",
      " 0   age              72 non-null     float64\n",
      " 1   sex              72 non-null     object \n",
      " 2   steroid          72 non-null     object \n",
      " 3   antivirals       72 non-null     object \n",
      " 4   fatigue          72 non-null     object \n",
      " 5   malaise          72 non-null     object \n",
      " 6   anorexia         72 non-null     object \n",
      " 7   big liver        72 non-null     object \n",
      " 8   firm liver       72 non-null     object \n",
      " 9   palpable spleen  72 non-null     object \n",
      " 10  spiders          72 non-null     object \n",
      " 11  ascites          72 non-null     object \n",
      " 12  varices          72 non-null     object \n",
      " 13  bilirubin        72 non-null     float64\n",
      " 14  phosphate        72 non-null     float64\n",
      " 15  sgot             72 non-null     float64\n",
      " 16  albumin          72 non-null     float64\n",
      " 17  protime          72 non-null     float64\n",
      " 18  histology        72 non-null     object \n",
      "dtypes: float64(6), object(13)\n",
      "memory usage: 11.2+ KB\n"
     ]
    }
   ],
   "source": [
    "x_train.info()"
   ]
  },
  {
   "cell_type": "code",
   "execution_count": 204,
   "id": "5b07390b",
   "metadata": {},
   "outputs": [
    {
     "name": "stdout",
     "output_type": "stream",
     "text": [
      "CPU times: total: 14.3 s\n",
      "Wall time: 1.34 s\n"
     ]
    }
   ],
   "source": [
    "%%time\n",
    "cat_columns = [1,2,3,4,5,6,7,8,9,10,11,12,18]\n",
    "cat_boost = CatBoostClassifier(verbose=False)\n",
    "cat_boost = cat_boost.fit(x_train, y_train, cat_columns)"
   ]
  },
  {
   "cell_type": "code",
   "execution_count": 205,
   "id": "30b87652",
   "metadata": {},
   "outputs": [],
   "source": [
    "y_pred = cat_boost.predict(x_test)"
   ]
  },
  {
   "cell_type": "code",
   "execution_count": 206,
   "id": "758d79f6",
   "metadata": {},
   "outputs": [
    {
     "data": {
      "text/plain": [
       "0.875"
      ]
     },
     "execution_count": 206,
     "metadata": {},
     "output_type": "execute_result"
    }
   ],
   "source": [
    "accuracy_score(y_test, y_pred)"
   ]
  },
  {
   "cell_type": "code",
   "execution_count": 212,
   "id": "32c6c543",
   "metadata": {
    "scrolled": true
   },
   "outputs": [
    {
     "data": {
      "text/plain": [
       "1.0"
      ]
     },
     "execution_count": 212,
     "metadata": {},
     "output_type": "execute_result"
    }
   ],
   "source": [
    "recall_score(y_test, y_pred, pos_label='2')"
   ]
  },
  {
   "cell_type": "code",
   "execution_count": 213,
   "id": "e55e2e06",
   "metadata": {},
   "outputs": [
    {
     "data": {
      "text/plain": [
       "0.875"
      ]
     },
     "execution_count": 213,
     "metadata": {},
     "output_type": "execute_result"
    }
   ],
   "source": [
    "precision_score(y_test, y_pred, pos_label='2')"
   ]
  },
  {
   "cell_type": "code",
   "execution_count": 211,
   "id": "d0559fc7",
   "metadata": {},
   "outputs": [
    {
     "data": {
      "text/plain": [
       "0.9333333333333333"
      ]
     },
     "execution_count": 211,
     "metadata": {},
     "output_type": "execute_result"
    }
   ],
   "source": [
    "f1_score(y_test, y_pred, pos_label='2')"
   ]
  },
  {
   "cell_type": "markdown",
   "id": "1189d324",
   "metadata": {},
   "source": [
    "# mobile"
   ]
  },
  {
   "cell_type": "code",
   "execution_count": 214,
   "id": "ded67454",
   "metadata": {},
   "outputs": [],
   "source": [
    "data = pd.read_csv('./data/mobile/train.csv')"
   ]
  },
  {
   "cell_type": "code",
   "execution_count": 215,
   "id": "f43ff436",
   "metadata": {},
   "outputs": [
    {
     "data": {
      "text/html": [
       "<div>\n",
       "<style scoped>\n",
       "    .dataframe tbody tr th:only-of-type {\n",
       "        vertical-align: middle;\n",
       "    }\n",
       "\n",
       "    .dataframe tbody tr th {\n",
       "        vertical-align: top;\n",
       "    }\n",
       "\n",
       "    .dataframe thead th {\n",
       "        text-align: right;\n",
       "    }\n",
       "</style>\n",
       "<table border=\"1\" class=\"dataframe\">\n",
       "  <thead>\n",
       "    <tr style=\"text-align: right;\">\n",
       "      <th></th>\n",
       "      <th>battery_power</th>\n",
       "      <th>blue</th>\n",
       "      <th>clock_speed</th>\n",
       "      <th>dual_sim</th>\n",
       "      <th>fc</th>\n",
       "      <th>four_g</th>\n",
       "      <th>int_memory</th>\n",
       "      <th>m_dep</th>\n",
       "      <th>mobile_wt</th>\n",
       "      <th>n_cores</th>\n",
       "      <th>pc</th>\n",
       "      <th>px_height</th>\n",
       "      <th>px_width</th>\n",
       "      <th>ram</th>\n",
       "      <th>sc_h</th>\n",
       "      <th>sc_w</th>\n",
       "      <th>talk_time</th>\n",
       "      <th>three_g</th>\n",
       "      <th>touch_screen</th>\n",
       "      <th>wifi</th>\n",
       "      <th>price_range</th>\n",
       "    </tr>\n",
       "  </thead>\n",
       "  <tbody>\n",
       "    <tr>\n",
       "      <th>0</th>\n",
       "      <td>842</td>\n",
       "      <td>0</td>\n",
       "      <td>2.2</td>\n",
       "      <td>0</td>\n",
       "      <td>1</td>\n",
       "      <td>0</td>\n",
       "      <td>7</td>\n",
       "      <td>0.6</td>\n",
       "      <td>188</td>\n",
       "      <td>2</td>\n",
       "      <td>2</td>\n",
       "      <td>20</td>\n",
       "      <td>756</td>\n",
       "      <td>2549</td>\n",
       "      <td>9</td>\n",
       "      <td>7</td>\n",
       "      <td>19</td>\n",
       "      <td>0</td>\n",
       "      <td>0</td>\n",
       "      <td>1</td>\n",
       "      <td>1</td>\n",
       "    </tr>\n",
       "    <tr>\n",
       "      <th>1</th>\n",
       "      <td>1021</td>\n",
       "      <td>1</td>\n",
       "      <td>0.5</td>\n",
       "      <td>1</td>\n",
       "      <td>0</td>\n",
       "      <td>1</td>\n",
       "      <td>53</td>\n",
       "      <td>0.7</td>\n",
       "      <td>136</td>\n",
       "      <td>3</td>\n",
       "      <td>6</td>\n",
       "      <td>905</td>\n",
       "      <td>1988</td>\n",
       "      <td>2631</td>\n",
       "      <td>17</td>\n",
       "      <td>3</td>\n",
       "      <td>7</td>\n",
       "      <td>1</td>\n",
       "      <td>1</td>\n",
       "      <td>0</td>\n",
       "      <td>2</td>\n",
       "    </tr>\n",
       "    <tr>\n",
       "      <th>2</th>\n",
       "      <td>563</td>\n",
       "      <td>1</td>\n",
       "      <td>0.5</td>\n",
       "      <td>1</td>\n",
       "      <td>2</td>\n",
       "      <td>1</td>\n",
       "      <td>41</td>\n",
       "      <td>0.9</td>\n",
       "      <td>145</td>\n",
       "      <td>5</td>\n",
       "      <td>6</td>\n",
       "      <td>1263</td>\n",
       "      <td>1716</td>\n",
       "      <td>2603</td>\n",
       "      <td>11</td>\n",
       "      <td>2</td>\n",
       "      <td>9</td>\n",
       "      <td>1</td>\n",
       "      <td>1</td>\n",
       "      <td>0</td>\n",
       "      <td>2</td>\n",
       "    </tr>\n",
       "    <tr>\n",
       "      <th>3</th>\n",
       "      <td>615</td>\n",
       "      <td>1</td>\n",
       "      <td>2.5</td>\n",
       "      <td>0</td>\n",
       "      <td>0</td>\n",
       "      <td>0</td>\n",
       "      <td>10</td>\n",
       "      <td>0.8</td>\n",
       "      <td>131</td>\n",
       "      <td>6</td>\n",
       "      <td>9</td>\n",
       "      <td>1216</td>\n",
       "      <td>1786</td>\n",
       "      <td>2769</td>\n",
       "      <td>16</td>\n",
       "      <td>8</td>\n",
       "      <td>11</td>\n",
       "      <td>1</td>\n",
       "      <td>0</td>\n",
       "      <td>0</td>\n",
       "      <td>2</td>\n",
       "    </tr>\n",
       "    <tr>\n",
       "      <th>4</th>\n",
       "      <td>1821</td>\n",
       "      <td>1</td>\n",
       "      <td>1.2</td>\n",
       "      <td>0</td>\n",
       "      <td>13</td>\n",
       "      <td>1</td>\n",
       "      <td>44</td>\n",
       "      <td>0.6</td>\n",
       "      <td>141</td>\n",
       "      <td>2</td>\n",
       "      <td>14</td>\n",
       "      <td>1208</td>\n",
       "      <td>1212</td>\n",
       "      <td>1411</td>\n",
       "      <td>8</td>\n",
       "      <td>2</td>\n",
       "      <td>15</td>\n",
       "      <td>1</td>\n",
       "      <td>1</td>\n",
       "      <td>0</td>\n",
       "      <td>1</td>\n",
       "    </tr>\n",
       "  </tbody>\n",
       "</table>\n",
       "</div>"
      ],
      "text/plain": [
       "   battery_power  blue  clock_speed  dual_sim  fc  four_g  int_memory  m_dep  \\\n",
       "0            842     0          2.2         0   1       0           7    0.6   \n",
       "1           1021     1          0.5         1   0       1          53    0.7   \n",
       "2            563     1          0.5         1   2       1          41    0.9   \n",
       "3            615     1          2.5         0   0       0          10    0.8   \n",
       "4           1821     1          1.2         0  13       1          44    0.6   \n",
       "\n",
       "   mobile_wt  n_cores  pc  px_height  px_width   ram  sc_h  sc_w  talk_time  \\\n",
       "0        188        2   2         20       756  2549     9     7         19   \n",
       "1        136        3   6        905      1988  2631    17     3          7   \n",
       "2        145        5   6       1263      1716  2603    11     2          9   \n",
       "3        131        6   9       1216      1786  2769    16     8         11   \n",
       "4        141        2  14       1208      1212  1411     8     2         15   \n",
       "\n",
       "   three_g  touch_screen  wifi  price_range  \n",
       "0        0             0     1            1  \n",
       "1        1             1     0            2  \n",
       "2        1             1     0            2  \n",
       "3        1             0     0            2  \n",
       "4        1             1     0            1  "
      ]
     },
     "execution_count": 215,
     "metadata": {},
     "output_type": "execute_result"
    }
   ],
   "source": [
    "data.head()"
   ]
  },
  {
   "cell_type": "code",
   "execution_count": 216,
   "id": "46cd05b7",
   "metadata": {},
   "outputs": [
    {
     "data": {
      "text/html": [
       "<div>\n",
       "<style scoped>\n",
       "    .dataframe tbody tr th:only-of-type {\n",
       "        vertical-align: middle;\n",
       "    }\n",
       "\n",
       "    .dataframe tbody tr th {\n",
       "        vertical-align: top;\n",
       "    }\n",
       "\n",
       "    .dataframe thead th {\n",
       "        text-align: right;\n",
       "    }\n",
       "</style>\n",
       "<table border=\"1\" class=\"dataframe\">\n",
       "  <thead>\n",
       "    <tr style=\"text-align: right;\">\n",
       "      <th></th>\n",
       "      <th>battery_power</th>\n",
       "      <th>blue</th>\n",
       "      <th>clock_speed</th>\n",
       "      <th>dual_sim</th>\n",
       "      <th>fc</th>\n",
       "      <th>four_g</th>\n",
       "      <th>int_memory</th>\n",
       "      <th>m_dep</th>\n",
       "      <th>mobile_wt</th>\n",
       "      <th>n_cores</th>\n",
       "      <th>pc</th>\n",
       "      <th>px_height</th>\n",
       "      <th>px_width</th>\n",
       "      <th>ram</th>\n",
       "      <th>sc_h</th>\n",
       "      <th>sc_w</th>\n",
       "      <th>talk_time</th>\n",
       "      <th>three_g</th>\n",
       "      <th>touch_screen</th>\n",
       "      <th>wifi</th>\n",
       "      <th>price_range</th>\n",
       "    </tr>\n",
       "  </thead>\n",
       "  <tbody>\n",
       "    <tr>\n",
       "      <th>count</th>\n",
       "      <td>2000.000000</td>\n",
       "      <td>2000.0000</td>\n",
       "      <td>2000.000000</td>\n",
       "      <td>2000.000000</td>\n",
       "      <td>2000.000000</td>\n",
       "      <td>2000.000000</td>\n",
       "      <td>2000.000000</td>\n",
       "      <td>2000.000000</td>\n",
       "      <td>2000.000000</td>\n",
       "      <td>2000.000000</td>\n",
       "      <td>2000.000000</td>\n",
       "      <td>2000.000000</td>\n",
       "      <td>2000.000000</td>\n",
       "      <td>2000.000000</td>\n",
       "      <td>2000.000000</td>\n",
       "      <td>2000.000000</td>\n",
       "      <td>2000.000000</td>\n",
       "      <td>2000.000000</td>\n",
       "      <td>2000.000000</td>\n",
       "      <td>2000.000000</td>\n",
       "      <td>2000.000000</td>\n",
       "    </tr>\n",
       "    <tr>\n",
       "      <th>mean</th>\n",
       "      <td>1238.518500</td>\n",
       "      <td>0.4950</td>\n",
       "      <td>1.522250</td>\n",
       "      <td>0.509500</td>\n",
       "      <td>4.309500</td>\n",
       "      <td>0.521500</td>\n",
       "      <td>32.046500</td>\n",
       "      <td>0.501750</td>\n",
       "      <td>140.249000</td>\n",
       "      <td>4.520500</td>\n",
       "      <td>9.916500</td>\n",
       "      <td>645.108000</td>\n",
       "      <td>1251.515500</td>\n",
       "      <td>2124.213000</td>\n",
       "      <td>12.306500</td>\n",
       "      <td>5.767000</td>\n",
       "      <td>11.011000</td>\n",
       "      <td>0.761500</td>\n",
       "      <td>0.503000</td>\n",
       "      <td>0.507000</td>\n",
       "      <td>1.500000</td>\n",
       "    </tr>\n",
       "    <tr>\n",
       "      <th>std</th>\n",
       "      <td>439.418206</td>\n",
       "      <td>0.5001</td>\n",
       "      <td>0.816004</td>\n",
       "      <td>0.500035</td>\n",
       "      <td>4.341444</td>\n",
       "      <td>0.499662</td>\n",
       "      <td>18.145715</td>\n",
       "      <td>0.288416</td>\n",
       "      <td>35.399655</td>\n",
       "      <td>2.287837</td>\n",
       "      <td>6.064315</td>\n",
       "      <td>443.780811</td>\n",
       "      <td>432.199447</td>\n",
       "      <td>1084.732044</td>\n",
       "      <td>4.213245</td>\n",
       "      <td>4.356398</td>\n",
       "      <td>5.463955</td>\n",
       "      <td>0.426273</td>\n",
       "      <td>0.500116</td>\n",
       "      <td>0.500076</td>\n",
       "      <td>1.118314</td>\n",
       "    </tr>\n",
       "    <tr>\n",
       "      <th>min</th>\n",
       "      <td>501.000000</td>\n",
       "      <td>0.0000</td>\n",
       "      <td>0.500000</td>\n",
       "      <td>0.000000</td>\n",
       "      <td>0.000000</td>\n",
       "      <td>0.000000</td>\n",
       "      <td>2.000000</td>\n",
       "      <td>0.100000</td>\n",
       "      <td>80.000000</td>\n",
       "      <td>1.000000</td>\n",
       "      <td>0.000000</td>\n",
       "      <td>0.000000</td>\n",
       "      <td>500.000000</td>\n",
       "      <td>256.000000</td>\n",
       "      <td>5.000000</td>\n",
       "      <td>0.000000</td>\n",
       "      <td>2.000000</td>\n",
       "      <td>0.000000</td>\n",
       "      <td>0.000000</td>\n",
       "      <td>0.000000</td>\n",
       "      <td>0.000000</td>\n",
       "    </tr>\n",
       "    <tr>\n",
       "      <th>25%</th>\n",
       "      <td>851.750000</td>\n",
       "      <td>0.0000</td>\n",
       "      <td>0.700000</td>\n",
       "      <td>0.000000</td>\n",
       "      <td>1.000000</td>\n",
       "      <td>0.000000</td>\n",
       "      <td>16.000000</td>\n",
       "      <td>0.200000</td>\n",
       "      <td>109.000000</td>\n",
       "      <td>3.000000</td>\n",
       "      <td>5.000000</td>\n",
       "      <td>282.750000</td>\n",
       "      <td>874.750000</td>\n",
       "      <td>1207.500000</td>\n",
       "      <td>9.000000</td>\n",
       "      <td>2.000000</td>\n",
       "      <td>6.000000</td>\n",
       "      <td>1.000000</td>\n",
       "      <td>0.000000</td>\n",
       "      <td>0.000000</td>\n",
       "      <td>0.750000</td>\n",
       "    </tr>\n",
       "    <tr>\n",
       "      <th>50%</th>\n",
       "      <td>1226.000000</td>\n",
       "      <td>0.0000</td>\n",
       "      <td>1.500000</td>\n",
       "      <td>1.000000</td>\n",
       "      <td>3.000000</td>\n",
       "      <td>1.000000</td>\n",
       "      <td>32.000000</td>\n",
       "      <td>0.500000</td>\n",
       "      <td>141.000000</td>\n",
       "      <td>4.000000</td>\n",
       "      <td>10.000000</td>\n",
       "      <td>564.000000</td>\n",
       "      <td>1247.000000</td>\n",
       "      <td>2146.500000</td>\n",
       "      <td>12.000000</td>\n",
       "      <td>5.000000</td>\n",
       "      <td>11.000000</td>\n",
       "      <td>1.000000</td>\n",
       "      <td>1.000000</td>\n",
       "      <td>1.000000</td>\n",
       "      <td>1.500000</td>\n",
       "    </tr>\n",
       "    <tr>\n",
       "      <th>75%</th>\n",
       "      <td>1615.250000</td>\n",
       "      <td>1.0000</td>\n",
       "      <td>2.200000</td>\n",
       "      <td>1.000000</td>\n",
       "      <td>7.000000</td>\n",
       "      <td>1.000000</td>\n",
       "      <td>48.000000</td>\n",
       "      <td>0.800000</td>\n",
       "      <td>170.000000</td>\n",
       "      <td>7.000000</td>\n",
       "      <td>15.000000</td>\n",
       "      <td>947.250000</td>\n",
       "      <td>1633.000000</td>\n",
       "      <td>3064.500000</td>\n",
       "      <td>16.000000</td>\n",
       "      <td>9.000000</td>\n",
       "      <td>16.000000</td>\n",
       "      <td>1.000000</td>\n",
       "      <td>1.000000</td>\n",
       "      <td>1.000000</td>\n",
       "      <td>2.250000</td>\n",
       "    </tr>\n",
       "    <tr>\n",
       "      <th>max</th>\n",
       "      <td>1998.000000</td>\n",
       "      <td>1.0000</td>\n",
       "      <td>3.000000</td>\n",
       "      <td>1.000000</td>\n",
       "      <td>19.000000</td>\n",
       "      <td>1.000000</td>\n",
       "      <td>64.000000</td>\n",
       "      <td>1.000000</td>\n",
       "      <td>200.000000</td>\n",
       "      <td>8.000000</td>\n",
       "      <td>20.000000</td>\n",
       "      <td>1960.000000</td>\n",
       "      <td>1998.000000</td>\n",
       "      <td>3998.000000</td>\n",
       "      <td>19.000000</td>\n",
       "      <td>18.000000</td>\n",
       "      <td>20.000000</td>\n",
       "      <td>1.000000</td>\n",
       "      <td>1.000000</td>\n",
       "      <td>1.000000</td>\n",
       "      <td>3.000000</td>\n",
       "    </tr>\n",
       "  </tbody>\n",
       "</table>\n",
       "</div>"
      ],
      "text/plain": [
       "       battery_power       blue  clock_speed     dual_sim           fc  \\\n",
       "count    2000.000000  2000.0000  2000.000000  2000.000000  2000.000000   \n",
       "mean     1238.518500     0.4950     1.522250     0.509500     4.309500   \n",
       "std       439.418206     0.5001     0.816004     0.500035     4.341444   \n",
       "min       501.000000     0.0000     0.500000     0.000000     0.000000   \n",
       "25%       851.750000     0.0000     0.700000     0.000000     1.000000   \n",
       "50%      1226.000000     0.0000     1.500000     1.000000     3.000000   \n",
       "75%      1615.250000     1.0000     2.200000     1.000000     7.000000   \n",
       "max      1998.000000     1.0000     3.000000     1.000000    19.000000   \n",
       "\n",
       "            four_g   int_memory        m_dep    mobile_wt      n_cores  \\\n",
       "count  2000.000000  2000.000000  2000.000000  2000.000000  2000.000000   \n",
       "mean      0.521500    32.046500     0.501750   140.249000     4.520500   \n",
       "std       0.499662    18.145715     0.288416    35.399655     2.287837   \n",
       "min       0.000000     2.000000     0.100000    80.000000     1.000000   \n",
       "25%       0.000000    16.000000     0.200000   109.000000     3.000000   \n",
       "50%       1.000000    32.000000     0.500000   141.000000     4.000000   \n",
       "75%       1.000000    48.000000     0.800000   170.000000     7.000000   \n",
       "max       1.000000    64.000000     1.000000   200.000000     8.000000   \n",
       "\n",
       "                pc    px_height     px_width          ram         sc_h  \\\n",
       "count  2000.000000  2000.000000  2000.000000  2000.000000  2000.000000   \n",
       "mean      9.916500   645.108000  1251.515500  2124.213000    12.306500   \n",
       "std       6.064315   443.780811   432.199447  1084.732044     4.213245   \n",
       "min       0.000000     0.000000   500.000000   256.000000     5.000000   \n",
       "25%       5.000000   282.750000   874.750000  1207.500000     9.000000   \n",
       "50%      10.000000   564.000000  1247.000000  2146.500000    12.000000   \n",
       "75%      15.000000   947.250000  1633.000000  3064.500000    16.000000   \n",
       "max      20.000000  1960.000000  1998.000000  3998.000000    19.000000   \n",
       "\n",
       "              sc_w    talk_time      three_g  touch_screen         wifi  \\\n",
       "count  2000.000000  2000.000000  2000.000000   2000.000000  2000.000000   \n",
       "mean      5.767000    11.011000     0.761500      0.503000     0.507000   \n",
       "std       4.356398     5.463955     0.426273      0.500116     0.500076   \n",
       "min       0.000000     2.000000     0.000000      0.000000     0.000000   \n",
       "25%       2.000000     6.000000     1.000000      0.000000     0.000000   \n",
       "50%       5.000000    11.000000     1.000000      1.000000     1.000000   \n",
       "75%       9.000000    16.000000     1.000000      1.000000     1.000000   \n",
       "max      18.000000    20.000000     1.000000      1.000000     1.000000   \n",
       "\n",
       "       price_range  \n",
       "count  2000.000000  \n",
       "mean      1.500000  \n",
       "std       1.118314  \n",
       "min       0.000000  \n",
       "25%       0.750000  \n",
       "50%       1.500000  \n",
       "75%       2.250000  \n",
       "max       3.000000  "
      ]
     },
     "execution_count": 216,
     "metadata": {},
     "output_type": "execute_result"
    }
   ],
   "source": [
    "data.describe()"
   ]
  },
  {
   "cell_type": "code",
   "execution_count": 217,
   "id": "7cb56f96",
   "metadata": {
    "scrolled": true
   },
   "outputs": [
    {
     "name": "stdout",
     "output_type": "stream",
     "text": [
      "<class 'pandas.core.frame.DataFrame'>\n",
      "RangeIndex: 2000 entries, 0 to 1999\n",
      "Data columns (total 21 columns):\n",
      " #   Column         Non-Null Count  Dtype  \n",
      "---  ------         --------------  -----  \n",
      " 0   battery_power  2000 non-null   int64  \n",
      " 1   blue           2000 non-null   int64  \n",
      " 2   clock_speed    2000 non-null   float64\n",
      " 3   dual_sim       2000 non-null   int64  \n",
      " 4   fc             2000 non-null   int64  \n",
      " 5   four_g         2000 non-null   int64  \n",
      " 6   int_memory     2000 non-null   int64  \n",
      " 7   m_dep          2000 non-null   float64\n",
      " 8   mobile_wt      2000 non-null   int64  \n",
      " 9   n_cores        2000 non-null   int64  \n",
      " 10  pc             2000 non-null   int64  \n",
      " 11  px_height      2000 non-null   int64  \n",
      " 12  px_width       2000 non-null   int64  \n",
      " 13  ram            2000 non-null   int64  \n",
      " 14  sc_h           2000 non-null   int64  \n",
      " 15  sc_w           2000 non-null   int64  \n",
      " 16  talk_time      2000 non-null   int64  \n",
      " 17  three_g        2000 non-null   int64  \n",
      " 18  touch_screen   2000 non-null   int64  \n",
      " 19  wifi           2000 non-null   int64  \n",
      " 20  price_range    2000 non-null   int64  \n",
      "dtypes: float64(2), int64(19)\n",
      "memory usage: 328.2 KB\n"
     ]
    }
   ],
   "source": [
    "data.info()"
   ]
  },
  {
   "cell_type": "code",
   "execution_count": 218,
   "id": "dc1cbc52",
   "metadata": {},
   "outputs": [],
   "source": [
    "train_df, test_df = train_test_split(data, test_size=0.1, random_state=42)"
   ]
  },
  {
   "cell_type": "code",
   "execution_count": 220,
   "id": "f26b1c75",
   "metadata": {},
   "outputs": [],
   "source": [
    "x_train = train_df.drop(columns=['price_range'])\n",
    "y_train = train_df['price_range']\n",
    "x_test = test_df.drop(columns=['price_range'])\n",
    "y_test = test_df['price_range']"
   ]
  },
  {
   "cell_type": "code",
   "execution_count": 221,
   "id": "6fa95d28",
   "metadata": {
    "scrolled": true
   },
   "outputs": [
    {
     "name": "stdout",
     "output_type": "stream",
     "text": [
      "<class 'pandas.core.frame.DataFrame'>\n",
      "Int64Index: 1800 entries, 1872 to 1126\n",
      "Data columns (total 20 columns):\n",
      " #   Column         Non-Null Count  Dtype  \n",
      "---  ------         --------------  -----  \n",
      " 0   battery_power  1800 non-null   int64  \n",
      " 1   blue           1800 non-null   int64  \n",
      " 2   clock_speed    1800 non-null   float64\n",
      " 3   dual_sim       1800 non-null   int64  \n",
      " 4   fc             1800 non-null   int64  \n",
      " 5   four_g         1800 non-null   int64  \n",
      " 6   int_memory     1800 non-null   int64  \n",
      " 7   m_dep          1800 non-null   float64\n",
      " 8   mobile_wt      1800 non-null   int64  \n",
      " 9   n_cores        1800 non-null   int64  \n",
      " 10  pc             1800 non-null   int64  \n",
      " 11  px_height      1800 non-null   int64  \n",
      " 12  px_width       1800 non-null   int64  \n",
      " 13  ram            1800 non-null   int64  \n",
      " 14  sc_h           1800 non-null   int64  \n",
      " 15  sc_w           1800 non-null   int64  \n",
      " 16  talk_time      1800 non-null   int64  \n",
      " 17  three_g        1800 non-null   int64  \n",
      " 18  touch_screen   1800 non-null   int64  \n",
      " 19  wifi           1800 non-null   int64  \n",
      "dtypes: float64(2), int64(18)\n",
      "memory usage: 295.3 KB\n"
     ]
    }
   ],
   "source": [
    "x_train.info()"
   ]
  },
  {
   "cell_type": "code",
   "execution_count": 222,
   "id": "593e13af",
   "metadata": {},
   "outputs": [
    {
     "name": "stdout",
     "output_type": "stream",
     "text": [
      "CPU times: total: 1min 29s\n",
      "Wall time: 40.2 s\n"
     ]
    }
   ],
   "source": [
    "%%time\n",
    "cat_columns = [1,3,5,9,17,18,19]\n",
    "cat_boost = CatBoostClassifier(verbose=False)\n",
    "cat_boost = cat_boost.fit(x_train, y_train, cat_columns)"
   ]
  },
  {
   "cell_type": "code",
   "execution_count": 223,
   "id": "b5404ee6",
   "metadata": {},
   "outputs": [],
   "source": [
    "y_pred = cat_boost.predict(x_test)"
   ]
  },
  {
   "cell_type": "code",
   "execution_count": 224,
   "id": "1e02aeda",
   "metadata": {},
   "outputs": [
    {
     "data": {
      "text/plain": [
       "0.93"
      ]
     },
     "execution_count": 224,
     "metadata": {},
     "output_type": "execute_result"
    }
   ],
   "source": [
    "accuracy_score(y_test, y_pred)"
   ]
  },
  {
   "cell_type": "markdown",
   "id": "165d9fa2",
   "metadata": {},
   "source": [
    "# stroke"
   ]
  },
  {
   "cell_type": "code",
   "execution_count": 231,
   "id": "c1f08985",
   "metadata": {},
   "outputs": [],
   "source": [
    "df_train=pd.read_csv('./data/stroke/train.csv')\n",
    "df_test=pd.read_csv('./data/stroke/test.csv')\n",
    "df_merged=pd.concat([df_train,df_test])\n",
    "df_merged=df_merged.replace('*82','82')\n",
    "data=df_merged.drop(columns=['id']).dropna()"
   ]
  },
  {
   "cell_type": "code",
   "execution_count": 232,
   "id": "598a6da8",
   "metadata": {},
   "outputs": [
    {
     "data": {
      "text/html": [
       "<div>\n",
       "<style scoped>\n",
       "    .dataframe tbody tr th:only-of-type {\n",
       "        vertical-align: middle;\n",
       "    }\n",
       "\n",
       "    .dataframe tbody tr th {\n",
       "        vertical-align: top;\n",
       "    }\n",
       "\n",
       "    .dataframe thead th {\n",
       "        text-align: right;\n",
       "    }\n",
       "</style>\n",
       "<table border=\"1\" class=\"dataframe\">\n",
       "  <thead>\n",
       "    <tr style=\"text-align: right;\">\n",
       "      <th></th>\n",
       "      <th>gender</th>\n",
       "      <th>age</th>\n",
       "      <th>hypertension</th>\n",
       "      <th>heart_disease</th>\n",
       "      <th>ever_married</th>\n",
       "      <th>work_type</th>\n",
       "      <th>Residence_type</th>\n",
       "      <th>avg_glucose_level</th>\n",
       "      <th>bmi</th>\n",
       "      <th>smoking_status</th>\n",
       "      <th>stroke</th>\n",
       "    </tr>\n",
       "  </thead>\n",
       "  <tbody>\n",
       "    <tr>\n",
       "      <th>0</th>\n",
       "      <td>Female</td>\n",
       "      <td>31</td>\n",
       "      <td>0</td>\n",
       "      <td>0</td>\n",
       "      <td>No</td>\n",
       "      <td>Govt_job</td>\n",
       "      <td>Rural</td>\n",
       "      <td>70.66</td>\n",
       "      <td>27.2</td>\n",
       "      <td>never smoked</td>\n",
       "      <td>0.0</td>\n",
       "    </tr>\n",
       "    <tr>\n",
       "      <th>1</th>\n",
       "      <td>Female</td>\n",
       "      <td>13</td>\n",
       "      <td>0</td>\n",
       "      <td>0</td>\n",
       "      <td>No</td>\n",
       "      <td>children</td>\n",
       "      <td>Rural</td>\n",
       "      <td>85.81</td>\n",
       "      <td>18.6</td>\n",
       "      <td>Unknown</td>\n",
       "      <td>0.0</td>\n",
       "    </tr>\n",
       "    <tr>\n",
       "      <th>2</th>\n",
       "      <td>Male</td>\n",
       "      <td>18</td>\n",
       "      <td>0</td>\n",
       "      <td>0</td>\n",
       "      <td>No</td>\n",
       "      <td>Private</td>\n",
       "      <td>Urban</td>\n",
       "      <td>60.56</td>\n",
       "      <td>33.0</td>\n",
       "      <td>never smoked</td>\n",
       "      <td>0.0</td>\n",
       "    </tr>\n",
       "    <tr>\n",
       "      <th>3</th>\n",
       "      <td>Female</td>\n",
       "      <td>65</td>\n",
       "      <td>0</td>\n",
       "      <td>0</td>\n",
       "      <td>Yes</td>\n",
       "      <td>Private</td>\n",
       "      <td>Urban</td>\n",
       "      <td>205.77</td>\n",
       "      <td>46.0</td>\n",
       "      <td>formerly smoked</td>\n",
       "      <td>1.0</td>\n",
       "    </tr>\n",
       "    <tr>\n",
       "      <th>4</th>\n",
       "      <td>Male</td>\n",
       "      <td>4</td>\n",
       "      <td>0</td>\n",
       "      <td>0</td>\n",
       "      <td>No</td>\n",
       "      <td>children</td>\n",
       "      <td>Rural</td>\n",
       "      <td>90.42</td>\n",
       "      <td>16.2</td>\n",
       "      <td>Unknown</td>\n",
       "      <td>0.0</td>\n",
       "    </tr>\n",
       "  </tbody>\n",
       "</table>\n",
       "</div>"
      ],
      "text/plain": [
       "   gender age  hypertension  heart_disease ever_married work_type  \\\n",
       "0  Female  31             0              0           No  Govt_job   \n",
       "1  Female  13             0              0           No  children   \n",
       "2    Male  18             0              0           No   Private   \n",
       "3  Female  65             0              0          Yes   Private   \n",
       "4    Male   4             0              0           No  children   \n",
       "\n",
       "  Residence_type  avg_glucose_level   bmi   smoking_status  stroke  \n",
       "0          Rural              70.66  27.2     never smoked     0.0  \n",
       "1          Rural              85.81  18.6          Unknown     0.0  \n",
       "2          Urban              60.56  33.0     never smoked     0.0  \n",
       "3          Urban             205.77  46.0  formerly smoked     1.0  \n",
       "4          Rural              90.42  16.2          Unknown     0.0  "
      ]
     },
     "execution_count": 232,
     "metadata": {},
     "output_type": "execute_result"
    }
   ],
   "source": [
    "data.head()"
   ]
  },
  {
   "cell_type": "code",
   "execution_count": 235,
   "id": "a50b4fd0",
   "metadata": {},
   "outputs": [
    {
     "name": "stdout",
     "output_type": "stream",
     "text": [
      "<class 'pandas.core.frame.DataFrame'>\n",
      "Int64Index: 1085 entries, 0 to 1136\n",
      "Data columns (total 11 columns):\n",
      " #   Column             Non-Null Count  Dtype  \n",
      "---  ------             --------------  -----  \n",
      " 0   gender             1085 non-null   object \n",
      " 1   age                1085 non-null   object \n",
      " 2   hypertension       1085 non-null   int64  \n",
      " 3   heart_disease      1085 non-null   int64  \n",
      " 4   ever_married       1085 non-null   object \n",
      " 5   work_type          1085 non-null   object \n",
      " 6   Residence_type     1085 non-null   object \n",
      " 7   avg_glucose_level  1085 non-null   float64\n",
      " 8   bmi                1085 non-null   float64\n",
      " 9   smoking_status     1085 non-null   object \n",
      " 10  stroke             1085 non-null   float64\n",
      "dtypes: float64(3), int64(2), object(6)\n",
      "memory usage: 101.7+ KB\n"
     ]
    }
   ],
   "source": [
    "data.info()"
   ]
  },
  {
   "cell_type": "code",
   "execution_count": 236,
   "id": "ce85fae4",
   "metadata": {},
   "outputs": [
    {
     "data": {
      "text/html": [
       "<div>\n",
       "<style scoped>\n",
       "    .dataframe tbody tr th:only-of-type {\n",
       "        vertical-align: middle;\n",
       "    }\n",
       "\n",
       "    .dataframe tbody tr th {\n",
       "        vertical-align: top;\n",
       "    }\n",
       "\n",
       "    .dataframe thead th {\n",
       "        text-align: right;\n",
       "    }\n",
       "</style>\n",
       "<table border=\"1\" class=\"dataframe\">\n",
       "  <thead>\n",
       "    <tr style=\"text-align: right;\">\n",
       "      <th></th>\n",
       "      <th>hypertension</th>\n",
       "      <th>heart_disease</th>\n",
       "      <th>avg_glucose_level</th>\n",
       "      <th>bmi</th>\n",
       "      <th>stroke</th>\n",
       "    </tr>\n",
       "  </thead>\n",
       "  <tbody>\n",
       "    <tr>\n",
       "      <th>count</th>\n",
       "      <td>1085.000000</td>\n",
       "      <td>1085.000000</td>\n",
       "      <td>1085.000000</td>\n",
       "      <td>1085.000000</td>\n",
       "      <td>1085.000000</td>\n",
       "    </tr>\n",
       "    <tr>\n",
       "      <th>mean</th>\n",
       "      <td>0.111521</td>\n",
       "      <td>0.064516</td>\n",
       "      <td>106.913945</td>\n",
       "      <td>29.198065</td>\n",
       "      <td>0.106912</td>\n",
       "    </tr>\n",
       "    <tr>\n",
       "      <th>std</th>\n",
       "      <td>0.314921</td>\n",
       "      <td>0.245783</td>\n",
       "      <td>47.168513</td>\n",
       "      <td>7.669615</td>\n",
       "      <td>0.309144</td>\n",
       "    </tr>\n",
       "    <tr>\n",
       "      <th>min</th>\n",
       "      <td>0.000000</td>\n",
       "      <td>0.000000</td>\n",
       "      <td>55.270000</td>\n",
       "      <td>11.300000</td>\n",
       "      <td>0.000000</td>\n",
       "    </tr>\n",
       "    <tr>\n",
       "      <th>25%</th>\n",
       "      <td>0.000000</td>\n",
       "      <td>0.000000</td>\n",
       "      <td>77.260000</td>\n",
       "      <td>24.100000</td>\n",
       "      <td>0.000000</td>\n",
       "    </tr>\n",
       "    <tr>\n",
       "      <th>50%</th>\n",
       "      <td>0.000000</td>\n",
       "      <td>0.000000</td>\n",
       "      <td>91.610000</td>\n",
       "      <td>28.500000</td>\n",
       "      <td>0.000000</td>\n",
       "    </tr>\n",
       "    <tr>\n",
       "      <th>75%</th>\n",
       "      <td>0.000000</td>\n",
       "      <td>0.000000</td>\n",
       "      <td>113.470000</td>\n",
       "      <td>33.200000</td>\n",
       "      <td>0.000000</td>\n",
       "    </tr>\n",
       "    <tr>\n",
       "      <th>max</th>\n",
       "      <td>1.000000</td>\n",
       "      <td>1.000000</td>\n",
       "      <td>266.590000</td>\n",
       "      <td>64.400000</td>\n",
       "      <td>1.000000</td>\n",
       "    </tr>\n",
       "  </tbody>\n",
       "</table>\n",
       "</div>"
      ],
      "text/plain": [
       "       hypertension  heart_disease  avg_glucose_level          bmi  \\\n",
       "count   1085.000000    1085.000000        1085.000000  1085.000000   \n",
       "mean       0.111521       0.064516         106.913945    29.198065   \n",
       "std        0.314921       0.245783          47.168513     7.669615   \n",
       "min        0.000000       0.000000          55.270000    11.300000   \n",
       "25%        0.000000       0.000000          77.260000    24.100000   \n",
       "50%        0.000000       0.000000          91.610000    28.500000   \n",
       "75%        0.000000       0.000000         113.470000    33.200000   \n",
       "max        1.000000       1.000000         266.590000    64.400000   \n",
       "\n",
       "            stroke  \n",
       "count  1085.000000  \n",
       "mean      0.106912  \n",
       "std       0.309144  \n",
       "min       0.000000  \n",
       "25%       0.000000  \n",
       "50%       0.000000  \n",
       "75%       0.000000  \n",
       "max       1.000000  "
      ]
     },
     "execution_count": 236,
     "metadata": {},
     "output_type": "execute_result"
    }
   ],
   "source": [
    "data.describe()"
   ]
  },
  {
   "cell_type": "code",
   "execution_count": 238,
   "id": "f3c62277",
   "metadata": {},
   "outputs": [],
   "source": [
    "int_columns = ['age', 'avg_glucose_level', 'bmi']\n",
    "data[int_columns] = data[int_columns].astype('float')"
   ]
  },
  {
   "cell_type": "code",
   "execution_count": 239,
   "id": "ccf181da",
   "metadata": {},
   "outputs": [],
   "source": [
    "train_df, test_df = train_test_split(data, test_size=0.1, random_state=42)"
   ]
  },
  {
   "cell_type": "code",
   "execution_count": 241,
   "id": "f0edfa34",
   "metadata": {
    "scrolled": true
   },
   "outputs": [],
   "source": [
    "x_train = train_df.drop(columns=['stroke'])\n",
    "y_train = train_df['stroke']\n",
    "x_test = test_df.drop(columns=['stroke'])\n",
    "y_test = test_df['stroke']"
   ]
  },
  {
   "cell_type": "code",
   "execution_count": 242,
   "id": "f466ac8c",
   "metadata": {
    "scrolled": true
   },
   "outputs": [
    {
     "name": "stdout",
     "output_type": "stream",
     "text": [
      "<class 'pandas.core.frame.DataFrame'>\n",
      "Int64Index: 976 entries, 319 to 903\n",
      "Data columns (total 10 columns):\n",
      " #   Column             Non-Null Count  Dtype  \n",
      "---  ------             --------------  -----  \n",
      " 0   gender             976 non-null    object \n",
      " 1   age                976 non-null    float64\n",
      " 2   hypertension       976 non-null    int64  \n",
      " 3   heart_disease      976 non-null    int64  \n",
      " 4   ever_married       976 non-null    object \n",
      " 5   work_type          976 non-null    object \n",
      " 6   Residence_type     976 non-null    object \n",
      " 7   avg_glucose_level  976 non-null    float64\n",
      " 8   bmi                976 non-null    float64\n",
      " 9   smoking_status     976 non-null    object \n",
      "dtypes: float64(3), int64(2), object(5)\n",
      "memory usage: 83.9+ KB\n"
     ]
    }
   ],
   "source": [
    "x_train.info()"
   ]
  },
  {
   "cell_type": "code",
   "execution_count": 243,
   "id": "efb93a73",
   "metadata": {},
   "outputs": [
    {
     "name": "stdout",
     "output_type": "stream",
     "text": [
      "CPU times: total: 1min 15s\n",
      "Wall time: 32.4 s\n"
     ]
    }
   ],
   "source": [
    "%%time\n",
    "cat_columns = [0,2,3,4,5,6,9]\n",
    "cat_boost = CatBoostClassifier(verbose=False)\n",
    "cat_boost = cat_boost.fit(x_train, y_train, cat_columns)"
   ]
  },
  {
   "cell_type": "code",
   "execution_count": 244,
   "id": "0261f985",
   "metadata": {},
   "outputs": [],
   "source": [
    "y_pred = cat_boost.predict(x_test)"
   ]
  },
  {
   "cell_type": "code",
   "execution_count": 255,
   "id": "0a2ba653",
   "metadata": {},
   "outputs": [
    {
     "data": {
      "text/plain": [
       "array([1., 0., 0., 0., 0., 0., 0., 0., 0., 0., 0., 0., 0., 0., 0., 0., 0.,\n",
       "       0., 0., 0., 0., 0., 0., 0., 0., 0., 0., 0., 0., 0., 0., 0., 0., 0.,\n",
       "       0., 0., 0., 0., 0., 0., 0., 0., 0., 0., 0., 0., 0., 0., 0., 0., 0.,\n",
       "       0., 0., 0., 0., 0., 0., 0., 0., 0., 0., 0., 0., 0., 0., 0., 0., 0.,\n",
       "       0., 0., 0., 0., 0., 0., 0., 0., 0., 1., 0., 0., 0., 0., 0., 0., 0.,\n",
       "       0., 0., 0., 0., 0., 0., 0., 0., 0., 0., 0., 0., 0., 0., 0., 0., 0.,\n",
       "       0., 0., 0., 0., 0., 0., 0.])"
      ]
     },
     "execution_count": 255,
     "metadata": {},
     "output_type": "execute_result"
    }
   ],
   "source": [
    "y_pred"
   ]
  },
  {
   "cell_type": "code",
   "execution_count": 245,
   "id": "5dfbe803",
   "metadata": {},
   "outputs": [
    {
     "data": {
      "text/plain": [
       "0.8623853211009175"
      ]
     },
     "execution_count": 245,
     "metadata": {},
     "output_type": "execute_result"
    }
   ],
   "source": [
    "accuracy_score(y_test, y_pred)"
   ]
  },
  {
   "cell_type": "code",
   "execution_count": 249,
   "id": "76adcef8",
   "metadata": {
    "scrolled": true
   },
   "outputs": [
    {
     "data": {
      "text/plain": [
       "0.9791666666666666"
      ]
     },
     "execution_count": 249,
     "metadata": {},
     "output_type": "execute_result"
    }
   ],
   "source": [
    "recall_score(y_test, y_pred, pos_label=0)"
   ]
  },
  {
   "cell_type": "code",
   "execution_count": 250,
   "id": "ebe7d1d2",
   "metadata": {},
   "outputs": [
    {
     "data": {
      "text/plain": [
       "0.8785046728971962"
      ]
     },
     "execution_count": 250,
     "metadata": {},
     "output_type": "execute_result"
    }
   ],
   "source": [
    "precision_score(y_test, y_pred, pos_label=0)"
   ]
  },
  {
   "cell_type": "code",
   "execution_count": 251,
   "id": "4ffbbaf9",
   "metadata": {},
   "outputs": [
    {
     "data": {
      "text/plain": [
       "0.9261083743842364"
      ]
     },
     "execution_count": 251,
     "metadata": {},
     "output_type": "execute_result"
    }
   ],
   "source": [
    "f1_score(y_test, y_pred, pos_label=0)"
   ]
  },
  {
   "cell_type": "markdown",
   "id": "69fbf87a",
   "metadata": {},
   "source": [
    "# tic tac toe"
   ]
  },
  {
   "cell_type": "code",
   "execution_count": 258,
   "id": "4da11d21",
   "metadata": {},
   "outputs": [],
   "source": [
    "data = pd.read_csv('./data/tic_tac_toe/clean_tic-tac-toe.csv', index_col=0)"
   ]
  },
  {
   "cell_type": "code",
   "execution_count": 259,
   "id": "22f65cc5",
   "metadata": {},
   "outputs": [
    {
     "name": "stdout",
     "output_type": "stream",
     "text": [
      "<class 'pandas.core.frame.DataFrame'>\n",
      "Int64Index: 958 entries, 0 to 957\n",
      "Data columns (total 10 columns):\n",
      " #   Column         Non-Null Count  Dtype \n",
      "---  ------         --------------  ----- \n",
      " 0   top-left       958 non-null    object\n",
      " 1   top-middle     958 non-null    object\n",
      " 2   top-right      958 non-null    object\n",
      " 3   middle-left    958 non-null    object\n",
      " 4   middle-middle  958 non-null    object\n",
      " 5   middle-right   958 non-null    object\n",
      " 6   bottom-left    958 non-null    object\n",
      " 7   bottom-middle  958 non-null    object\n",
      " 8   bottom-right   958 non-null    object\n",
      " 9   class          958 non-null    object\n",
      "dtypes: object(10)\n",
      "memory usage: 82.3+ KB\n"
     ]
    }
   ],
   "source": [
    "data.info()"
   ]
  },
  {
   "cell_type": "code",
   "execution_count": 260,
   "id": "00cd3cdd",
   "metadata": {},
   "outputs": [],
   "source": [
    "train_df, test_df = train_test_split(data, test_size=0.1, random_state=42)"
   ]
  },
  {
   "cell_type": "code",
   "execution_count": 261,
   "id": "a198d6a8",
   "metadata": {
    "scrolled": true
   },
   "outputs": [],
   "source": [
    "x_train = train_df.drop(columns=['class'])\n",
    "y_train = train_df['class']\n",
    "x_test = test_df.drop(columns=['class'])\n",
    "y_test = test_df['class']"
   ]
  },
  {
   "cell_type": "code",
   "execution_count": 263,
   "id": "803f0dd8",
   "metadata": {},
   "outputs": [
    {
     "name": "stdout",
     "output_type": "stream",
     "text": [
      "CPU times: total: 1min 33s\n",
      "Wall time: 38.7 s\n"
     ]
    }
   ],
   "source": [
    "%%time\n",
    "cat_columns = [0,1,2,3,4,5,6,7,8]\n",
    "cat_boost = CatBoostClassifier(verbose=False)\n",
    "cat_boost = cat_boost.fit(x_train, y_train, cat_columns)"
   ]
  },
  {
   "cell_type": "code",
   "execution_count": 264,
   "id": "7fcfdefa",
   "metadata": {},
   "outputs": [],
   "source": [
    "y_pred = cat_boost.predict(x_test)"
   ]
  },
  {
   "cell_type": "code",
   "execution_count": 265,
   "id": "1116bf56",
   "metadata": {},
   "outputs": [
    {
     "data": {
      "text/plain": [
       "1.0"
      ]
     },
     "execution_count": 265,
     "metadata": {},
     "output_type": "execute_result"
    }
   ],
   "source": [
    "accuracy_score(y_test, y_pred)"
   ]
  },
  {
   "cell_type": "code",
   "execution_count": 267,
   "id": "2ccf88aa",
   "metadata": {
    "scrolled": true
   },
   "outputs": [
    {
     "data": {
      "text/plain": [
       "1.0"
      ]
     },
     "execution_count": 267,
     "metadata": {},
     "output_type": "execute_result"
    }
   ],
   "source": [
    "recall_score(y_test, y_pred, pos_label='positive')"
   ]
  },
  {
   "cell_type": "code",
   "execution_count": 268,
   "id": "9c4a04fa",
   "metadata": {},
   "outputs": [
    {
     "data": {
      "text/plain": [
       "1.0"
      ]
     },
     "execution_count": 268,
     "metadata": {},
     "output_type": "execute_result"
    }
   ],
   "source": [
    "precision_score(y_test, y_pred, pos_label='positive')"
   ]
  },
  {
   "cell_type": "code",
   "execution_count": 269,
   "id": "10e47d7b",
   "metadata": {},
   "outputs": [
    {
     "data": {
      "text/plain": [
       "1.0"
      ]
     },
     "execution_count": 269,
     "metadata": {},
     "output_type": "execute_result"
    }
   ],
   "source": [
    "f1_score(y_test, y_pred, pos_label='positive')"
   ]
  },
  {
   "cell_type": "markdown",
   "id": "c9be10a2",
   "metadata": {},
   "source": [
    "# zoo"
   ]
  },
  {
   "cell_type": "code",
   "execution_count": 274,
   "id": "7ccd1b69",
   "metadata": {},
   "outputs": [],
   "source": [
    "data = pd.read_csv('./data/zoo/clean_zoo.csv', index_col=0)"
   ]
  },
  {
   "cell_type": "code",
   "execution_count": 275,
   "id": "0e77acf0",
   "metadata": {},
   "outputs": [
    {
     "name": "stdout",
     "output_type": "stream",
     "text": [
      "<class 'pandas.core.frame.DataFrame'>\n",
      "Int64Index: 101 entries, 0 to 100\n",
      "Data columns (total 17 columns):\n",
      " #   Column    Non-Null Count  Dtype\n",
      "---  ------    --------------  -----\n",
      " 0   hair      101 non-null    int64\n",
      " 1   feathers  101 non-null    int64\n",
      " 2   eggs      101 non-null    int64\n",
      " 3   milk      101 non-null    int64\n",
      " 4   airborne  101 non-null    int64\n",
      " 5   aquatic   101 non-null    int64\n",
      " 6   predator  101 non-null    int64\n",
      " 7   toothed   101 non-null    int64\n",
      " 8   backbone  101 non-null    int64\n",
      " 9   breathes  101 non-null    int64\n",
      " 10  venomous  101 non-null    int64\n",
      " 11  fins      101 non-null    int64\n",
      " 12  legs      101 non-null    int64\n",
      " 13  tail      101 non-null    int64\n",
      " 14  domestic  101 non-null    int64\n",
      " 15  catsize   101 non-null    int64\n",
      " 16  type      101 non-null    int64\n",
      "dtypes: int64(17)\n",
      "memory usage: 14.2 KB\n"
     ]
    }
   ],
   "source": [
    "data.info()"
   ]
  },
  {
   "cell_type": "code",
   "execution_count": 276,
   "id": "86296c78",
   "metadata": {},
   "outputs": [
    {
     "data": {
      "text/html": [
       "<div>\n",
       "<style scoped>\n",
       "    .dataframe tbody tr th:only-of-type {\n",
       "        vertical-align: middle;\n",
       "    }\n",
       "\n",
       "    .dataframe tbody tr th {\n",
       "        vertical-align: top;\n",
       "    }\n",
       "\n",
       "    .dataframe thead th {\n",
       "        text-align: right;\n",
       "    }\n",
       "</style>\n",
       "<table border=\"1\" class=\"dataframe\">\n",
       "  <thead>\n",
       "    <tr style=\"text-align: right;\">\n",
       "      <th></th>\n",
       "      <th>hair</th>\n",
       "      <th>feathers</th>\n",
       "      <th>eggs</th>\n",
       "      <th>milk</th>\n",
       "      <th>airborne</th>\n",
       "      <th>aquatic</th>\n",
       "      <th>predator</th>\n",
       "      <th>toothed</th>\n",
       "      <th>backbone</th>\n",
       "      <th>breathes</th>\n",
       "      <th>venomous</th>\n",
       "      <th>fins</th>\n",
       "      <th>legs</th>\n",
       "      <th>tail</th>\n",
       "      <th>domestic</th>\n",
       "      <th>catsize</th>\n",
       "      <th>type</th>\n",
       "    </tr>\n",
       "  </thead>\n",
       "  <tbody>\n",
       "    <tr>\n",
       "      <th>0</th>\n",
       "      <td>1</td>\n",
       "      <td>0</td>\n",
       "      <td>0</td>\n",
       "      <td>1</td>\n",
       "      <td>0</td>\n",
       "      <td>0</td>\n",
       "      <td>1</td>\n",
       "      <td>1</td>\n",
       "      <td>1</td>\n",
       "      <td>1</td>\n",
       "      <td>0</td>\n",
       "      <td>0</td>\n",
       "      <td>4</td>\n",
       "      <td>0</td>\n",
       "      <td>0</td>\n",
       "      <td>1</td>\n",
       "      <td>1</td>\n",
       "    </tr>\n",
       "    <tr>\n",
       "      <th>1</th>\n",
       "      <td>1</td>\n",
       "      <td>0</td>\n",
       "      <td>0</td>\n",
       "      <td>1</td>\n",
       "      <td>0</td>\n",
       "      <td>0</td>\n",
       "      <td>0</td>\n",
       "      <td>1</td>\n",
       "      <td>1</td>\n",
       "      <td>1</td>\n",
       "      <td>0</td>\n",
       "      <td>0</td>\n",
       "      <td>4</td>\n",
       "      <td>1</td>\n",
       "      <td>0</td>\n",
       "      <td>1</td>\n",
       "      <td>1</td>\n",
       "    </tr>\n",
       "    <tr>\n",
       "      <th>2</th>\n",
       "      <td>0</td>\n",
       "      <td>0</td>\n",
       "      <td>1</td>\n",
       "      <td>0</td>\n",
       "      <td>0</td>\n",
       "      <td>1</td>\n",
       "      <td>1</td>\n",
       "      <td>1</td>\n",
       "      <td>1</td>\n",
       "      <td>0</td>\n",
       "      <td>0</td>\n",
       "      <td>1</td>\n",
       "      <td>0</td>\n",
       "      <td>1</td>\n",
       "      <td>0</td>\n",
       "      <td>0</td>\n",
       "      <td>4</td>\n",
       "    </tr>\n",
       "    <tr>\n",
       "      <th>3</th>\n",
       "      <td>1</td>\n",
       "      <td>0</td>\n",
       "      <td>0</td>\n",
       "      <td>1</td>\n",
       "      <td>0</td>\n",
       "      <td>0</td>\n",
       "      <td>1</td>\n",
       "      <td>1</td>\n",
       "      <td>1</td>\n",
       "      <td>1</td>\n",
       "      <td>0</td>\n",
       "      <td>0</td>\n",
       "      <td>4</td>\n",
       "      <td>0</td>\n",
       "      <td>0</td>\n",
       "      <td>1</td>\n",
       "      <td>1</td>\n",
       "    </tr>\n",
       "    <tr>\n",
       "      <th>4</th>\n",
       "      <td>1</td>\n",
       "      <td>0</td>\n",
       "      <td>0</td>\n",
       "      <td>1</td>\n",
       "      <td>0</td>\n",
       "      <td>0</td>\n",
       "      <td>1</td>\n",
       "      <td>1</td>\n",
       "      <td>1</td>\n",
       "      <td>1</td>\n",
       "      <td>0</td>\n",
       "      <td>0</td>\n",
       "      <td>4</td>\n",
       "      <td>1</td>\n",
       "      <td>0</td>\n",
       "      <td>1</td>\n",
       "      <td>1</td>\n",
       "    </tr>\n",
       "  </tbody>\n",
       "</table>\n",
       "</div>"
      ],
      "text/plain": [
       "   hair  feathers  eggs  milk  airborne  aquatic  predator  toothed  backbone  \\\n",
       "0     1         0     0     1         0        0         1        1         1   \n",
       "1     1         0     0     1         0        0         0        1         1   \n",
       "2     0         0     1     0         0        1         1        1         1   \n",
       "3     1         0     0     1         0        0         1        1         1   \n",
       "4     1         0     0     1         0        0         1        1         1   \n",
       "\n",
       "   breathes  venomous  fins  legs  tail  domestic  catsize  type  \n",
       "0         1         0     0     4     0         0        1     1  \n",
       "1         1         0     0     4     1         0        1     1  \n",
       "2         0         0     1     0     1         0        0     4  \n",
       "3         1         0     0     4     0         0        1     1  \n",
       "4         1         0     0     4     1         0        1     1  "
      ]
     },
     "execution_count": 276,
     "metadata": {},
     "output_type": "execute_result"
    }
   ],
   "source": [
    "data.head()"
   ]
  },
  {
   "cell_type": "code",
   "execution_count": 283,
   "id": "5fc750b3",
   "metadata": {},
   "outputs": [
    {
     "data": {
      "text/html": [
       "<div>\n",
       "<style scoped>\n",
       "    .dataframe tbody tr th:only-of-type {\n",
       "        vertical-align: middle;\n",
       "    }\n",
       "\n",
       "    .dataframe tbody tr th {\n",
       "        vertical-align: top;\n",
       "    }\n",
       "\n",
       "    .dataframe thead th {\n",
       "        text-align: right;\n",
       "    }\n",
       "</style>\n",
       "<table border=\"1\" class=\"dataframe\">\n",
       "  <thead>\n",
       "    <tr style=\"text-align: right;\">\n",
       "      <th></th>\n",
       "      <th>hair</th>\n",
       "      <th>feathers</th>\n",
       "      <th>eggs</th>\n",
       "      <th>milk</th>\n",
       "      <th>airborne</th>\n",
       "      <th>aquatic</th>\n",
       "      <th>predator</th>\n",
       "      <th>toothed</th>\n",
       "      <th>backbone</th>\n",
       "      <th>breathes</th>\n",
       "      <th>venomous</th>\n",
       "      <th>fins</th>\n",
       "      <th>legs</th>\n",
       "      <th>tail</th>\n",
       "      <th>domestic</th>\n",
       "      <th>catsize</th>\n",
       "      <th>type</th>\n",
       "    </tr>\n",
       "  </thead>\n",
       "  <tbody>\n",
       "    <tr>\n",
       "      <th>count</th>\n",
       "      <td>101.000000</td>\n",
       "      <td>101.000000</td>\n",
       "      <td>101.000000</td>\n",
       "      <td>101.000000</td>\n",
       "      <td>101.000000</td>\n",
       "      <td>101.000000</td>\n",
       "      <td>101.000000</td>\n",
       "      <td>101.000000</td>\n",
       "      <td>101.000000</td>\n",
       "      <td>101.000000</td>\n",
       "      <td>101.000000</td>\n",
       "      <td>101.000000</td>\n",
       "      <td>101.000000</td>\n",
       "      <td>101.000000</td>\n",
       "      <td>101.000000</td>\n",
       "      <td>101.000000</td>\n",
       "      <td>101.000000</td>\n",
       "    </tr>\n",
       "    <tr>\n",
       "      <th>mean</th>\n",
       "      <td>0.425743</td>\n",
       "      <td>0.198020</td>\n",
       "      <td>0.584158</td>\n",
       "      <td>0.405941</td>\n",
       "      <td>0.237624</td>\n",
       "      <td>0.356436</td>\n",
       "      <td>0.554455</td>\n",
       "      <td>0.603960</td>\n",
       "      <td>0.821782</td>\n",
       "      <td>0.792079</td>\n",
       "      <td>0.079208</td>\n",
       "      <td>0.168317</td>\n",
       "      <td>2.841584</td>\n",
       "      <td>0.742574</td>\n",
       "      <td>0.128713</td>\n",
       "      <td>0.435644</td>\n",
       "      <td>2.831683</td>\n",
       "    </tr>\n",
       "    <tr>\n",
       "      <th>std</th>\n",
       "      <td>0.496921</td>\n",
       "      <td>0.400495</td>\n",
       "      <td>0.495325</td>\n",
       "      <td>0.493522</td>\n",
       "      <td>0.427750</td>\n",
       "      <td>0.481335</td>\n",
       "      <td>0.499505</td>\n",
       "      <td>0.491512</td>\n",
       "      <td>0.384605</td>\n",
       "      <td>0.407844</td>\n",
       "      <td>0.271410</td>\n",
       "      <td>0.376013</td>\n",
       "      <td>2.033385</td>\n",
       "      <td>0.439397</td>\n",
       "      <td>0.336552</td>\n",
       "      <td>0.498314</td>\n",
       "      <td>2.102709</td>\n",
       "    </tr>\n",
       "    <tr>\n",
       "      <th>min</th>\n",
       "      <td>0.000000</td>\n",
       "      <td>0.000000</td>\n",
       "      <td>0.000000</td>\n",
       "      <td>0.000000</td>\n",
       "      <td>0.000000</td>\n",
       "      <td>0.000000</td>\n",
       "      <td>0.000000</td>\n",
       "      <td>0.000000</td>\n",
       "      <td>0.000000</td>\n",
       "      <td>0.000000</td>\n",
       "      <td>0.000000</td>\n",
       "      <td>0.000000</td>\n",
       "      <td>0.000000</td>\n",
       "      <td>0.000000</td>\n",
       "      <td>0.000000</td>\n",
       "      <td>0.000000</td>\n",
       "      <td>1.000000</td>\n",
       "    </tr>\n",
       "    <tr>\n",
       "      <th>25%</th>\n",
       "      <td>0.000000</td>\n",
       "      <td>0.000000</td>\n",
       "      <td>0.000000</td>\n",
       "      <td>0.000000</td>\n",
       "      <td>0.000000</td>\n",
       "      <td>0.000000</td>\n",
       "      <td>0.000000</td>\n",
       "      <td>0.000000</td>\n",
       "      <td>1.000000</td>\n",
       "      <td>1.000000</td>\n",
       "      <td>0.000000</td>\n",
       "      <td>0.000000</td>\n",
       "      <td>2.000000</td>\n",
       "      <td>0.000000</td>\n",
       "      <td>0.000000</td>\n",
       "      <td>0.000000</td>\n",
       "      <td>1.000000</td>\n",
       "    </tr>\n",
       "    <tr>\n",
       "      <th>50%</th>\n",
       "      <td>0.000000</td>\n",
       "      <td>0.000000</td>\n",
       "      <td>1.000000</td>\n",
       "      <td>0.000000</td>\n",
       "      <td>0.000000</td>\n",
       "      <td>0.000000</td>\n",
       "      <td>1.000000</td>\n",
       "      <td>1.000000</td>\n",
       "      <td>1.000000</td>\n",
       "      <td>1.000000</td>\n",
       "      <td>0.000000</td>\n",
       "      <td>0.000000</td>\n",
       "      <td>4.000000</td>\n",
       "      <td>1.000000</td>\n",
       "      <td>0.000000</td>\n",
       "      <td>0.000000</td>\n",
       "      <td>2.000000</td>\n",
       "    </tr>\n",
       "    <tr>\n",
       "      <th>75%</th>\n",
       "      <td>1.000000</td>\n",
       "      <td>0.000000</td>\n",
       "      <td>1.000000</td>\n",
       "      <td>1.000000</td>\n",
       "      <td>0.000000</td>\n",
       "      <td>1.000000</td>\n",
       "      <td>1.000000</td>\n",
       "      <td>1.000000</td>\n",
       "      <td>1.000000</td>\n",
       "      <td>1.000000</td>\n",
       "      <td>0.000000</td>\n",
       "      <td>0.000000</td>\n",
       "      <td>4.000000</td>\n",
       "      <td>1.000000</td>\n",
       "      <td>0.000000</td>\n",
       "      <td>1.000000</td>\n",
       "      <td>4.000000</td>\n",
       "    </tr>\n",
       "    <tr>\n",
       "      <th>max</th>\n",
       "      <td>1.000000</td>\n",
       "      <td>1.000000</td>\n",
       "      <td>1.000000</td>\n",
       "      <td>1.000000</td>\n",
       "      <td>1.000000</td>\n",
       "      <td>1.000000</td>\n",
       "      <td>1.000000</td>\n",
       "      <td>1.000000</td>\n",
       "      <td>1.000000</td>\n",
       "      <td>1.000000</td>\n",
       "      <td>1.000000</td>\n",
       "      <td>1.000000</td>\n",
       "      <td>8.000000</td>\n",
       "      <td>1.000000</td>\n",
       "      <td>1.000000</td>\n",
       "      <td>1.000000</td>\n",
       "      <td>7.000000</td>\n",
       "    </tr>\n",
       "  </tbody>\n",
       "</table>\n",
       "</div>"
      ],
      "text/plain": [
       "             hair    feathers        eggs        milk    airborne     aquatic  \\\n",
       "count  101.000000  101.000000  101.000000  101.000000  101.000000  101.000000   \n",
       "mean     0.425743    0.198020    0.584158    0.405941    0.237624    0.356436   \n",
       "std      0.496921    0.400495    0.495325    0.493522    0.427750    0.481335   \n",
       "min      0.000000    0.000000    0.000000    0.000000    0.000000    0.000000   \n",
       "25%      0.000000    0.000000    0.000000    0.000000    0.000000    0.000000   \n",
       "50%      0.000000    0.000000    1.000000    0.000000    0.000000    0.000000   \n",
       "75%      1.000000    0.000000    1.000000    1.000000    0.000000    1.000000   \n",
       "max      1.000000    1.000000    1.000000    1.000000    1.000000    1.000000   \n",
       "\n",
       "         predator     toothed    backbone    breathes    venomous        fins  \\\n",
       "count  101.000000  101.000000  101.000000  101.000000  101.000000  101.000000   \n",
       "mean     0.554455    0.603960    0.821782    0.792079    0.079208    0.168317   \n",
       "std      0.499505    0.491512    0.384605    0.407844    0.271410    0.376013   \n",
       "min      0.000000    0.000000    0.000000    0.000000    0.000000    0.000000   \n",
       "25%      0.000000    0.000000    1.000000    1.000000    0.000000    0.000000   \n",
       "50%      1.000000    1.000000    1.000000    1.000000    0.000000    0.000000   \n",
       "75%      1.000000    1.000000    1.000000    1.000000    0.000000    0.000000   \n",
       "max      1.000000    1.000000    1.000000    1.000000    1.000000    1.000000   \n",
       "\n",
       "             legs        tail    domestic     catsize        type  \n",
       "count  101.000000  101.000000  101.000000  101.000000  101.000000  \n",
       "mean     2.841584    0.742574    0.128713    0.435644    2.831683  \n",
       "std      2.033385    0.439397    0.336552    0.498314    2.102709  \n",
       "min      0.000000    0.000000    0.000000    0.000000    1.000000  \n",
       "25%      2.000000    0.000000    0.000000    0.000000    1.000000  \n",
       "50%      4.000000    1.000000    0.000000    0.000000    2.000000  \n",
       "75%      4.000000    1.000000    0.000000    1.000000    4.000000  \n",
       "max      8.000000    1.000000    1.000000    1.000000    7.000000  "
      ]
     },
     "execution_count": 283,
     "metadata": {},
     "output_type": "execute_result"
    }
   ],
   "source": [
    "data.describe()"
   ]
  },
  {
   "cell_type": "code",
   "execution_count": 277,
   "id": "57be531e",
   "metadata": {
    "scrolled": true
   },
   "outputs": [
    {
     "name": "stdout",
     "output_type": "stream",
     "text": [
      "<class 'pandas.core.frame.DataFrame'>\n",
      "Int64Index: 101 entries, 0 to 100\n",
      "Data columns (total 17 columns):\n",
      " #   Column    Non-Null Count  Dtype\n",
      "---  ------    --------------  -----\n",
      " 0   hair      101 non-null    int64\n",
      " 1   feathers  101 non-null    int64\n",
      " 2   eggs      101 non-null    int64\n",
      " 3   milk      101 non-null    int64\n",
      " 4   airborne  101 non-null    int64\n",
      " 5   aquatic   101 non-null    int64\n",
      " 6   predator  101 non-null    int64\n",
      " 7   toothed   101 non-null    int64\n",
      " 8   backbone  101 non-null    int64\n",
      " 9   breathes  101 non-null    int64\n",
      " 10  venomous  101 non-null    int64\n",
      " 11  fins      101 non-null    int64\n",
      " 12  legs      101 non-null    int64\n",
      " 13  tail      101 non-null    int64\n",
      " 14  domestic  101 non-null    int64\n",
      " 15  catsize   101 non-null    int64\n",
      " 16  type      101 non-null    int64\n",
      "dtypes: int64(17)\n",
      "memory usage: 14.2 KB\n"
     ]
    }
   ],
   "source": [
    "data.info()"
   ]
  },
  {
   "cell_type": "code",
   "execution_count": 288,
   "id": "037dc327",
   "metadata": {},
   "outputs": [],
   "source": [
    "train_df, test_df = train_test_split(data, test_size=0.1, random_state=42)"
   ]
  },
  {
   "cell_type": "code",
   "execution_count": 289,
   "id": "52280b59",
   "metadata": {
    "scrolled": true
   },
   "outputs": [],
   "source": [
    "x_train = train_df.drop(columns=['type'])\n",
    "y_train = train_df['type']\n",
    "x_test = test_df.drop(columns=['type'])\n",
    "y_test = test_df['type']"
   ]
  },
  {
   "cell_type": "code",
   "execution_count": 290,
   "id": "7b87fd74",
   "metadata": {
    "scrolled": true
   },
   "outputs": [
    {
     "name": "stdout",
     "output_type": "stream",
     "text": [
      "<class 'pandas.core.frame.DataFrame'>\n",
      "Int64Index: 90 entries, 0 to 93\n",
      "Data columns (total 16 columns):\n",
      " #   Column    Non-Null Count  Dtype\n",
      "---  ------    --------------  -----\n",
      " 0   hair      90 non-null     int64\n",
      " 1   feathers  90 non-null     int64\n",
      " 2   eggs      90 non-null     int64\n",
      " 3   milk      90 non-null     int64\n",
      " 4   airborne  90 non-null     int64\n",
      " 5   aquatic   90 non-null     int64\n",
      " 6   predator  90 non-null     int64\n",
      " 7   toothed   90 non-null     int64\n",
      " 8   backbone  90 non-null     int64\n",
      " 9   breathes  90 non-null     int64\n",
      " 10  venomous  90 non-null     int64\n",
      " 11  fins      90 non-null     int64\n",
      " 12  legs      90 non-null     int64\n",
      " 13  tail      90 non-null     int64\n",
      " 14  domestic  90 non-null     int64\n",
      " 15  catsize   90 non-null     int64\n",
      "dtypes: int64(16)\n",
      "memory usage: 12.0 KB\n"
     ]
    }
   ],
   "source": [
    "x_train.info()"
   ]
  },
  {
   "cell_type": "code",
   "execution_count": 291,
   "id": "20738e5c",
   "metadata": {},
   "outputs": [
    {
     "name": "stdout",
     "output_type": "stream",
     "text": [
      "CPU times: total: 1min 33s\n",
      "Wall time: 42.6 s\n"
     ]
    }
   ],
   "source": [
    "%%time\n",
    "cat_columns = [0,1,2,3,4,5,6,7,8,9,10,11,12,13,14,15]\n",
    "cat_boost = CatBoostClassifier(verbose=False)\n",
    "cat_boost = cat_boost.fit(x_train, y_train, cat_columns)"
   ]
  },
  {
   "cell_type": "code",
   "execution_count": 292,
   "id": "f4369611",
   "metadata": {},
   "outputs": [],
   "source": [
    "y_pred = cat_boost.predict(x_test)"
   ]
  },
  {
   "cell_type": "code",
   "execution_count": 293,
   "id": "a28c0a85",
   "metadata": {
    "scrolled": true
   },
   "outputs": [
    {
     "data": {
      "text/plain": [
       "1.0"
      ]
     },
     "execution_count": 293,
     "metadata": {},
     "output_type": "execute_result"
    }
   ],
   "source": [
    "accuracy_score(y_test, y_pred)"
   ]
  }
 ],
 "metadata": {
  "kernelspec": {
   "display_name": "Python 3.9.13 ('CZ4032')",
   "language": "python",
   "name": "python3"
  },
  "language_info": {
   "codemirror_mode": {
    "name": "ipython",
    "version": 3
   },
   "file_extension": ".py",
   "mimetype": "text/x-python",
   "name": "python",
   "nbconvert_exporter": "python",
   "pygments_lexer": "ipython3",
   "version": "3.9.13"
  },
  "vscode": {
   "interpreter": {
    "hash": "b9b27be08e48c29322755f0251eb5614d5a17160f46797c7e1b02e0b37e09a34"
   }
  }
 },
 "nbformat": 4,
 "nbformat_minor": 5
}
