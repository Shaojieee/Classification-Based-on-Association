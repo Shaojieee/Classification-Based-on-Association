{
 "cells": [
  {
   "cell_type": "code",
   "execution_count": 61,
   "metadata": {},
   "outputs": [],
   "source": [
    "import pandas as pd\n",
    "import numpy as np\n",
    "from sklearn.ensemble import RandomForestClassifier\n",
    "from sklearn.model_selection import train_test_split\n",
    "from sklearn.preprocessing import OneHotEncoder\n",
    "import time\n",
    "from sklearn.metrics import accuracy_score,recall_score,precision_score,f1_score\n",
    "import warnings\n",
    "warnings.filterwarnings(\"ignore\")"
   ]
  },
  {
   "cell_type": "markdown",
   "metadata": {},
   "source": [
    "## breast_w"
   ]
  },
  {
   "cell_type": "code",
   "execution_count": 295,
   "metadata": {},
   "outputs": [
    {
     "name": "stdout",
     "output_type": "stream",
     "text": [
      "-------------Train-------------\n",
      "Accuracy: 0.9765625, Recall: 0.9491525423728814, Precision: 0.9824561403508771, F1: 0.9655172413793103, Fit Time: 0.22424983978271484\n",
      "-------------Test-------------\n",
      "Test Accuracy:0.9590643274853801, Test Recall:0.9841269841269841, Test Precision:0.9117647058823529, Test F1:0.9465648854961831 \n"
     ]
    }
   ],
   "source": [
    "df_breast_w=pd.read_csv('./data/breast_w/clean_breast_w.csv',index_col=0)\n",
    "\n",
    "train_df,test_df=train_test_split(df_breast_w,test_size=0.25,random_state=42)\n",
    "train_X = train_df[train_df.columns[0:-2]]\n",
    "train_Y = train_df[train_df.columns[-1]]\n",
    "test_X = test_df[test_df.columns[0:-2]]\n",
    "test_Y=test_df[test_df.columns[-1]]\n",
    "\n",
    "\n",
    "#Calculating Fit Time and Train Accuracy\n",
    "clf=RandomForestClassifier(max_depth=4,n_jobs=-1,random_state=41)\n",
    "start=time.time()\n",
    "clf.fit(train_X,train_Y)\n",
    "end=time.time()\n",
    "train_accuracy=accuracy_score(clf.predict(train_X),train_Y)\n",
    "train_recall=recall_score(clf.predict(train_X),train_Y,pos_label=4)\n",
    "train_precision=precision_score(clf.predict(train_X),train_Y,pos_label=4)\n",
    "train_f1=f1_score(clf.predict(train_X),train_Y,pos_label=4)\n",
    "\n",
    "#Mean Accuracy\n",
    "test_accuracy=accuracy_score(clf.predict(test_X),test_Y)\n",
    "test_recall=recall_score(clf.predict(test_X),test_Y,pos_label=4)\n",
    "test_precision=precision_score(clf.predict(test_X),test_Y,pos_label=4)\n",
    "test_f1=f1_score(clf.predict(test_X),test_Y,pos_label=4)\n",
    "print('-------------Train-------------')\n",
    "print(f'Accuracy: {train_accuracy}, Recall: {train_recall}, Precision: {train_precision}, F1: {train_f1}, Fit Time: {end-start}')\n",
    "print('-------------Test-------------')\n",
    "print(f'Test Accuracy:{test_accuracy}, Test Recall:{test_recall}, Test Precision:{test_precision}, Test F1:{test_f1} ')\n"
   ]
  },
  {
   "cell_type": "markdown",
   "metadata": {},
   "source": [
    "## Gender"
   ]
  },
  {
   "cell_type": "code",
   "execution_count": 287,
   "metadata": {},
   "outputs": [
    {
     "name": "stdout",
     "output_type": "stream",
     "text": [
      "-------------Train-------------\n",
      "Accuracy: 0.8979591836734694, Recall: 0.8571428571428571, Precision: 0.96, F1: 0.9056603773584904, Fit Time: 0.19206023216247559\n",
      "-------------Test-------------\n",
      "Accuracy:0.5882352941176471, Recall:0.5555555555555556, Precision:0.625, F1:0.5882352941176471 \n"
     ]
    }
   ],
   "source": [
    "df_gender = pd.read_csv('./data/gender/gender.csv',index_col=0)\n",
    "\n",
    "#One Hot Encoding\n",
    "encoded_df = pd.get_dummies(df_gender[df_gender.columns[0:-2]]).merge(df_gender[df_gender.columns[-1]],left_index=True,right_index=True)\n",
    "\n",
    "#Train test split\n",
    "train_df,test_df=train_test_split(encoded_df,test_size=0.25,random_state=42)\n",
    "train_X = train_df[train_df.columns[0:-2]]\n",
    "train_Y = train_df[train_df.columns[-1]]\n",
    "test_X = test_df[test_df.columns[0:-2]]\n",
    "test_Y = test_df[test_df.columns[-1]]\n",
    "\n",
    "#Calculating Fit Time and Train Accuracy\n",
    "clf=RandomForestClassifier(max_depth=4,n_jobs=-1,random_state=41)\n",
    "start=time.time()\n",
    "clf.fit(train_X,train_Y)\n",
    "end=time.time()\n",
    "train_accuracy=accuracy_score(clf.predict(train_X),train_Y)\n",
    "train_recall=recall_score(clf.predict(train_X),train_Y,pos_label='M')\n",
    "train_precision=precision_score(clf.predict(train_X),train_Y,pos_label=\"M\")\n",
    "train_f1=f1_score(clf.predict(train_X),train_Y,pos_label=\"M\")\n",
    "\n",
    "#Mean Accuracy\n",
    "test_accuracy=accuracy_score(clf.predict(test_X),test_Y)\n",
    "test_recall=recall_score(clf.predict(test_X),test_Y,pos_label=\"M\")\n",
    "test_precision=precision_score(clf.predict(test_X),test_Y,pos_label=\"M\")\n",
    "test_f1=f1_score(clf.predict(test_X),test_Y,pos_label=\"M\")\n",
    "print('-------------Train-------------')\n",
    "print(f'Accuracy: {train_accuracy}, Recall: {train_recall}, Precision: {train_precision}, F1: {train_f1}, Fit Time: {end-start}')\n",
    "print('-------------Test-------------')\n",
    "print(f'Accuracy:{test_accuracy}, Recall:{test_recall}, Precision:{test_precision}, F1:{test_f1} ')\n",
    "\n"
   ]
  },
  {
   "cell_type": "markdown",
   "metadata": {},
   "source": [
    "## German"
   ]
  },
  {
   "cell_type": "code",
   "execution_count": 284,
   "metadata": {},
   "outputs": [
    {
     "name": "stdout",
     "output_type": "stream",
     "text": [
      "-------------Train-------------\n",
      "Accuracy: 0.7466666666666667, Recall: 0.7338028169014085, Precision: 0.9980842911877394, F1: 0.8457792207792209, Fit Time: 0.19971585273742676\n",
      "-------------Test-------------\n",
      "Accuracy:0.724, Recall:0.7242798353909465, Precision:0.9887640449438202, F1:0.836104513064133 \n"
     ]
    }
   ],
   "source": [
    "df_german = pd.read_csv('./data/german/clean_german.csv',index_col=0)\n",
    "\n",
    "#One Hot Encoding & Ordinal Encoding\n",
    "encoded_df = pd.DataFrame()\n",
    "encoded_df['status_of_existing_checking_account']=df_german['status_of_existing_checking_account'].replace({\"A14\":0,\"A11\":1,\"A12\":2,\"A13\":3})\n",
    "encoded_df['duration_(months)']=df_german['duration_(months)'].replace({\"0-20\":0,\"20-40\":1,\"40-60\":2,\"60-80\":3})\n",
    "encoded_df['credit_amount']=df_german['credit_amount'].replace({'0-2500':0,'2500-5000':1,'5000-7500':2,'7500-10000':3,'10000-12500':4,'12500-15000':5,'15000-17500':6,'17500-20000':7})\n",
    "encoded_df['savings_account/bonds']=df_german['savings_account/bonds'].replace({\"A65\":0,\"A61\":1,\"A62\":2,\"A63\":3,\"A64\":4})\n",
    "encoded_df['present_employment_since']=df_german['present_employment_since'].replace({\"A71\":0,\"A72\":1,'A73':2,'A74':3,\"A75\":4})\n",
    "encoded_df['age']=df_german['age'].replace({\"10-20\":0,'20-30':1,'30-40':2,'40-50':3,'50-60':4,'60-70':5,'70-80':6})\n",
    "encoded_df['job']=df_german['job'].replace({'A171':0,\"A172\":1,'A173':2,'A174':3})\n",
    "encoded_df= encoded_df.merge(pd.get_dummies(df_german['credit_history']).merge(pd.get_dummies(df_german['purpose']),left_index=True,right_index=True).merge(pd.get_dummies(df_german['personal_status_sex']),left_index=True,right_index=True).merge(pd.get_dummies(df_german['other_debtors']),left_index=True,right_index=True).merge(pd.get_dummies(df_german['property']),left_index=True,right_index=True).merge(pd.get_dummies(df_german['other_installment_plans']),left_index=True,right_index=True).merge(pd.get_dummies(df_german['housing']),left_index=True,right_index=True).merge(pd.get_dummies(df_german['telephone']),left_index=True,right_index=True).merge(pd.get_dummies(df_german['foreign_worker']),left_index=True,right_index=True),left_index=True,right_index=True)\n",
    "encoded_df['class']=df_german['class']\n",
    "\n",
    "\n",
    "#Train test split\n",
    "train_df,test_df=train_test_split(encoded_df,test_size=0.25,random_state=42)\n",
    "train_X = train_df[train_df.columns[0:-2]]\n",
    "train_Y = train_df[train_df.columns[-1]]\n",
    "test_X = test_df[test_df.columns[0:-2]]\n",
    "test_Y = test_df[test_df.columns[-1]]\n",
    "\n",
    "#Calculating Fit Time and Train Accuracy\n",
    "clf=RandomForestClassifier(max_depth=4,n_jobs=-1,random_state=41)\n",
    "start=time.time()\n",
    "clf.fit(train_X,train_Y)\n",
    "end=time.time()\n",
    "train_accuracy=accuracy_score(clf.predict(train_X),train_Y)\n",
    "train_recall=recall_score(clf.predict(train_X),train_Y,pos_label=1)\n",
    "train_precision=precision_score(clf.predict(train_X),train_Y,pos_label=1)\n",
    "train_f1=f1_score(clf.predict(train_X),train_Y,pos_label=1)\n",
    "\n",
    "#Mean Accuracy\n",
    "test_accuracy=accuracy_score(clf.predict(test_X),test_Y)\n",
    "test_recall=recall_score(clf.predict(test_X),test_Y,pos_label=1)\n",
    "test_precision=precision_score(clf.predict(test_X),test_Y,pos_label=1)\n",
    "test_f1=f1_score(clf.predict(test_X),test_Y,pos_label=1)\n",
    "print('-------------Train-------------')\n",
    "print(f'Accuracy: {train_accuracy}, Recall: {train_recall}, Precision: {train_precision}, F1: {train_f1}, Fit Time: {end-start}')\n",
    "print('-------------Test-------------')\n",
    "print(f'Accuracy:{test_accuracy}, Recall:{test_recall}, Precision:{test_precision}, F1:{test_f1} ')\n",
    "\n"
   ]
  },
  {
   "cell_type": "markdown",
   "metadata": {},
   "source": [
    "## Hepatitis"
   ]
  },
  {
   "cell_type": "code",
   "execution_count": 283,
   "metadata": {},
   "outputs": [
    {
     "name": "stdout",
     "output_type": "stream",
     "text": [
      "-------------Train-------------\n",
      "Accuracy: 0.9666666666666667, Recall: 0.9622641509433962, Precision: 1.0, F1: 0.9807692307692307, Fit Time: 0.19133901596069336\n",
      "-------------Test-------------\n",
      "Accuracy:0.9, Recall:0.8888888888888888, Precision:1.0, F1:0.9411764705882353 \n"
     ]
    }
   ],
   "source": [
    "df_hepatitis=pd.read_csv('./data/hepatitis/clean_hepatitis.csv',index_col=0)\n",
    "\n",
    "#Ordinal Encoding\n",
    "df_hepatitis['age'] = df_hepatitis['age'].replace({\"20-30\":0,\"30-40\":1,\"40-50\":2,'50-60':3,\"60-70\":4,\"70-80\":5})\n",
    "df_hepatitis['bilirubin'] = df_hepatitis['bilirubin'].replace({'0-0.5':0,'0.5-1':1,'1-1.5':2,'1.5-2':3,'2 & Above':4})\n",
    "df_hepatitis['phosphate'] = df_hepatitis['phosphate'].replace({'0-50':0,'50-100':1,'100-150':2,'150-200':3,'200-250':4,'250 & Above':5})\n",
    "df_hepatitis['sgot'] = df_hepatitis['sgot'].replace({'0-100':0,'100-200':1,'200-300':2,'300 & Above':3})\n",
    "df_hepatitis['albumin'] = df_hepatitis['albumin'].replace({'2-2.5':0,'2.5-3':1,'3-3.5':2,'3.5-4':3,'4-4.5':4,'4.5-5':5})\n",
    "df_hepatitis['protime'] = df_hepatitis['protime'].replace({'0-20':0,'20-40':1,'40-60':2,'60-80':3,'80-100':4})\n",
    "\n",
    "#Train Test Split\n",
    "train_df,test_df = train_test_split(df_hepatitis,test_size=0.25,random_state=42)\n",
    "train_X = train_df[train_df.columns[1:]]\n",
    "train_Y = train_df[train_df.columns[0]]\n",
    "test_X = test_df[test_df.columns[1:]]\n",
    "test_Y = test_df[test_df.columns[0]]\n",
    "\n",
    "#Calculating Fit Time and Train Accuracy\n",
    "clf=RandomForestClassifier(max_depth=4,n_jobs=-1,random_state=41)\n",
    "start=time.time()\n",
    "clf.fit(train_X,train_Y)\n",
    "end=time.time()\n",
    "train_accuracy=accuracy_score(clf.predict(train_X),train_Y)\n",
    "train_recall=recall_score(clf.predict(train_X),train_Y,pos_label=2)\n",
    "train_precision=precision_score(clf.predict(train_X),train_Y,pos_label=2)\n",
    "train_f1=f1_score(clf.predict(train_X),train_Y,pos_label=2)\n",
    "\n",
    "#Mean Accuracy\n",
    "test_accuracy=accuracy_score(clf.predict(test_X),test_Y)\n",
    "test_recall=recall_score(clf.predict(test_X),test_Y,pos_label=2)\n",
    "test_precision=precision_score(clf.predict(test_X),test_Y,pos_label=2)\n",
    "test_f1=f1_score(clf.predict(test_X),test_Y,pos_label=2)\n",
    "print('-------------Train-------------')\n",
    "print(f'Accuracy: {train_accuracy}, Recall: {train_recall}, Precision: {train_precision}, F1: {train_f1}, Fit Time: {end-start}')\n",
    "print('-------------Test-------------')\n",
    "print(f'Accuracy:{test_accuracy}, Recall:{test_recall}, Precision:{test_precision}, F1:{test_f1} ')"
   ]
  },
  {
   "cell_type": "code",
   "execution_count": 206,
   "metadata": {},
   "outputs": [
    {
     "data": {
      "text/plain": [
       "2    67\n",
       "1    13\n",
       "Name: class, dtype: int64"
      ]
     },
     "execution_count": 206,
     "metadata": {},
     "output_type": "execute_result"
    }
   ],
   "source": [
    "df_hepatitis['class'].value_counts()"
   ]
  },
  {
   "cell_type": "markdown",
   "metadata": {},
   "source": [
    "## Mobile"
   ]
  },
  {
   "cell_type": "code",
   "execution_count": 296,
   "metadata": {},
   "outputs": [
    {
     "name": "stdout",
     "output_type": "stream",
     "text": [
      "-------------Train-------------\n",
      "Accuracy: 0.8073333333333333, Recall: 0.8073333333333333, Precision: 0.8073333333333333, F1: 0.8073333333333333, Fit Time: 0.19645071029663086\n",
      "-------------Test-------------\n",
      "Accuracy:0.766, Recall:0.766, Precision:0.766, F1:0.766 \n"
     ]
    }
   ],
   "source": [
    "df_mobile = pd.read_csv('./data/mobile/clean_mobile.csv',index_col=0)\n",
    "\n",
    "#Ordinal Encoding\n",
    "df_mobile['battery_power']=df_mobile['battery_power'].replace({'400-800':0,'800-1200':1,'1200-1600':2,'1600-2000':3})\n",
    "df_mobile['clock_speed']=df_mobile['clock_speed'].replace({'0.5-1.0':0,'1.0-1.5':1,'1.5-2.0':2,'2.0-2.5':3,'2.5-3.0':4})\n",
    "df_mobile['fc']=df_mobile['fc'].replace({'0.0-5.0':0,\"5.0-10.0\":1,'10.0-15.0':2,'15.0-20.0':3})\n",
    "df_mobile['int_memory']=df_mobile['int_memory'].replace({'0-20':0,'20-40':1,'40-60':2,'60-80':3})\n",
    "df_mobile['m_dep']=df_mobile['m_dep'].replace({'0-0.2':0,'0.2-0.4':1,'0.4-0.6':2,'0.6-0.8':3,'0.8-1.0':4})\n",
    "df_mobile['mobile_wt']=df_mobile['mobile_wt'].replace({'80-120':0,'120-160':1,'160-200':2})\n",
    "df_mobile['pc']=df_mobile['pc'].replace({'0.0-5.0':0,'5.0-10.0':1,'10.0-15.0':2,'15.0-20.0':3})\n",
    "df_mobile['px_height']=df_mobile['px_height'].replace({'0-500':0,'500-1000':1,'1000-1500':2,'1500-2000':3})\n",
    "df_mobile['px_width']=df_mobile['px_width'].replace({'400-800':0,'800-1200':1,'1200-1600':2,'1600-2000':3})\n",
    "df_mobile['ram']=df_mobile['ram'].replace({'0-1000':0,'1000-2000':1,'2000-3000':2,'3000-4000':3})\n",
    "df_mobile['sc_h']=df_mobile['sc_h'].replace({'5-8':0,'8-11':1,'11-14':2,'14-17':3,'17-20':4})\n",
    "df_mobile['sc_w']=df_mobile['sc_w'].replace({'0.0-5.0':0,'5.0-10.0':1,'10.0-15.0':2,'15.0-20.0':3})\n",
    "df_mobile['talk_time']=df_mobile['talk_time'].replace({'0.0-5.0':0,'5.0-10.0':1,'10.0-15.0':2,'15.0-20.0':3})\n",
    "\n",
    "#Train Test Split\n",
    "train_df,test_df = train_test_split(df_mobile,test_size=0.25,random_state=42)\n",
    "train_X = train_df[train_df.columns[0:-2]]\n",
    "train_Y = train_df[train_df.columns[-1]]\n",
    "test_X = test_df[test_df.columns[0:-2]]\n",
    "test_Y = test_df[test_df.columns[-1]]\n",
    "\n",
    "#Calculating Fit Time and Train Accuracy\n",
    "clf=RandomForestClassifier(max_depth=4,n_jobs=-1,random_state=41)\n",
    "start=time.time()\n",
    "clf.fit(train_X,train_Y)\n",
    "end=time.time()\n",
    "train_accuracy=accuracy_score(clf.predict(train_X),train_Y)\n",
    "train_recall=recall_score(clf.predict(train_X),train_Y,average='micro')\n",
    "train_precision=precision_score(clf.predict(train_X),train_Y,average='micro')\n",
    "train_f1=f1_score(clf.predict(train_X),train_Y,average='micro')\n",
    "\n",
    "#Mean Accuracy\n",
    "test_accuracy=accuracy_score(clf.predict(test_X),test_Y)\n",
    "test_recall=recall_score(clf.predict(test_X),test_Y,average='micro')\n",
    "test_precision=precision_score(clf.predict(test_X),test_Y,average='micro')\n",
    "test_f1=f1_score(clf.predict(test_X),test_Y,average='micro')\n",
    "print('-------------Train-------------')\n",
    "print(f'Accuracy: {train_accuracy}, Recall: {train_recall}, Precision: {train_precision}, F1: {train_f1}, Fit Time: {end-start}')\n",
    "print('-------------Test-------------')\n",
    "print(f'Accuracy:{test_accuracy}, Recall:{test_recall}, Precision:{test_precision}, F1:{test_f1} ')\n",
    "\n",
    "\n"
   ]
  },
  {
   "cell_type": "markdown",
   "metadata": {},
   "source": [
    "## Stroke"
   ]
  },
  {
   "cell_type": "code",
   "execution_count": 281,
   "metadata": {},
   "outputs": [
    {
     "name": "stdout",
     "output_type": "stream",
     "text": [
      "-------------Train-------------\n",
      "Accuracy: 0.8954489544895449, Recall: 0.8950617283950617, Precision: 1.0, F1: 0.9446254071661238, Fit Time: 0.21444106101989746\n",
      "-------------Test-------------\n",
      "Accuracy:0.8970588235294118, Recall:0.8970588235294118, Precision:1.0, F1:0.9457364341085273 \n"
     ]
    }
   ],
   "source": [
    "df_stroke=pd.read_csv('./data/stroke/clean_stroke.csv',index_col=0)\n",
    "\n",
    "#Ordinal Encoding/One Hot Encoding\n",
    "encoded_df = pd.DataFrame()\n",
    "df_stroke['stroke']=df_stroke['stroke'].astype('int')\n",
    "encoded_df['age']=df_stroke['age'].replace({'0-20':0,'20-40':1,'40-60':2,'60 & Above':3})\n",
    "encoded_df['ever_married']=df_stroke['ever_married'].replace({\"No\":0,'Yes':1})\n",
    "encoded_df['Residence_type']=df_stroke['Residence_type'].replace({'Rural':0,'Urban':1})\n",
    "encoded_df['avg_glucose_level']=df_stroke['avg_glucose_level'].replace({'50-100':0,'100-150':1,'150-200':2,'200-250':3,'250-300':4})\n",
    "encoded_df['bmi']=df_stroke['bmi'].replace({\"10-20\":0,'20-30':1,'30-40':2,'40-50':3,'50-60':4,'60-70':5})\n",
    "encoded_df['hypertension']=df_stroke['hypertension']\n",
    "encoded_df['heart_disease']=df_stroke['heart_disease']\n",
    "encoded_df = encoded_df.merge(pd.get_dummies(df_stroke['work_type']),left_index=True,right_index=True).merge(pd.get_dummies(df_stroke['smoking_status']),left_index=True,right_index=True).merge(df_stroke['gender'],left_index=True,right_index=True)\n",
    "encoded_df['stroke']=df_stroke['stroke']\n",
    "\n",
    "#Train test split\n",
    "train_df,test_df=train_test_split(encoded_df,test_size=0.25,random_state=42)\n",
    "train_X = train_df[train_df.columns[0:-2]]\n",
    "train_Y = train_df[train_df.columns[-1]]\n",
    "test_X = test_df[test_df.columns[0:-2]]\n",
    "test_Y = test_df[test_df.columns[-1]]\n",
    "\n",
    "#Calculating Fit Time and Train Accuracy\n",
    "clf=RandomForestClassifier(max_depth=4,n_jobs=-1,random_state=41)\n",
    "start=time.time()\n",
    "clf.fit(train_X,train_Y)\n",
    "end=time.time()\n",
    "train_accuracy=accuracy_score(clf.predict(train_X),train_Y)\n",
    "train_recall=recall_score(clf.predict(train_X),train_Y,pos_label=0)\n",
    "train_precision=precision_score(clf.predict(train_X),train_Y,pos_label=0)\n",
    "train_f1=f1_score(clf.predict(train_X),train_Y,pos_label=0)\n",
    "\n",
    "#Mean Accuracy\n",
    "test_accuracy=accuracy_score(clf.predict(test_X),test_Y)\n",
    "test_recall=recall_score(clf.predict(test_X),test_Y,pos_label=0)\n",
    "test_precision=precision_score(clf.predict(test_X),test_Y,pos_label=0)\n",
    "test_f1=f1_score(clf.predict(test_X),test_Y,pos_label=0)\n",
    "print('-------------Train-------------')\n",
    "print(f'Accuracy: {train_accuracy}, Recall: {train_recall}, Precision: {train_precision}, F1: {train_f1}, Fit Time: {end-start}')\n",
    "print('-------------Test-------------')\n",
    "print(f'Accuracy:{test_accuracy}, Recall:{test_recall}, Precision:{test_precision}, F1:{test_f1} ')\n",
    "\n",
    "\n",
    "\n"
   ]
  },
  {
   "cell_type": "code",
   "execution_count": 254,
   "metadata": {},
   "outputs": [
    {
     "data": {
      "text/plain": [
       "0    969\n",
       "1    116\n",
       "Name: stroke, dtype: int64"
      ]
     },
     "execution_count": 254,
     "metadata": {},
     "output_type": "execute_result"
    }
   ],
   "source": [
    "encoded_df['stroke'].value_counts()"
   ]
  },
  {
   "cell_type": "markdown",
   "metadata": {},
   "source": [
    "## Tic-Tac-Toe"
   ]
  },
  {
   "cell_type": "code",
   "execution_count": 280,
   "metadata": {},
   "outputs": [
    {
     "name": "stdout",
     "output_type": "stream",
     "text": [
      "-------------Train-------------\n",
      "Accuracy: 0.8161559888579387, Recall: 0.7802385008517888, Precision: 0.9934924078091106, F1: 0.8740458015267176, Fit Time: 0.1949009895324707\n",
      "-------------Test-------------\n",
      "Accuracy:0.8125, Recall:0.7941176470588235, Precision:0.9818181818181818, F1:0.8780487804878049 \n"
     ]
    }
   ],
   "source": [
    "df_ttt=pd.read_csv('./data/tic_tac_toe/clean_tic-tac-toe.csv',index_col=0)\n",
    "\n",
    "#One hot encoding\n",
    "encoded_df=pd.DataFrame()\n",
    "encoded_df['class'] = df_ttt['class']\n",
    "encoded_df = encoded_df.merge(pd.get_dummies(df_ttt['top-left']).rename(columns={'b':'tl-b','o':'tl-o','x':'tl-x'}),left_index=True,right_index=True).merge(pd.get_dummies(df_ttt['top-middle']).rename(columns={'b':'tm-b','o':'tm-o','x':'tm-x'}),left_index=True,right_index=True).merge(pd.get_dummies(df_ttt['top-right']).rename(columns={'b':'tr-b','o':'tr-o','x':'tr-x'}),left_index=True,right_index=True).merge(pd.get_dummies(df_ttt['middle-left']).rename(columns={'b':'ml-b','o':'ml-o','x':'ml-x'}),left_index=True,right_index=True).merge(pd.get_dummies(df_ttt['middle-middle']).rename(columns={'b':'mm-b','o':'mm-o','x':'mm-x'}),left_index=True,right_index=True).merge(pd.get_dummies(df_ttt['middle-right']).rename(columns={'b':'mr-b','o':'mr-o','x':'mr-x'}),left_index=True,right_index=True).merge(pd.get_dummies(df_ttt['bottom-left']).rename(columns={'b':'bl-b','o':'bl-o','x':'bl-x'}),left_index=True,right_index=True).merge(pd.get_dummies(df_ttt['bottom-middle']).rename(columns={'b':'bm-b','o':'bm-o','x':'bm-x'}),left_index=True,right_index=True).merge(pd.get_dummies(df_ttt['bottom-right']).rename(columns={'b':'br-b','o':'br-o','x':'br-x'}),left_index=True,right_index=True)\n",
    "\n",
    "#Train Test Split\n",
    "train_df,test_df = train_test_split(encoded_df,test_size=0.25,random_state=42)\n",
    "train_X = train_df[train_df.columns[1:]]\n",
    "train_Y = train_df[train_df.columns[0]]\n",
    "test_X = test_df[test_df.columns[1:]]\n",
    "test_Y = test_df[test_df.columns[0]]\n",
    "\n",
    "#Calculating Fit Time and Train Accuracy\n",
    "clf=RandomForestClassifier(max_depth=4,n_jobs=-1,random_state=41)\n",
    "start=time.time()\n",
    "clf.fit(train_X,train_Y)\n",
    "end=time.time()\n",
    "train_accuracy=accuracy_score(clf.predict(train_X),train_Y)\n",
    "train_recall=recall_score(clf.predict(train_X),train_Y,pos_label='positive')\n",
    "train_precision=precision_score(clf.predict(train_X),train_Y,pos_label='positive')\n",
    "train_f1=f1_score(clf.predict(train_X),train_Y,pos_label='positive')\n",
    "\n",
    "#Mean Accuracy\n",
    "test_accuracy=accuracy_score(clf.predict(test_X),test_Y)\n",
    "test_recall=recall_score(clf.predict(test_X),test_Y,pos_label='positive')\n",
    "test_precision=precision_score(clf.predict(test_X),test_Y,pos_label='positive')\n",
    "test_f1=f1_score(clf.predict(test_X),test_Y,pos_label='positive')\n",
    "print('-------------Train-------------')\n",
    "print(f'Accuracy: {train_accuracy}, Recall: {train_recall}, Precision: {train_precision}, F1: {train_f1}, Fit Time: {end-start}')\n",
    "print('-------------Test-------------')\n",
    "print(f'Accuracy:{test_accuracy}, Recall:{test_recall}, Precision:{test_precision}, F1:{test_f1} ')"
   ]
  },
  {
   "cell_type": "markdown",
   "metadata": {},
   "source": [
    "## Zoo"
   ]
  },
  {
   "cell_type": "code",
   "execution_count": 297,
   "metadata": {},
   "outputs": [
    {
     "name": "stdout",
     "output_type": "stream",
     "text": [
      "-------------Train-------------\n",
      "Accuracy: 1.0, Recall: 1.0, Precision: 1.0, F1: 1.0, Fit Time: 0.22010493278503418\n",
      "-------------Test-------------\n",
      "Accuracy:0.9615384615384616, Recall:0.9615384615384616, Precision:0.9615384615384616, F1:0.9615384615384616 \n"
     ]
    }
   ],
   "source": [
    "df_zoo =pd.read_csv('./data/zoo/clean_zoo.csv',index_col=0)\n",
    "\n",
    "\n",
    "#Train Test Split\n",
    "train_df,test_df = train_test_split(df_zoo,test_size=0.25,random_state=42)\n",
    "train_X = train_df[train_df.columns[0:-2]]\n",
    "train_Y = train_df[train_df.columns[-1]]\n",
    "test_X = test_df[test_df.columns[0:-2]]\n",
    "test_Y = test_df[test_df.columns[-1]]\n",
    "\n",
    "#Calculating Fit Time and Train Accuracy\n",
    "clf=RandomForestClassifier(max_depth=4,n_jobs=-1,random_state=41)\n",
    "start=time.time()\n",
    "clf.fit(train_X,train_Y)\n",
    "end=time.time()\n",
    "train_accuracy=accuracy_score(clf.predict(train_X),train_Y)\n",
    "train_recall=recall_score(clf.predict(train_X),train_Y,average='micro')\n",
    "train_precision=precision_score(clf.predict(train_X),train_Y,average='micro')\n",
    "train_f1=f1_score(clf.predict(train_X),train_Y,average='micro')\n",
    "\n",
    "#Mean Accuracy\n",
    "test_accuracy=accuracy_score(clf.predict(test_X),test_Y)\n",
    "test_recall=recall_score(clf.predict(test_X),test_Y,average='micro')\n",
    "test_precision=precision_score(clf.predict(test_X),test_Y,average='micro')\n",
    "test_f1=f1_score(clf.predict(test_X),test_Y,average='micro')\n",
    "print('-------------Train-------------')\n",
    "print(f'Accuracy: {train_accuracy}, Recall: {train_recall}, Precision: {train_precision}, F1: {train_f1}, Fit Time: {end-start}')\n",
    "print('-------------Test-------------')\n",
    "print(f'Accuracy:{test_accuracy}, Recall:{test_recall}, Precision:{test_precision}, F1:{test_f1} ')\n",
    "\n",
    "\n"
   ]
  }
 ],
 "metadata": {
  "kernelspec": {
   "display_name": "Python 3.9.13 ('CZ4032')",
   "language": "python",
   "name": "python3"
  },
  "language_info": {
   "codemirror_mode": {
    "name": "ipython",
    "version": 3
   },
   "file_extension": ".py",
   "mimetype": "text/x-python",
   "name": "python",
   "nbconvert_exporter": "python",
   "pygments_lexer": "ipython3",
   "version": "3.9.13"
  },
  "orig_nbformat": 4,
  "vscode": {
   "interpreter": {
    "hash": "b9b27be08e48c29322755f0251eb5614d5a17160f46797c7e1b02e0b37e09a34"
   }
  }
 },
 "nbformat": 4,
 "nbformat_minor": 2
}
