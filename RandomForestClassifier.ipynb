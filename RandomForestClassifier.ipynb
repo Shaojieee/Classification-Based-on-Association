{
 "cells": [
  {
   "cell_type": "code",
   "execution_count": 97,
   "metadata": {},
   "outputs": [],
   "source": [
    "import pandas as pd\n",
    "import numpy as np\n",
    "from sklearn.ensemble import RandomForestClassifier\n",
    "from sklearn.model_selection import train_test_split\n",
    "import time\n",
    "from sklearn.metrics import accuracy_score,recall_score,precision_score,f1_score\n",
    "import warnings\n",
    "warnings.filterwarnings(\"ignore\")"
   ]
  },
  {
   "cell_type": "markdown",
   "metadata": {},
   "source": [
    "## breast_w"
   ]
  },
  {
   "cell_type": "code",
   "execution_count": 98,
   "metadata": {},
   "outputs": [
    {
     "name": "stdout",
     "output_type": "stream",
     "text": [
      "-------------Train-------------\n",
      "Accuracy: 0.9788273615635179, Recall: 0.9495412844036697, Precision: 0.9904306220095693, F1: 0.9695550351288056, Fit Time: 0.19788789749145508\n",
      "-------------Test-------------\n",
      "Test Accuracy:0.9855072463768116, Test Recall:1.0, Test Precision:0.9666666666666667, Test F1:0.983050847457627 \n"
     ]
    }
   ],
   "source": [
    "df_breast_w=pd.read_csv('./data/breast_w/clean_breast_w.csv',index_col=0)\n",
    "\n",
    "train_df,test_df=train_test_split(df_breast_w,test_size=0.1,random_state=42)\n",
    "train_X = train_df[train_df.columns[0:-2]]\n",
    "train_Y = train_df[train_df.columns[-1]]\n",
    "test_X = test_df[test_df.columns[0:-2]]\n",
    "test_Y=test_df[test_df.columns[-1]]\n",
    "\n",
    "#Calculating Fit Time and Train Accuracy\n",
    "clf=RandomForestClassifier(max_depth=4,n_jobs=-1,random_state=41)\n",
    "start=time.time()\n",
    "clf.fit(train_X,train_Y)\n",
    "end=time.time()\n",
    "train_accuracy=accuracy_score(clf.predict(train_X),train_Y)\n",
    "train_recall=recall_score(clf.predict(train_X),train_Y,pos_label=4)\n",
    "train_precision=precision_score(clf.predict(train_X),train_Y,pos_label=4)\n",
    "train_f1=f1_score(clf.predict(train_X),train_Y,pos_label=4)\n",
    "\n",
    "#Mean Accuracy\n",
    "test_accuracy=accuracy_score(clf.predict(test_X),test_Y)\n",
    "test_recall=recall_score(clf.predict(test_X),test_Y,pos_label=4)\n",
    "test_precision=precision_score(clf.predict(test_X),test_Y,pos_label=4)\n",
    "test_f1=f1_score(clf.predict(test_X),test_Y,pos_label=4)\n",
    "print('-------------Train-------------')\n",
    "print(f'Accuracy: {train_accuracy}, Recall: {train_recall}, Precision: {train_precision}, F1: {train_f1}, Fit Time: {end-start}')\n",
    "print('-------------Test-------------')\n",
    "print(f'Test Accuracy:{test_accuracy}, Test Recall:{test_recall}, Test Precision:{test_precision}, Test F1:{test_f1} ')\n"
   ]
  },
  {
   "cell_type": "markdown",
   "metadata": {},
   "source": [
    "## Gender"
   ]
  },
  {
   "cell_type": "code",
   "execution_count": 99,
   "metadata": {},
   "outputs": [
    {
     "name": "stdout",
     "output_type": "stream",
     "text": [
      "-------------Train-------------\n",
      "Accuracy: 0.8813559322033898, Recall: 0.8709677419354839, Precision: 0.9, F1: 0.8852459016393444, Fit Time: 0.18668913841247559\n",
      "-------------Test-------------\n",
      "Accuracy:0.42857142857142855, Recall:0.3333333333333333, Precision:0.3333333333333333, F1:0.3333333333333333 \n"
     ]
    }
   ],
   "source": [
    "df_gender = pd.read_csv('./data/gender/gender.csv',index_col=0)\n",
    "\n",
    "#One Hot Encoding\n",
    "encoded_df = pd.get_dummies(df_gender[df_gender.columns[0:-2]]).merge(df_gender[df_gender.columns[-1]],left_index=True,right_index=True)\n",
    "\n",
    "#Train test split\n",
    "train_df,test_df=train_test_split(encoded_df,test_size=0.1,random_state=40)\n",
    "train_X = train_df[train_df.columns[0:-2]]\n",
    "train_Y = train_df[train_df.columns[-1]]\n",
    "test_X = test_df[test_df.columns[0:-2]]\n",
    "test_Y = test_df[test_df.columns[-1]]\n",
    "\n",
    "#Calculating Fit Time and Train Accuracy\n",
    "clf=RandomForestClassifier(max_depth=4,n_jobs=-1,random_state=41)\n",
    "start=time.time()\n",
    "clf.fit(train_X,train_Y)\n",
    "end=time.time()\n",
    "train_accuracy=accuracy_score(clf.predict(train_X),train_Y)\n",
    "train_recall=recall_score(clf.predict(train_X),train_Y,pos_label='M')\n",
    "train_precision=precision_score(clf.predict(train_X),train_Y,pos_label=\"M\")\n",
    "train_f1=f1_score(clf.predict(train_X),train_Y,pos_label=\"M\")\n",
    "\n",
    "#Mean Accuracy\n",
    "test_accuracy=accuracy_score(clf.predict(test_X),test_Y)\n",
    "test_recall=recall_score(clf.predict(test_X),test_Y,pos_label=\"M\")\n",
    "test_precision=precision_score(clf.predict(test_X),test_Y,pos_label=\"M\")\n",
    "test_f1=f1_score(clf.predict(test_X),test_Y,pos_label=\"M\")\n",
    "print('-------------Train-------------')\n",
    "print(f'Accuracy: {train_accuracy}, Recall: {train_recall}, Precision: {train_precision}, F1: {train_f1}, Fit Time: {end-start}')\n",
    "print('-------------Test-------------')\n",
    "print(f'Accuracy:{test_accuracy}, Recall:{test_recall}, Precision:{test_precision}, F1:{test_f1} ')\n",
    "\n"
   ]
  },
  {
   "cell_type": "markdown",
   "metadata": {},
   "source": [
    "## German"
   ]
  },
  {
   "cell_type": "code",
   "execution_count": 100,
   "metadata": {},
   "outputs": [
    {
     "name": "stdout",
     "output_type": "stream",
     "text": [
      "-------------Train-------------\n",
      "Accuracy: 0.7422222222222222, Recall: 0.7305458768873403, Precision: 1.0, F1: 0.8442953020134228, Fit Time: 0.20187067985534668\n",
      "-------------Test-------------\n",
      "Accuracy:0.78, Recall:0.7634408602150538, Precision:1.0, F1:0.8658536585365854 \n"
     ]
    }
   ],
   "source": [
    "df_german=pd.read_csv('./data/german/german.data',header=None)\n",
    "df_german.columns=['status_of_existing_checking_account duration_(months) credit_history purpose credit_amount savings_account/bonds present_employment_since installment_rate personal_status_sex other_debtors present_residence property age other_installment_plans housing number_of_existing_credits job no._of_people_being_liable_to_provide_maintenance telephone foreign_worker class']\n",
    "df_german[df_german.columns[0].split(' ')] = df_german.iloc[:,0].str.split(' ', expand=True)\n",
    "df_german.drop(df_german.columns[0], axis=1, inplace=True)\n",
    "\n",
    "df_german['age']=df_german['age'].astype('int')\n",
    "df_german['duration_(months)']=df_german['duration_(months)'].astype('int')\n",
    "df_german['credit_amount']=df_german['credit_amount'].astype('int')\n",
    "\n",
    "#One Hot Encoding & Ordinal Encoding\n",
    "encoded_df = pd.DataFrame()\n",
    "encoded_df['status_of_existing_checking_account']=df_german['status_of_existing_checking_account'].replace({\"A14\":0,\"A11\":1,\"A12\":2,\"A13\":3})\n",
    "encoded_df['savings_account/bonds']=df_german['savings_account/bonds'].replace({\"A65\":0,\"A61\":1,\"A62\":2,\"A63\":3,\"A64\":4})\n",
    "encoded_df['present_employment_since']=df_german['present_employment_since'].replace({\"A71\":0,\"A72\":1,'A73':2,'A74':3,\"A75\":4})\n",
    "encoded_df['job']=df_german['job'].replace({'A171':0,\"A172\":1,'A173':2,'A174':3})\n",
    "encoded_df['age']=df_german['age']\n",
    "encoded_df['duration_(months)']=df_german['duration_(months)']\n",
    "encoded_df['credit_amount']=df_german['duration_(months)']\n",
    "encoded_df= encoded_df.merge(pd.get_dummies(df_german['credit_history']).merge(pd.get_dummies(df_german['purpose']),left_index=True,right_index=True).merge(pd.get_dummies(df_german['personal_status_sex']),left_index=True,right_index=True).merge(pd.get_dummies(df_german['other_debtors']),left_index=True,right_index=True).merge(pd.get_dummies(df_german['property']),left_index=True,right_index=True).merge(pd.get_dummies(df_german['other_installment_plans']),left_index=True,right_index=True).merge(pd.get_dummies(df_german['housing']),left_index=True,right_index=True).merge(pd.get_dummies(df_german['telephone']),left_index=True,right_index=True).merge(pd.get_dummies(df_german['foreign_worker']),left_index=True,right_index=True),left_index=True,right_index=True)\n",
    "encoded_df['class']=df_german['class']\n",
    "\n",
    "\n",
    "#Train test split\n",
    "train_df,test_df=train_test_split(encoded_df,test_size=0.1,random_state=42)\n",
    "train_X = train_df[train_df.columns[0:-2]]\n",
    "train_Y = train_df[train_df.columns[-1]]\n",
    "test_X = test_df[test_df.columns[0:-2]]\n",
    "test_Y = test_df[test_df.columns[-1]]\n",
    "\n",
    "#Calculating Fit Time and Train Accuracy\n",
    "clf=RandomForestClassifier(max_depth=4,n_jobs=-1,random_state=41)\n",
    "start=time.time()\n",
    "clf.fit(train_X,train_Y)\n",
    "end=time.time()\n",
    "train_accuracy=accuracy_score(clf.predict(train_X),train_Y)\n",
    "train_recall=recall_score(clf.predict(train_X),train_Y,pos_label='1')\n",
    "train_precision=precision_score(clf.predict(train_X),train_Y,pos_label='1')\n",
    "train_f1=f1_score(clf.predict(train_X),train_Y,pos_label='1')\n",
    "\n",
    "#Mean Accuracy\n",
    "test_accuracy=accuracy_score(clf.predict(test_X),test_Y)\n",
    "test_recall=recall_score(clf.predict(test_X),test_Y,pos_label='1')\n",
    "test_precision=precision_score(clf.predict(test_X),test_Y,pos_label='1')\n",
    "test_f1=f1_score(clf.predict(test_X),test_Y,pos_label='1')\n",
    "print('-------------Train-------------')\n",
    "print(f'Accuracy: {train_accuracy}, Recall: {train_recall}, Precision: {train_precision}, F1: {train_f1}, Fit Time: {end-start}')\n",
    "print('-------------Test-------------')\n",
    "print(f'Accuracy:{test_accuracy}, Recall:{test_recall}, Precision:{test_precision}, F1:{test_f1} ')\n",
    "\n"
   ]
  },
  {
   "cell_type": "markdown",
   "metadata": {},
   "source": [
    "## Hepatitis"
   ]
  },
  {
   "cell_type": "code",
   "execution_count": 101,
   "metadata": {},
   "outputs": [
    {
     "name": "stdout",
     "output_type": "stream",
     "text": [
      "-------------Train-------------\n",
      "Accuracy: 0.9833333333333333, Recall: 0.9807692307692307, Precision: 1.0, F1: 0.9902912621359222, Fit Time: 0.18046808242797852\n",
      "-------------Test-------------\n",
      "Accuracy:0.9, Recall:0.8888888888888888, Precision:1.0, F1:0.9411764705882353 \n"
     ]
    }
   ],
   "source": [
    "df_hepatitis=pd.read_csv('./data/hepatitis/hepatitis.csv',header=None)\n",
    "\n",
    "df_hepatitis.columns=['class,age,sex,steroid,antivirals,fatigue,malaise,anorexia,big liver,firm liver,palpable spleen,spiders,ascites,varices,bilirubin,phosphate,sgot,albumin,protime,histology']\n",
    "df_hepatitis[df_hepatitis.columns[0].split(',')] = df_hepatitis.iloc[:,0].str.split(',', expand=True)\n",
    "df_hepatitis.drop(df_hepatitis.columns[0],axis=1,inplace=True)\n",
    "df_hepatitis=df_hepatitis.replace('?',np.nan).dropna().reset_index(drop=True)\n",
    "df_hepatitis['age']=df_hepatitis['age'].astype('int')\n",
    "df_hepatitis['phosphate']=df_hepatitis['phosphate'].astype('int')\n",
    "df_hepatitis['sgot']=df_hepatitis['sgot'].astype('int')\n",
    "df_hepatitis['albumin']=df_hepatitis['albumin'].astype('float')\n",
    "df_hepatitis['protime']=df_hepatitis['protime'].astype('float')\n",
    "df_hepatitis['bilirubin']=df_hepatitis['bilirubin'].astype('float')\n",
    "\n",
    "#Train Test Split\n",
    "train_df,test_df = train_test_split(df_hepatitis,test_size=0.25,random_state=42)\n",
    "train_X = train_df[train_df.columns[1:]]\n",
    "train_Y = train_df[train_df.columns[0]]\n",
    "test_X = test_df[test_df.columns[1:]]\n",
    "test_Y = test_df[test_df.columns[0]]\n",
    "\n",
    "#Calculating Fit Time and Train Accuracy\n",
    "clf=RandomForestClassifier(max_depth=4,n_jobs=-1,random_state=41)\n",
    "start=time.time()\n",
    "clf.fit(train_X,train_Y)\n",
    "end=time.time()\n",
    "train_accuracy=accuracy_score(clf.predict(train_X),train_Y)\n",
    "train_recall=recall_score(clf.predict(train_X),train_Y,pos_label='2')\n",
    "train_precision=precision_score(clf.predict(train_X),train_Y,pos_label='2')\n",
    "train_f1=f1_score(clf.predict(train_X),train_Y,pos_label='2')\n",
    "\n",
    "#Mean Accuracy\n",
    "test_accuracy=accuracy_score(clf.predict(test_X),test_Y)\n",
    "test_recall=recall_score(clf.predict(test_X),test_Y,pos_label='2')\n",
    "test_precision=precision_score(clf.predict(test_X),test_Y,pos_label='2')\n",
    "test_f1=f1_score(clf.predict(test_X),test_Y,pos_label='2')\n",
    "print('-------------Train-------------')\n",
    "print(f'Accuracy: {train_accuracy}, Recall: {train_recall}, Precision: {train_precision}, F1: {train_f1}, Fit Time: {end-start}')\n",
    "print('-------------Test-------------')\n",
    "print(f'Accuracy:{test_accuracy}, Recall:{test_recall}, Precision:{test_precision}, F1:{test_f1} ')"
   ]
  },
  {
   "cell_type": "markdown",
   "metadata": {},
   "source": [
    "## Mobile"
   ]
  },
  {
   "cell_type": "code",
   "execution_count": 102,
   "metadata": {},
   "outputs": [
    {
     "name": "stdout",
     "output_type": "stream",
     "text": [
      "-------------Train-------------\n",
      "Accuracy: 0.8838888888888888, Recall: 0.8838888888888888, Precision: 0.8838888888888888, F1: 0.8838888888888888, Fit Time: 0.20813989639282227\n",
      "-------------Test-------------\n",
      "Accuracy:0.875, Recall:0.875, Precision:0.875, F1:0.875 \n"
     ]
    }
   ],
   "source": [
    "df_mobile=pd.read_csv('./data/mobile/train.csv')\n",
    "\n",
    "#Train Test Split\n",
    "train_df,test_df = train_test_split(df_mobile,test_size=0.1,random_state=42)\n",
    "train_X = train_df[train_df.columns[0:-2]]\n",
    "train_Y = train_df[train_df.columns[-1]]\n",
    "test_X = test_df[test_df.columns[0:-2]]\n",
    "test_Y = test_df[test_df.columns[-1]]\n",
    "\n",
    "#Calculating Fit Time and Train Accuracy\n",
    "clf=RandomForestClassifier(max_depth=4,n_jobs=-1,random_state=41)\n",
    "start=time.time()\n",
    "clf.fit(train_X,train_Y)\n",
    "end=time.time()\n",
    "train_accuracy=accuracy_score(clf.predict(train_X),train_Y)\n",
    "train_recall=recall_score(clf.predict(train_X),train_Y,average='micro')\n",
    "train_precision=precision_score(clf.predict(train_X),train_Y,average='micro')\n",
    "train_f1=f1_score(clf.predict(train_X),train_Y,average='micro')\n",
    "\n",
    "#Mean Accuracy\n",
    "test_accuracy=accuracy_score(clf.predict(test_X),test_Y)\n",
    "test_recall=recall_score(clf.predict(test_X),test_Y,average='micro')\n",
    "test_precision=precision_score(clf.predict(test_X),test_Y,average='micro')\n",
    "test_f1=f1_score(clf.predict(test_X),test_Y,average='micro')\n",
    "print('-------------Train-------------')\n",
    "print(f'Accuracy: {train_accuracy}, Recall: {train_recall}, Precision: {train_precision}, F1: {train_f1}, Fit Time: {end-start}')\n",
    "print('-------------Test-------------')\n",
    "print(f'Accuracy:{test_accuracy}, Recall:{test_recall}, Precision:{test_precision}, F1:{test_f1} ')\n",
    "\n",
    "\n"
   ]
  },
  {
   "cell_type": "markdown",
   "metadata": {},
   "source": [
    "## Stroke"
   ]
  },
  {
   "cell_type": "code",
   "execution_count": 103,
   "metadata": {},
   "outputs": [
    {
     "name": "stdout",
     "output_type": "stream",
     "text": [
      "-------------Train-------------\n",
      "Accuracy: 0.9006147540983607, Recall: 0.9, Precision: 1.0, F1: 0.9473684210526316, Fit Time: 0.19915413856506348\n",
      "-------------Test-------------\n",
      "Accuracy:0.8807339449541285, Recall:0.8807339449541285, Precision:1.0, F1:0.9365853658536586 \n"
     ]
    }
   ],
   "source": [
    "df_stroke=pd.read_csv('./data/stroke/clean_stroke.csv',index_col=0)\n",
    "\n",
    "df_train=pd.read_csv('./data/stroke/train.csv')\n",
    "df_test=pd.read_csv('./data/stroke/test.csv')\n",
    "df_stroke=pd.concat([df_train,df_test])\n",
    "# Drop all rows with Nan values and id column\n",
    "df_stroke=df_stroke.drop(columns=['id']).dropna()\n",
    "\n",
    "df_stroke=df_stroke.replace('*82','82')\n",
    "\n",
    "#Converting data type from string to numerical\n",
    "df_stroke['age']=df_stroke['age'].astype('int')\n",
    "\n",
    "#Ordinal Encoding/One Hot Encoding\n",
    "encoded_df = pd.DataFrame()\n",
    "encoded_df['ever_married']=df_stroke['ever_married'].replace({\"No\":0,'Yes':1})\n",
    "encoded_df['Residence_type']=df_stroke['Residence_type'].replace({'Rural':0,'Urban':1})\n",
    "encoded_df['hypertension']=df_stroke['hypertension']\n",
    "encoded_df['heart_disease']=df_stroke['heart_disease']\n",
    "encoded_df['age']=df_stroke['age']\n",
    "encoded_df['avg_glucose_level']=df_stroke['avg_glucose_level']\n",
    "encoded_df['bmi']=df_stroke['bmi']\n",
    "\n",
    "encoded_df = encoded_df.merge(pd.get_dummies(df_stroke['work_type']),left_index=True,right_index=True).merge(pd.get_dummies(df_stroke['smoking_status']),left_index=True,right_index=True).merge(df_stroke['gender'],left_index=True,right_index=True)\n",
    "encoded_df['stroke']=df_stroke['stroke']\n",
    "\n",
    "#Train test split\n",
    "train_df,test_df=train_test_split(encoded_df,test_size=0.1,random_state=42)\n",
    "train_X = train_df[train_df.columns[0:-2]]\n",
    "train_Y = train_df[train_df.columns[-1]]\n",
    "test_X = test_df[test_df.columns[0:-2]]\n",
    "test_Y = test_df[test_df.columns[-1]]\n",
    "\n",
    "#Calculating Fit Time and Train Accuracy\n",
    "clf=RandomForestClassifier(max_depth=4,n_jobs=-1,random_state=41)\n",
    "start=time.time()\n",
    "clf.fit(train_X,train_Y)\n",
    "end=time.time()\n",
    "train_accuracy=accuracy_score(clf.predict(train_X),train_Y)\n",
    "train_recall=recall_score(clf.predict(train_X),train_Y,pos_label=0)\n",
    "train_precision=precision_score(clf.predict(train_X),train_Y,pos_label=0)\n",
    "train_f1=f1_score(clf.predict(train_X),train_Y,pos_label=0)\n",
    "\n",
    "#Mean Accuracy\n",
    "test_accuracy=accuracy_score(clf.predict(test_X),test_Y)\n",
    "test_recall=recall_score(clf.predict(test_X),test_Y,pos_label=0)\n",
    "test_precision=precision_score(clf.predict(test_X),test_Y,pos_label=0)\n",
    "test_f1=f1_score(clf.predict(test_X),test_Y,pos_label=0)\n",
    "print('-------------Train-------------')\n",
    "print(f'Accuracy: {train_accuracy}, Recall: {train_recall}, Precision: {train_precision}, F1: {train_f1}, Fit Time: {end-start}')\n",
    "print('-------------Test-------------')\n",
    "print(f'Accuracy:{test_accuracy}, Recall:{test_recall}, Precision:{test_precision}, F1:{test_f1} ')"
   ]
  },
  {
   "cell_type": "markdown",
   "metadata": {},
   "source": [
    "## Tic-Tac-Toe"
   ]
  },
  {
   "cell_type": "code",
   "execution_count": 104,
   "metadata": {},
   "outputs": [
    {
     "name": "stdout",
     "output_type": "stream",
     "text": [
      "-------------Train-------------\n",
      "Accuracy: 0.814385150812065, Recall: 0.7808599167822469, Precision: 0.9964601769911504, F1: 0.8755832037325038, Fit Time: 0.2004082202911377\n",
      "-------------Test-------------\n",
      "Accuracy:0.7291666666666666, Recall:0.7108433734939759, Precision:0.9672131147540983, F1:0.8194444444444444 \n"
     ]
    }
   ],
   "source": [
    "df_ttt=pd.read_csv('./data/tic_tac_toe/clean_tic-tac-toe.csv',index_col=0)\n",
    "\n",
    "#One hot encoding\n",
    "encoded_df=pd.DataFrame()\n",
    "encoded_df['class'] = df_ttt['class']\n",
    "encoded_df = encoded_df.merge(pd.get_dummies(df_ttt['top-left']).rename(columns={'b':'tl-b','o':'tl-o','x':'tl-x'}),left_index=True,right_index=True).merge(pd.get_dummies(df_ttt['top-middle']).rename(columns={'b':'tm-b','o':'tm-o','x':'tm-x'}),left_index=True,right_index=True).merge(pd.get_dummies(df_ttt['top-right']).rename(columns={'b':'tr-b','o':'tr-o','x':'tr-x'}),left_index=True,right_index=True).merge(pd.get_dummies(df_ttt['middle-left']).rename(columns={'b':'ml-b','o':'ml-o','x':'ml-x'}),left_index=True,right_index=True).merge(pd.get_dummies(df_ttt['middle-middle']).rename(columns={'b':'mm-b','o':'mm-o','x':'mm-x'}),left_index=True,right_index=True).merge(pd.get_dummies(df_ttt['middle-right']).rename(columns={'b':'mr-b','o':'mr-o','x':'mr-x'}),left_index=True,right_index=True).merge(pd.get_dummies(df_ttt['bottom-left']).rename(columns={'b':'bl-b','o':'bl-o','x':'bl-x'}),left_index=True,right_index=True).merge(pd.get_dummies(df_ttt['bottom-middle']).rename(columns={'b':'bm-b','o':'bm-o','x':'bm-x'}),left_index=True,right_index=True).merge(pd.get_dummies(df_ttt['bottom-right']).rename(columns={'b':'br-b','o':'br-o','x':'br-x'}),left_index=True,right_index=True)\n",
    "\n",
    "#Train Test Split\n",
    "train_df,test_df = train_test_split(encoded_df,test_size=0.1,random_state=42)\n",
    "train_X = train_df[train_df.columns[1:]]\n",
    "train_Y = train_df[train_df.columns[0]]\n",
    "test_X = test_df[test_df.columns[1:]]\n",
    "test_Y = test_df[test_df.columns[0]]\n",
    "\n",
    "#Calculating Fit Time and Train Accuracy\n",
    "clf=RandomForestClassifier(max_depth=4,n_jobs=-1,random_state=41)\n",
    "start=time.time()\n",
    "clf.fit(train_X,train_Y)\n",
    "end=time.time()\n",
    "train_accuracy=accuracy_score(clf.predict(train_X),train_Y)\n",
    "train_recall=recall_score(clf.predict(train_X),train_Y,pos_label='positive')\n",
    "train_precision=precision_score(clf.predict(train_X),train_Y,pos_label='positive')\n",
    "train_f1=f1_score(clf.predict(train_X),train_Y,pos_label='positive')\n",
    "\n",
    "#Mean Accuracy\n",
    "test_accuracy=accuracy_score(clf.predict(test_X),test_Y)\n",
    "test_recall=recall_score(clf.predict(test_X),test_Y,pos_label='positive')\n",
    "test_precision=precision_score(clf.predict(test_X),test_Y,pos_label='positive')\n",
    "test_f1=f1_score(clf.predict(test_X),test_Y,pos_label='positive')\n",
    "print('-------------Train-------------')\n",
    "print(f'Accuracy: {train_accuracy}, Recall: {train_recall}, Precision: {train_precision}, F1: {train_f1}, Fit Time: {end-start}')\n",
    "print('-------------Test-------------')\n",
    "print(f'Accuracy:{test_accuracy}, Recall:{test_recall}, Precision:{test_precision}, F1:{test_f1} ')"
   ]
  },
  {
   "cell_type": "markdown",
   "metadata": {},
   "source": [
    "## Zoo"
   ]
  },
  {
   "cell_type": "code",
   "execution_count": 105,
   "metadata": {},
   "outputs": [
    {
     "name": "stdout",
     "output_type": "stream",
     "text": [
      "-------------Train-------------\n",
      "Accuracy: 1.0, Recall: 1.0, Precision: 1.0, F1: 1.0, Fit Time: 0.18548035621643066\n",
      "-------------Test-------------\n",
      "Accuracy:1.0, Recall:1.0, Precision:1.0, F1:1.0 \n"
     ]
    }
   ],
   "source": [
    "df_zoo =pd.read_csv('./data/zoo/clean_zoo.csv',index_col=0)\n",
    "\n",
    "\n",
    "#Train Test Split\n",
    "train_df,test_df = train_test_split(df_zoo,test_size=0.1,random_state=42)\n",
    "train_X = train_df[train_df.columns[0:-2]]\n",
    "train_Y = train_df[train_df.columns[-1]]\n",
    "test_X = test_df[test_df.columns[0:-2]]\n",
    "test_Y = test_df[test_df.columns[-1]]\n",
    "\n",
    "#Calculating Fit Time and Train Accuracy\n",
    "clf=RandomForestClassifier(max_depth=4,n_jobs=-1,random_state=41)\n",
    "start=time.time()\n",
    "clf.fit(train_X,train_Y)\n",
    "end=time.time()\n",
    "train_accuracy=accuracy_score(clf.predict(train_X),train_Y)\n",
    "train_recall=recall_score(clf.predict(train_X),train_Y,average='micro')\n",
    "train_precision=precision_score(clf.predict(train_X),train_Y,average='micro')\n",
    "train_f1=f1_score(clf.predict(train_X),train_Y,average='micro')\n",
    "\n",
    "#Mean Accuracy\n",
    "test_accuracy=accuracy_score(clf.predict(test_X),test_Y)\n",
    "test_recall=recall_score(clf.predict(test_X),test_Y,average='micro')\n",
    "test_precision=precision_score(clf.predict(test_X),test_Y,average='micro')\n",
    "test_f1=f1_score(clf.predict(test_X),test_Y,average='micro')\n",
    "print('-------------Train-------------')\n",
    "print(f'Accuracy: {train_accuracy}, Recall: {train_recall}, Precision: {train_precision}, F1: {train_f1}, Fit Time: {end-start}')\n",
    "print('-------------Test-------------')\n",
    "print(f'Accuracy:{test_accuracy}, Recall:{test_recall}, Precision:{test_precision}, F1:{test_f1} ')\n",
    "\n",
    "\n"
   ]
  },
  {
   "cell_type": "code",
   "execution_count": null,
   "metadata": {},
   "outputs": [],
   "source": []
  }
 ],
 "metadata": {
  "kernelspec": {
   "display_name": "Python 3.9.13 ('CZ4032')",
   "language": "python",
   "name": "python3"
  },
  "language_info": {
   "codemirror_mode": {
    "name": "ipython",
    "version": 3
   },
   "file_extension": ".py",
   "mimetype": "text/x-python",
   "name": "python",
   "nbconvert_exporter": "python",
   "pygments_lexer": "ipython3",
   "version": "3.9.13"
  },
  "orig_nbformat": 4,
  "vscode": {
   "interpreter": {
    "hash": "b9b27be08e48c29322755f0251eb5614d5a17160f46797c7e1b02e0b37e09a34"
   }
  }
 },
 "nbformat": 4,
 "nbformat_minor": 2
}
